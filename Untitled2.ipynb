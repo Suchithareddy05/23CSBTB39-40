{
  "nbformat": 4,
  "nbformat_minor": 0,
  "metadata": {
    "colab": {
      "provenance": [],
      "authorship_tag": "ABX9TyPmEF+TrBWNe6aCd4TL8XYn",
      "include_colab_link": true
    },
    "kernelspec": {
      "name": "python3",
      "display_name": "Python 3"
    },
    "language_info": {
      "name": "python"
    }
  },
  "cells": [
    {
      "cell_type": "markdown",
      "metadata": {
        "id": "view-in-github",
        "colab_type": "text"
      },
      "source": [
        "<a href=\"https://colab.research.google.com/github/Suchithareddy05/23CSBTB39-40/blob/main/Untitled2.ipynb\" target=\"_parent\"><img src=\"https://colab.research.google.com/assets/colab-badge.svg\" alt=\"Open In Colab\"/></a>"
      ]
    },
    {
      "cell_type": "markdown",
      "source": [
        "Part1-Implement Basic Data Structures using Numpy,panda"
      ],
      "metadata": {
        "id": "NXxOFyF1CfFr"
      }
    },
    {
      "cell_type": "code",
      "execution_count": 2,
      "metadata": {
        "colab": {
          "base_uri": "https://localhost:8080/"
        },
        "id": "xG-zNlAe-tsy",
        "outputId": "8680775f-ce39-4a21-d1b3-f3281740b598"
      },
      "outputs": [
        {
          "output_type": "stream",
          "name": "stdout",
          "text": [
            "array1 [1 5 2 4 7]\n",
            "array2 [10  5  3  9  7]\n"
          ]
        }
      ],
      "source": [
        "import numpy as np\n",
        "import pandas as pd\n",
        "array1=np.array([1,5,2,4,7])\n",
        "array2=np.array([10,5,3,9,7])\n",
        "print(\"array1\",array1)\n",
        "print(\"array2\",array2)"
      ]
    }
  ]
}