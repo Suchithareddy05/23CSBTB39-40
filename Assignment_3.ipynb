{
  "cells": [
    {
      "cell_type": "markdown",
      "metadata": {
        "id": "view-in-github",
        "colab_type": "text"
      },
      "source": [
        "<a href=\"https://colab.research.google.com/github/Suchithareddy05/23CSBTB39-40/blob/main/Assignment_3.ipynb\" target=\"_parent\"><img src=\"https://colab.research.google.com/assets/colab-badge.svg\" alt=\"Open In Colab\"/></a>"
      ]
    },
    {
      "cell_type": "code",
      "source": [
        "import pandas as pd\n",
        "import numpy as np\n",
        "import matplotlib.pyplot as plt\n",
        "import seaborn as sns"
      ],
      "metadata": {
        "id": "yUvxvhlyBHTR"
      },
      "id": "yUvxvhlyBHTR",
      "execution_count": null,
      "outputs": []
    },
    {
      "cell_type": "code",
      "execution_count": null,
      "id": "2f461694",
      "metadata": {
        "id": "2f461694"
      },
      "outputs": [],
      "source": []
    },
    {
      "cell_type": "code",
      "execution_count": null,
      "id": "7b435ca8",
      "metadata": {
        "id": "7b435ca8"
      },
      "outputs": [],
      "source": [
        "iris_txt = pd.read_csv('Iris_data_sample.txt', delimiter='\\t')\n",
        "iris_txt.head()"
      ]
    },
    {
      "cell_type": "code",
      "execution_count": null,
      "id": "c9663f13",
      "metadata": {
        "id": "c9663f13"
      },
      "outputs": [],
      "source": [
        "income = pd.read_csv('income(1).csv')\n",
        "income.columns"
      ]
    },
    {
      "cell_type": "code",
      "execution_count": null,
      "id": "6ccf8ebd",
      "metadata": {
        "id": "6ccf8ebd"
      },
      "outputs": [],
      "source": [
        "ghi = pd.read_csv('GHI_Report_.csv')\n",
        "ghi.isnull().sum()"
      ]
    },
    {
      "cell_type": "code",
      "execution_count": null,
      "id": "974a5339",
      "metadata": {
        "id": "974a5339"
      },
      "outputs": [],
      "source": [
        "df_txt = pd.read_csv('Iris_data_sample.txt', delimiter='\\t')\n",
        "df_txt.to_csv('converted_iris.csv', index=False)"
      ]
    },
    {
      "cell_type": "code",
      "execution_count": null,
      "id": "39bc0093",
      "metadata": {
        "colab": {
          "base_uri": "https://localhost:8080/"
        },
        "id": "39bc0093",
        "outputId": "a12d5cd6-372c-4d34-baf9-afeb361bf6f5"
      },
      "outputs": [
        {
          "output_type": "stream",
          "name": "stdout",
          "text": [
            ".csv: Comma-separated values\n",
            ".xlsx: Excel format with support for formulas\n",
            ".txt: Plain text format with custom delimiters\n"
          ]
        }
      ],
      "source": [
        "print('.csv: Comma-separated values\\n.xlsx: Excel format with support for formulas\\n.txt: Plain text format with custom delimiters')"
      ]
    },
    {
      "cell_type": "code",
      "execution_count": null,
      "id": "a8639dfe",
      "metadata": {
        "id": "a8639dfe"
      },
      "outputs": [],
      "source": [
        "def check_missing(df):\n",
        "    return df.isnull().sum()"
      ]
    },
    {
      "cell_type": "code",
      "execution_count": null,
      "id": "3b2813f9",
      "metadata": {
        "colab": {
          "base_uri": "https://localhost:8080/",
          "height": 165
        },
        "id": "3b2813f9",
        "outputId": "435ef3b2-9738-4df7-a33b-cfd21406dfc2"
      },
      "outputs": [
        {
          "output_type": "error",
          "ename": "NameError",
          "evalue": "name 'pd' is not defined",
          "traceback": [
            "\u001b[0;31m---------------------------------------------------------------------------\u001b[0m",
            "\u001b[0;31mNameError\u001b[0m                                 Traceback (most recent call last)",
            "\u001b[0;32m<ipython-input-4-7dd2f6cbc765>\u001b[0m in \u001b[0;36m<cell line: 0>\u001b[0;34m()\u001b[0m\n\u001b[0;32m----> 1\u001b[0;31m \u001b[0mservice\u001b[0m \u001b[0;34m=\u001b[0m \u001b[0mpd\u001b[0m\u001b[0;34m.\u001b[0m\u001b[0mread_csv\u001b[0m\u001b[0;34m(\u001b[0m\u001b[0;34m'ServiceTrain_.csv'\u001b[0m\u001b[0;34m)\u001b[0m\u001b[0;34m\u001b[0m\u001b[0;34m\u001b[0m\u001b[0m\n\u001b[0m\u001b[1;32m      2\u001b[0m \u001b[0mservice\u001b[0m\u001b[0;34m[\u001b[0m\u001b[0mservice\u001b[0m\u001b[0;34m.\u001b[0m\u001b[0misnull\u001b[0m\u001b[0;34m(\u001b[0m\u001b[0;34m)\u001b[0m\u001b[0;34m.\u001b[0m\u001b[0many\u001b[0m\u001b[0;34m(\u001b[0m\u001b[0maxis\u001b[0m\u001b[0;34m=\u001b[0m\u001b[0;36m1\u001b[0m\u001b[0;34m)\u001b[0m\u001b[0;34m]\u001b[0m\u001b[0;34m\u001b[0m\u001b[0;34m\u001b[0m\u001b[0m\n",
            "\u001b[0;31mNameError\u001b[0m: name 'pd' is not defined"
          ]
        }
      ],
      "source": [
        "service = pd.read_csv('ServiceTrain_.csv')\n",
        "service[service.isnull().any(axis=1)]"
      ]
    },
    {
      "cell_type": "code",
      "execution_count": null,
      "id": "4d01e82c",
      "metadata": {
        "colab": {
          "base_uri": "https://localhost:8080/",
          "height": 201
        },
        "id": "4d01e82c",
        "outputId": "d5e40f9c-bf83-42ad-e590-a0583d39bb64"
      },
      "outputs": [
        {
          "output_type": "error",
          "ename": "NameError",
          "evalue": "name 'pd' is not defined",
          "traceback": [
            "\u001b[0;31m---------------------------------------------------------------------------\u001b[0m",
            "\u001b[0;31mNameError\u001b[0m                                 Traceback (most recent call last)",
            "\u001b[0;32m<ipython-input-5-f477c48a13db>\u001b[0m in \u001b[0;36m<cell line: 0>\u001b[0;34m()\u001b[0m\n\u001b[0;32m----> 1\u001b[0;31m \u001b[0mcars\u001b[0m \u001b[0;34m=\u001b[0m \u001b[0mpd\u001b[0m\u001b[0;34m.\u001b[0m\u001b[0mread_csv\u001b[0m\u001b[0;34m(\u001b[0m\u001b[0;34m'cars_sampled.csv'\u001b[0m\u001b[0;34m)\u001b[0m\u001b[0;34m\u001b[0m\u001b[0;34m\u001b[0m\u001b[0m\n\u001b[0m\u001b[1;32m      2\u001b[0m \u001b[0;31m# Displaying the columns to help identify the correct column names.\u001b[0m\u001b[0;34m\u001b[0m\u001b[0;34m\u001b[0m\u001b[0m\n\u001b[1;32m      3\u001b[0m \u001b[0mprint\u001b[0m\u001b[0;34m(\u001b[0m\u001b[0;34m\"Available columns:\"\u001b[0m\u001b[0;34m,\u001b[0m \u001b[0mcars\u001b[0m\u001b[0;34m.\u001b[0m\u001b[0mcolumns\u001b[0m\u001b[0;34m.\u001b[0m\u001b[0mtolist\u001b[0m\u001b[0;34m(\u001b[0m\u001b[0;34m)\u001b[0m\u001b[0;34m)\u001b[0m\u001b[0;34m\u001b[0m\u001b[0;34m\u001b[0m\u001b[0m\n\u001b[1;32m      4\u001b[0m \u001b[0mcars\u001b[0m\u001b[0;34m.\u001b[0m\u001b[0mhead\u001b[0m\u001b[0;34m(\u001b[0m\u001b[0;34m)\u001b[0m\u001b[0;34m\u001b[0m\u001b[0;34m\u001b[0m\u001b[0m\n",
            "\u001b[0;31mNameError\u001b[0m: name 'pd' is not defined"
          ]
        }
      ],
      "source": [
        "cars = pd.read_csv('cars_sampled.csv')\n",
        "# Displaying the columns to help identify the correct column names.\n",
        "print(\"Available columns:\", cars.columns.tolist())\n",
        "cars.head()"
      ]
    },
    {
      "cell_type": "code",
      "execution_count": null,
      "id": "91a8494e",
      "metadata": {
        "id": "91a8494e"
      },
      "outputs": [],
      "source": [
        "toyota.select_dtypes(include=np.number), toyota.select_dtypes(include='object')"
      ]
    },
    {
      "cell_type": "code",
      "execution_count": null,
      "id": "380e10fb",
      "metadata": {
        "id": "380e10fb"
      },
      "outputs": [],
      "source": [
        "# Already replaced above."
      ]
    },
    {
      "cell_type": "code",
      "execution_count": null,
      "id": "f5b519fa",
      "metadata": {
        "id": "f5b519fa",
        "outputId": "362bc385-da9f-4191-d0f7-27bd5151f59b",
        "colab": {
          "base_uri": "https://localhost:8080/",
          "height": 165
        }
      },
      "outputs": [
        {
          "output_type": "error",
          "ename": "NameError",
          "evalue": "name 'pd' is not defined",
          "traceback": [
            "\u001b[0;31m---------------------------------------------------------------------------\u001b[0m",
            "\u001b[0;31mNameError\u001b[0m                                 Traceback (most recent call last)",
            "\u001b[0;32m<ipython-input-6-9ee7bc3ac55e>\u001b[0m in \u001b[0;36m<cell line: 0>\u001b[0;34m()\u001b[0m\n\u001b[0;32m----> 1\u001b[0;31m \u001b[0miris_df\u001b[0m \u001b[0;34m=\u001b[0m \u001b[0mpd\u001b[0m\u001b[0;34m.\u001b[0m\u001b[0mread_csv\u001b[0m\u001b[0;34m(\u001b[0m\u001b[0;34m'Iris_data_sample.csv'\u001b[0m\u001b[0;34m)\u001b[0m\u001b[0;34m\u001b[0m\u001b[0;34m\u001b[0m\u001b[0m\n\u001b[0m\u001b[1;32m      2\u001b[0m \u001b[0miris_copy\u001b[0m \u001b[0;34m=\u001b[0m \u001b[0miris_df\u001b[0m\u001b[0;34m.\u001b[0m\u001b[0mcopy\u001b[0m\u001b[0;34m(\u001b[0m\u001b[0mdeep\u001b[0m\u001b[0;34m=\u001b[0m\u001b[0;32mTrue\u001b[0m\u001b[0;34m)\u001b[0m\u001b[0;34m\u001b[0m\u001b[0;34m\u001b[0m\u001b[0m\n",
            "\u001b[0;31mNameError\u001b[0m: name 'pd' is not defined"
          ]
        }
      ],
      "source": [
        "iris_df = pd.read_csv('Iris_data_sample.csv')\n",
        "iris_copy = iris_df.copy(deep=True)"
      ]
    },
    {
      "cell_type": "code",
      "execution_count": null,
      "id": "b0848e19",
      "metadata": {
        "id": "b0848e19"
      },
      "outputs": [],
      "source": [
        "toyota.info()\n",
        "toyota.describe()"
      ]
    },
    {
      "cell_type": "code",
      "execution_count": null,
      "id": "8c732da7",
      "metadata": {
        "colab": {
          "base_uri": "https://localhost:8080/",
          "height": 219
        },
        "id": "8c732da7",
        "outputId": "30095bde-3d9c-4b0a-d816-678d993168c4"
      },
      "outputs": [
        {
          "output_type": "error",
          "ename": "NameError",
          "evalue": "name 'income' is not defined",
          "traceback": [
            "\u001b[0;31m---------------------------------------------------------------------------\u001b[0m",
            "\u001b[0;31mNameError\u001b[0m                                 Traceback (most recent call last)",
            "\u001b[0;32m<ipython-input-7-81d30ce2717a>\u001b[0m in \u001b[0;36m<cell line: 0>\u001b[0;34m()\u001b[0m\n\u001b[1;32m      1\u001b[0m \u001b[0;31m# The number of new column names does not match the current number of columns.\u001b[0m\u001b[0;34m\u001b[0m\u001b[0;34m\u001b[0m\u001b[0m\n\u001b[1;32m      2\u001b[0m \u001b[0;31m# Displaying the current columns and their count to help identify the correct number of new column names.\u001b[0m\u001b[0;34m\u001b[0m\u001b[0;34m\u001b[0m\u001b[0m\n\u001b[0;32m----> 3\u001b[0;31m \u001b[0mprint\u001b[0m\u001b[0;34m(\u001b[0m\u001b[0;34m\"Current columns:\"\u001b[0m\u001b[0;34m,\u001b[0m \u001b[0mincome\u001b[0m\u001b[0;34m.\u001b[0m\u001b[0mcolumns\u001b[0m\u001b[0;34m.\u001b[0m\u001b[0mtolist\u001b[0m\u001b[0;34m(\u001b[0m\u001b[0;34m)\u001b[0m\u001b[0;34m)\u001b[0m\u001b[0;34m\u001b[0m\u001b[0;34m\u001b[0m\u001b[0m\n\u001b[0m\u001b[1;32m      4\u001b[0m \u001b[0mprint\u001b[0m\u001b[0;34m(\u001b[0m\u001b[0;34m\"Number of columns:\"\u001b[0m\u001b[0;34m,\u001b[0m \u001b[0mlen\u001b[0m\u001b[0;34m(\u001b[0m\u001b[0mincome\u001b[0m\u001b[0;34m.\u001b[0m\u001b[0mcolumns\u001b[0m\u001b[0;34m)\u001b[0m\u001b[0;34m)\u001b[0m\u001b[0;34m\u001b[0m\u001b[0;34m\u001b[0m\u001b[0m\n\u001b[1;32m      5\u001b[0m \u001b[0;31m# income.columns = ['State', 'Income', 'Population']\u001b[0m\u001b[0;34m\u001b[0m\u001b[0;34m\u001b[0m\u001b[0m\n",
            "\u001b[0;31mNameError\u001b[0m: name 'income' is not defined"
          ]
        }
      ],
      "source": [
        "# The number of new column names does not match the current number of columns.\n",
        "# Displaying the current columns and their count to help identify the correct number of new column names.\n",
        "print(\"Current columns:\", income.columns.tolist())\n",
        "print(\"Number of columns:\", len(income.columns))\n",
        "# income.columns = ['State', 'Income', 'Population']"
      ]
    },
    {
      "cell_type": "code",
      "execution_count": null,
      "id": "db3b6733",
      "metadata": {
        "id": "db3b6733"
      },
      "outputs": [],
      "source": [
        "ghi = ghi.loc[:, ~ghi.columns.str.contains('^Unnamed')]"
      ]
    },
    {
      "cell_type": "code",
      "execution_count": null,
      "id": "b8d7d28b",
      "metadata": {
        "id": "b8d7d28b"
      },
      "outputs": [],
      "source": [
        "for col in ghi.select_dtypes(include='float'):\n",
        "    ghi[col] = ghi[col].astype(int)"
      ]
    },
    {
      "cell_type": "code",
      "execution_count": null,
      "id": "8a11cc91",
      "metadata": {
        "id": "8a11cc91"
      },
      "outputs": [],
      "source": [
        "toyota['FuelType'].unique()"
      ]
    },
    {
      "cell_type": "code",
      "execution_count": null,
      "id": "88b13064",
      "metadata": {
        "id": "88b13064"
      },
      "outputs": [],
      "source": [
        "iris_df['Species'].value_counts()"
      ]
    },
    {
      "cell_type": "code",
      "execution_count": null,
      "id": "e0668df0",
      "metadata": {
        "colab": {
          "base_uri": "https://localhost:8080/",
          "height": 146
        },
        "id": "e0668df0",
        "outputId": "aa8fc316-5c3a-484f-c8a7-67bdbb92fa84"
      },
      "outputs": [
        {
          "output_type": "error",
          "ename": "NameError",
          "evalue": "name 'np' is not defined",
          "traceback": [
            "\u001b[0;31m---------------------------------------------------------------------------\u001b[0m",
            "\u001b[0;31mNameError\u001b[0m                                 Traceback (most recent call last)",
            "\u001b[0;32m<ipython-input-8-6994d40d0713>\u001b[0m in \u001b[0;36m<cell line: 0>\u001b[0;34m()\u001b[0m\n\u001b[0;32m----> 1\u001b[0;31m \u001b[0mnp\u001b[0m\u001b[0;34m.\u001b[0m\u001b[0mrandom\u001b[0m\u001b[0;34m.\u001b[0m\u001b[0mrandint\u001b[0m\u001b[0;34m(\u001b[0m\u001b[0;36m0\u001b[0m\u001b[0;34m,\u001b[0m \u001b[0;36m100\u001b[0m\u001b[0;34m,\u001b[0m \u001b[0;36m20\u001b[0m\u001b[0;34m)\u001b[0m\u001b[0;34m\u001b[0m\u001b[0;34m\u001b[0m\u001b[0m\n\u001b[0m",
            "\u001b[0;31mNameError\u001b[0m: name 'np' is not defined"
          ]
        }
      ],
      "source": [
        "np.random.randint(0, 100, 20)"
      ]
    },
    {
      "cell_type": "code",
      "execution_count": null,
      "id": "e908d79e",
      "metadata": {
        "id": "e908d79e"
      },
      "outputs": [],
      "source": [
        "np.array([1, 2, 3, 4])"
      ]
    },
    {
      "cell_type": "code",
      "execution_count": null,
      "id": "02ef2ccb",
      "metadata": {
        "colab": {
          "base_uri": "https://localhost:8080/",
          "height": 183
        },
        "id": "02ef2ccb",
        "outputId": "c405063c-0d2c-4e21-dda2-12091112b517"
      },
      "outputs": [
        {
          "output_type": "error",
          "ename": "NameError",
          "evalue": "name 'np' is not defined",
          "traceback": [
            "\u001b[0;31m---------------------------------------------------------------------------\u001b[0m",
            "\u001b[0;31mNameError\u001b[0m                                 Traceback (most recent call last)",
            "\u001b[0;32m<ipython-input-9-059d08e91e61>\u001b[0m in \u001b[0;36m<cell line: 0>\u001b[0;34m()\u001b[0m\n\u001b[0;32m----> 1\u001b[0;31m \u001b[0mA\u001b[0m \u001b[0;34m=\u001b[0m \u001b[0mnp\u001b[0m\u001b[0;34m.\u001b[0m\u001b[0mrandom\u001b[0m\u001b[0;34m.\u001b[0m\u001b[0mrandint\u001b[0m\u001b[0;34m(\u001b[0m\u001b[0;36m1\u001b[0m\u001b[0;34m,\u001b[0m \u001b[0;36m10\u001b[0m\u001b[0;34m,\u001b[0m \u001b[0;34m(\u001b[0m\u001b[0;36m3\u001b[0m\u001b[0;34m,\u001b[0m \u001b[0;36m3\u001b[0m\u001b[0;34m)\u001b[0m\u001b[0;34m)\u001b[0m\u001b[0;34m\u001b[0m\u001b[0;34m\u001b[0m\u001b[0m\n\u001b[0m\u001b[1;32m      2\u001b[0m \u001b[0mB\u001b[0m \u001b[0;34m=\u001b[0m \u001b[0mnp\u001b[0m\u001b[0;34m.\u001b[0m\u001b[0mrandom\u001b[0m\u001b[0;34m.\u001b[0m\u001b[0mrandint\u001b[0m\u001b[0;34m(\u001b[0m\u001b[0;36m1\u001b[0m\u001b[0;34m,\u001b[0m \u001b[0;36m10\u001b[0m\u001b[0;34m,\u001b[0m \u001b[0;34m(\u001b[0m\u001b[0;36m3\u001b[0m\u001b[0;34m,\u001b[0m \u001b[0;36m3\u001b[0m\u001b[0;34m)\u001b[0m\u001b[0;34m)\u001b[0m\u001b[0;34m\u001b[0m\u001b[0;34m\u001b[0m\u001b[0m\n\u001b[1;32m      3\u001b[0m \u001b[0mnp\u001b[0m\u001b[0;34m.\u001b[0m\u001b[0mdot\u001b[0m\u001b[0;34m(\u001b[0m\u001b[0mA\u001b[0m\u001b[0;34m,\u001b[0m \u001b[0mB\u001b[0m\u001b[0;34m)\u001b[0m\u001b[0;34m\u001b[0m\u001b[0;34m\u001b[0m\u001b[0m\n",
            "\u001b[0;31mNameError\u001b[0m: name 'np' is not defined"
          ]
        }
      ],
      "source": [
        "A = np.random.randint(1, 10, (3, 3))\n",
        "B = np.random.randint(1, 10, (3, 3))\n",
        "np.dot(A, B)"
      ]
    },
    {
      "cell_type": "code",
      "execution_count": null,
      "id": "4340f9c0",
      "metadata": {
        "id": "4340f9c0"
      },
      "outputs": [],
      "source": [
        "arr = np.array([1, 2, 3])\n",
        "arr + 5"
      ]
    },
    {
      "cell_type": "code",
      "execution_count": null,
      "id": "84dfb518",
      "metadata": {
        "id": "84dfb518"
      },
      "outputs": [],
      "source": [
        "np.random.normal(0, 1, 100)"
      ]
    },
    {
      "cell_type": "code",
      "execution_count": null,
      "id": "ff1766d7",
      "metadata": {
        "id": "ff1766d7"
      },
      "outputs": [],
      "source": [
        "arr = np.array([1, 2, 3, 4, 5])\n",
        "np.mean(arr), np.median(arr), np.std(arr)"
      ]
    },
    {
      "cell_type": "code",
      "execution_count": null,
      "id": "5fb00d67",
      "metadata": {
        "id": "5fb00d67"
      },
      "outputs": [],
      "source": [
        "np.arange(12).reshape(3, 4)"
      ]
    },
    {
      "cell_type": "code",
      "execution_count": null,
      "id": "6f8ffc68",
      "metadata": {
        "colab": {
          "base_uri": "https://localhost:8080/",
          "height": 165
        },
        "id": "6f8ffc68",
        "outputId": "a86c50c9-751c-4017-f748-c3615d724b67"
      },
      "outputs": [
        {
          "output_type": "error",
          "ename": "NameError",
          "evalue": "name 'np' is not defined",
          "traceback": [
            "\u001b[0;31m---------------------------------------------------------------------------\u001b[0m",
            "\u001b[0;31mNameError\u001b[0m                                 Traceback (most recent call last)",
            "\u001b[0;32m<ipython-input-10-543933253a9c>\u001b[0m in \u001b[0;36m<cell line: 0>\u001b[0;34m()\u001b[0m\n\u001b[0;32m----> 1\u001b[0;31m \u001b[0marr\u001b[0m \u001b[0;34m=\u001b[0m \u001b[0mnp\u001b[0m\u001b[0;34m.\u001b[0m\u001b[0mrandom\u001b[0m\u001b[0;34m.\u001b[0m\u001b[0mrandint\u001b[0m\u001b[0;34m(\u001b[0m\u001b[0;36m0\u001b[0m\u001b[0;34m,\u001b[0m \u001b[0;36m100\u001b[0m\u001b[0;34m,\u001b[0m \u001b[0;36m10\u001b[0m\u001b[0;34m)\u001b[0m\u001b[0;34m\u001b[0m\u001b[0;34m\u001b[0m\u001b[0m\n\u001b[0m\u001b[1;32m      2\u001b[0m \u001b[0marr\u001b[0m\u001b[0;34m[\u001b[0m\u001b[0marr\u001b[0m \u001b[0;34m>\u001b[0m \u001b[0;36m50\u001b[0m\u001b[0;34m]\u001b[0m\u001b[0;34m\u001b[0m\u001b[0;34m\u001b[0m\u001b[0m\n",
            "\u001b[0;31mNameError\u001b[0m: name 'np' is not defined"
          ]
        }
      ],
      "source": [
        "arr = np.random.randint(0, 100, 10)\n",
        "arr[arr > 50]"
      ]
    },
    {
      "cell_type": "code",
      "execution_count": null,
      "id": "2fe941f0",
      "metadata": {
        "id": "2fe941f0"
      },
      "outputs": [],
      "source": [
        "mat = np.random.randint(1, 10, (4, 4))\n",
        "np.diag(mat)"
      ]
    },
    {
      "cell_type": "code",
      "execution_count": null,
      "id": "24e01fde",
      "metadata": {
        "id": "24e01fde"
      },
      "outputs": [],
      "source": [
        "arr = np.array([1.5, 2.7])\n",
        "arr.astype(int)"
      ]
    },
    {
      "cell_type": "code",
      "execution_count": null,
      "id": "b0e47410",
      "metadata": {
        "colab": {
          "base_uri": "https://localhost:8080/",
          "height": 165
        },
        "id": "b0e47410",
        "outputId": "89444e47-c1bb-4f0a-8b83-75301c96e7c4"
      },
      "outputs": [
        {
          "output_type": "error",
          "ename": "NameError",
          "evalue": "name 'pd' is not defined",
          "traceback": [
            "\u001b[0;31m---------------------------------------------------------------------------\u001b[0m",
            "\u001b[0;31mNameError\u001b[0m                                 Traceback (most recent call last)",
            "\u001b[0;32m<ipython-input-11-14d8375db81c>\u001b[0m in \u001b[0;36m<cell line: 0>\u001b[0;34m()\u001b[0m\n\u001b[0;32m----> 1\u001b[0;31m \u001b[0miris_df\u001b[0m \u001b[0;34m=\u001b[0m \u001b[0mpd\u001b[0m\u001b[0;34m.\u001b[0m\u001b[0mread_csv\u001b[0m\u001b[0;34m(\u001b[0m\u001b[0;34m'Iris_data_sample.csv'\u001b[0m\u001b[0;34m)\u001b[0m\u001b[0;34m\u001b[0m\u001b[0;34m\u001b[0m\u001b[0m\n\u001b[0m\u001b[1;32m      2\u001b[0m \u001b[0miris_df\u001b[0m\u001b[0;34m.\u001b[0m\u001b[0miloc\u001b[0m\u001b[0;34m[\u001b[0m\u001b[0;36m2\u001b[0m\u001b[0;34m,\u001b[0m \u001b[0;36m1\u001b[0m\u001b[0;34m]\u001b[0m\u001b[0;34m\u001b[0m\u001b[0;34m\u001b[0m\u001b[0m\n",
            "\u001b[0;31mNameError\u001b[0m: name 'pd' is not defined"
          ]
        }
      ],
      "source": [
        "iris_df = pd.read_csv('Iris_data_sample.csv')\n",
        "iris_df.iloc[2, 1]"
      ]
    },
    {
      "cell_type": "code",
      "execution_count": null,
      "id": "ed15904a",
      "metadata": {
        "id": "ed15904a"
      },
      "outputs": [],
      "source": [
        "iris_df.iloc[1:3, :]\n",
        "iris_df.loc[iris_df['PetalWidthCm'] > 1.5]"
      ]
    },
    {
      "cell_type": "code",
      "execution_count": null,
      "id": "6211e1e6",
      "metadata": {
        "colab": {
          "base_uri": "https://localhost:8080/",
          "height": 146
        },
        "id": "6211e1e6",
        "outputId": "9f7e08ed-2971-4c37-a5bf-479c3041b7da"
      },
      "outputs": [
        {
          "output_type": "error",
          "ename": "NameError",
          "evalue": "name 'iris_df' is not defined",
          "traceback": [
            "\u001b[0;31m---------------------------------------------------------------------------\u001b[0m",
            "\u001b[0;31mNameError\u001b[0m                                 Traceback (most recent call last)",
            "\u001b[0;32m<ipython-input-12-260d36de7cba>\u001b[0m in \u001b[0;36m<cell line: 0>\u001b[0;34m()\u001b[0m\n\u001b[0;32m----> 1\u001b[0;31m \u001b[0miris_df\u001b[0m\u001b[0;34m[\u001b[0m\u001b[0miris_df\u001b[0m\u001b[0;34m[\u001b[0m\u001b[0;34m'PetalWidthCm'\u001b[0m\u001b[0;34m]\u001b[0m \u001b[0;34m>\u001b[0m \u001b[0;36m1.5\u001b[0m\u001b[0;34m]\u001b[0m\u001b[0;34m\u001b[0m\u001b[0;34m\u001b[0m\u001b[0m\n\u001b[0m",
            "\u001b[0;31mNameError\u001b[0m: name 'iris_df' is not defined"
          ]
        }
      ],
      "source": [
        "iris_df[iris_df['PetalWidthCm'] > 1.5]"
      ]
    },
    {
      "cell_type": "code",
      "execution_count": null,
      "id": "ae6b7bef",
      "metadata": {
        "id": "ae6b7bef"
      },
      "outputs": [],
      "source": [
        "iris_df.iloc[:10, -5:]"
      ]
    },
    {
      "cell_type": "code",
      "execution_count": null,
      "id": "bb4f4fd5",
      "metadata": {
        "id": "bb4f4fd5"
      },
      "outputs": [],
      "source": [
        "toyota[toyota['FuelType'] == 'Diesel']"
      ]
    },
    {
      "cell_type": "code",
      "execution_count": null,
      "id": "875ef2c2",
      "metadata": {
        "colab": {
          "base_uri": "https://localhost:8080/",
          "height": 146
        },
        "id": "875ef2c2",
        "outputId": "6188926f-aff5-42b5-f262-ff2ae5f010e2"
      },
      "outputs": [
        {
          "output_type": "error",
          "ename": "NameError",
          "evalue": "name 'iris_df' is not defined",
          "traceback": [
            "\u001b[0;31m---------------------------------------------------------------------------\u001b[0m",
            "\u001b[0;31mNameError\u001b[0m                                 Traceback (most recent call last)",
            "\u001b[0;32m<ipython-input-13-0f04041bfd37>\u001b[0m in \u001b[0;36m<cell line: 0>\u001b[0;34m()\u001b[0m\n\u001b[0;32m----> 1\u001b[0;31m \u001b[0miris_df\u001b[0m\u001b[0;34m.\u001b[0m\u001b[0mat\u001b[0m\u001b[0;34m[\u001b[0m\u001b[0;36m1\u001b[0m\u001b[0;34m,\u001b[0m \u001b[0;34m'Species'\u001b[0m\u001b[0;34m]\u001b[0m\u001b[0;34m,\u001b[0m \u001b[0miris_df\u001b[0m\u001b[0;34m.\u001b[0m\u001b[0miat\u001b[0m\u001b[0;34m[\u001b[0m\u001b[0;36m1\u001b[0m\u001b[0;34m,\u001b[0m \u001b[0;36m4\u001b[0m\u001b[0;34m]\u001b[0m\u001b[0;34m\u001b[0m\u001b[0;34m\u001b[0m\u001b[0m\n\u001b[0m",
            "\u001b[0;31mNameError\u001b[0m: name 'iris_df' is not defined"
          ]
        }
      ],
      "source": [
        "iris_df.at[1, 'Species'], iris_df.iat[1, 4]"
      ]
    },
    {
      "cell_type": "code",
      "execution_count": null,
      "id": "9baa637a",
      "metadata": {
        "colab": {
          "base_uri": "https://localhost:8080/",
          "height": 165
        },
        "id": "9baa637a",
        "outputId": "d0e4ee06-4fec-4e57-eaa8-b806cea00a21"
      },
      "outputs": [
        {
          "output_type": "error",
          "ename": "NameError",
          "evalue": "name 'pd' is not defined",
          "traceback": [
            "\u001b[0;31m---------------------------------------------------------------------------\u001b[0m",
            "\u001b[0;31mNameError\u001b[0m                                 Traceback (most recent call last)",
            "\u001b[0;32m<ipython-input-14-62e46d4d4dc0>\u001b[0m in \u001b[0;36m<cell line: 0>\u001b[0;34m()\u001b[0m\n\u001b[0;32m----> 1\u001b[0;31m \u001b[0mservice\u001b[0m \u001b[0;34m=\u001b[0m \u001b[0mpd\u001b[0m\u001b[0;34m.\u001b[0m\u001b[0mread_csv\u001b[0m\u001b[0;34m(\u001b[0m\u001b[0;34m'ServiceTrain_.csv'\u001b[0m\u001b[0;34m)\u001b[0m\u001b[0;34m\u001b[0m\u001b[0;34m\u001b[0m\u001b[0m\n\u001b[0m\u001b[1;32m      2\u001b[0m \u001b[0mservice\u001b[0m\u001b[0;34m.\u001b[0m\u001b[0miloc\u001b[0m\u001b[0;34m[\u001b[0m\u001b[0;34m:\u001b[0m\u001b[0;34m,\u001b[0m \u001b[0;36m1\u001b[0m\u001b[0;34m:\u001b[0m\u001b[0;34m]\u001b[0m\u001b[0;34m\u001b[0m\u001b[0;34m\u001b[0m\u001b[0m\n",
            "\u001b[0;31mNameError\u001b[0m: name 'pd' is not defined"
          ]
        }
      ],
      "source": [
        "service = pd.read_csv('ServiceTrain_.csv')\n",
        "service.iloc[:, 1:]"
      ]
    },
    {
      "cell_type": "code",
      "execution_count": null,
      "id": "0356ccdc",
      "metadata": {
        "id": "0356ccdc"
      },
      "outputs": [],
      "source": [
        "# KeyError: 'Automatic' - The column 'Automatic' was not found.\n",
        "# Based on the error, the column names used below might be incorrect.\n",
        "# Please run cell 4d01e82c to see the available columns and confirm the correct names for 'Automatic' and 'FuelType'.\n",
        "# cars[(cars['Automatic'] == 1) & (cars['FuelType'] == 'Petrol')]"
      ]
    },
    {
      "cell_type": "code",
      "execution_count": null,
      "id": "13e99595",
      "metadata": {
        "colab": {
          "base_uri": "https://localhost:8080/",
          "height": 219
        },
        "id": "13e99595",
        "outputId": "051edaa5-e144-435d-e9f0-fe08e4214951"
      },
      "outputs": [
        {
          "output_type": "error",
          "ename": "NameError",
          "evalue": "name 'cars' is not defined",
          "traceback": [
            "\u001b[0;31m---------------------------------------------------------------------------\u001b[0m",
            "\u001b[0;31mNameError\u001b[0m                                 Traceback (most recent call last)",
            "\u001b[0;32m<ipython-input-15-c8ff8a7c0472>\u001b[0m in \u001b[0;36m<cell line: 0>\u001b[0;34m()\u001b[0m\n\u001b[0;32m----> 1\u001b[0;31m \u001b[0mcars\u001b[0m\u001b[0;34m.\u001b[0m\u001b[0mcolumns\u001b[0m \u001b[0;34m=\u001b[0m \u001b[0mcars\u001b[0m\u001b[0;34m.\u001b[0m\u001b[0mcolumns\u001b[0m\u001b[0;34m.\u001b[0m\u001b[0mstr\u001b[0m\u001b[0;34m.\u001b[0m\u001b[0mstrip\u001b[0m\u001b[0;34m(\u001b[0m\u001b[0;34m)\u001b[0m\u001b[0;34m\u001b[0m\u001b[0;34m\u001b[0m\u001b[0m\n\u001b[0m\u001b[1;32m      2\u001b[0m \u001b[0mage_col\u001b[0m \u001b[0;34m=\u001b[0m \u001b[0mnext\u001b[0m\u001b[0;34m(\u001b[0m\u001b[0;34m(\u001b[0m\u001b[0mcol\u001b[0m \u001b[0;32mfor\u001b[0m \u001b[0mcol\u001b[0m \u001b[0;32min\u001b[0m \u001b[0mcars\u001b[0m\u001b[0;34m.\u001b[0m\u001b[0mcolumns\u001b[0m \u001b[0;32mif\u001b[0m \u001b[0;34m'age'\u001b[0m \u001b[0;32min\u001b[0m \u001b[0mcol\u001b[0m\u001b[0;34m.\u001b[0m\u001b[0mlower\u001b[0m\u001b[0;34m(\u001b[0m\u001b[0;34m)\u001b[0m\u001b[0;34m)\u001b[0m\u001b[0;34m,\u001b[0m \u001b[0;32mNone\u001b[0m\u001b[0;34m)\u001b[0m\u001b[0;34m\u001b[0m\u001b[0;34m\u001b[0m\u001b[0m\n\u001b[1;32m      3\u001b[0m \u001b[0;34m\u001b[0m\u001b[0m\n\u001b[1;32m      4\u001b[0m \u001b[0;32mif\u001b[0m \u001b[0mage_col\u001b[0m\u001b[0;34m:\u001b[0m\u001b[0;34m\u001b[0m\u001b[0;34m\u001b[0m\u001b[0m\n\u001b[1;32m      5\u001b[0m     \u001b[0mprint\u001b[0m\u001b[0;34m(\u001b[0m\u001b[0;34mf\" Found Age column: {age_col}\"\u001b[0m\u001b[0;34m)\u001b[0m\u001b[0;34m\u001b[0m\u001b[0;34m\u001b[0m\u001b[0m\n",
            "\u001b[0;31mNameError\u001b[0m: name 'cars' is not defined"
          ]
        }
      ],
      "source": [
        "cars.columns = cars.columns.str.strip()\n",
        "age_col = next((col for col in cars.columns if 'age' in col.lower()), None)\n",
        "\n",
        "if age_col:\n",
        "    print(f\" Found Age column: {age_col}\")\n",
        "    try:\n",
        "\n",
        "        cars[age_col] = pd.to_numeric(cars[age_col], errors='coerce')\n",
        "        # Drop rows where the age column is NaN after conversion\n",
        "        cars.dropna(subset=[age_col], inplace=True)\n",
        "        # Now filter the DataFrame\n",
        "        cars = cars[cars[age_col] < 30]\n",
        "        print(f\"Filtered DataFrame to keep cars with {age_col} less than 30.\")\n",
        "    except Exception as e:\n",
        "        print(f\" Could not convert '{age_col}' to numeric or filter: {e}\")\n",
        "else:\n",
        "    print(\"'Age' column not found. Cannot filter by age.\")"
      ]
    },
    {
      "cell_type": "code",
      "execution_count": null,
      "id": "694e75d6",
      "metadata": {
        "id": "694e75d6"
      },
      "outputs": [],
      "source": [
        "toyota.isnull().sum()"
      ]
    },
    {
      "cell_type": "code",
      "execution_count": null,
      "id": "08ff592d",
      "metadata": {
        "id": "08ff592d"
      },
      "outputs": [],
      "source": [
        "toyota.replace(['??', '###'], np.nan, inplace=True)"
      ]
    },
    {
      "cell_type": "code",
      "execution_count": null,
      "id": "ce382815",
      "metadata": {
        "id": "ce382815",
        "outputId": "0a74422c-ca6c-4120-c55b-f2e58f833bed",
        "colab": {
          "base_uri": "https://localhost:8080/",
          "height": 146
        }
      },
      "outputs": [
        {
          "output_type": "error",
          "ename": "NameError",
          "evalue": "name 'toyota' is not defined",
          "traceback": [
            "\u001b[0;31m---------------------------------------------------------------------------\u001b[0m",
            "\u001b[0;31mNameError\u001b[0m                                 Traceback (most recent call last)",
            "\u001b[0;32m<ipython-input-16-acab139d2be0>\u001b[0m in \u001b[0;36m<cell line: 0>\u001b[0;34m()\u001b[0m\n\u001b[0;32m----> 1\u001b[0;31m \u001b[0mtoyota\u001b[0m\u001b[0;34m.\u001b[0m\u001b[0mfillna\u001b[0m\u001b[0;34m(\u001b[0m\u001b[0mtoyota\u001b[0m\u001b[0;34m.\u001b[0m\u001b[0mmean\u001b[0m\u001b[0;34m(\u001b[0m\u001b[0mnumeric_only\u001b[0m\u001b[0;34m=\u001b[0m\u001b[0;32mTrue\u001b[0m\u001b[0;34m)\u001b[0m\u001b[0;34m,\u001b[0m \u001b[0minplace\u001b[0m\u001b[0;34m=\u001b[0m\u001b[0;32mTrue\u001b[0m\u001b[0;34m)\u001b[0m\u001b[0;34m\u001b[0m\u001b[0;34m\u001b[0m\u001b[0m\n\u001b[0m",
            "\u001b[0;31mNameError\u001b[0m: name 'toyota' is not defined"
          ]
        }
      ],
      "source": [
        "toyota.fillna(toyota.mean(numeric_only=True), inplace=True)"
      ]
    },
    {
      "cell_type": "code",
      "execution_count": null,
      "id": "a5a7172d",
      "metadata": {
        "id": "a5a7172d"
      },
      "outputs": [],
      "source": [
        "for col in toyota.select_dtypes('object'):\n",
        "    toyota[col].fillna(toyota[col].mode()[0], inplace=True)"
      ]
    },
    {
      "cell_type": "code",
      "execution_count": null,
      "id": "a5729563",
      "metadata": {
        "id": "a5729563"
      },
      "outputs": [],
      "source": [
        "toyota.dropna(inplace=True)"
      ]
    },
    {
      "cell_type": "code",
      "execution_count": null,
      "id": "9a160a00",
      "metadata": {
        "id": "9a160a00"
      },
      "outputs": [],
      "source": [
        "toyota.fillna(method='ffill')\n",
        "# Forward fill propagates the last valid observation forward."
      ]
    },
    {
      "cell_type": "code",
      "execution_count": null,
      "id": "e3b13e2b",
      "metadata": {
        "id": "e3b13e2b"
      },
      "outputs": [],
      "source": [
        "toyota['KM'] = toyota['KM'].replace('[^0-9]', '', regex=True).astype(float)"
      ]
    },
    {
      "cell_type": "code",
      "execution_count": null,
      "id": "44edd355",
      "metadata": {
        "id": "44edd355"
      },
      "outputs": [],
      "source": [
        "df=pd.read_csv(\"Toyota.csv\")\n",
        "num_map = {\"five\": 5, \"three\": 3, \"ten\": 10}\n",
        "df.replace(num_map, inplace=True)\n",
        "print(num_map)"
      ]
    },
    {
      "cell_type": "code",
      "execution_count": null,
      "id": "3abcded0",
      "metadata": {
        "id": "3abcded0"
      },
      "outputs": [],
      "source": [
        "def convert_to_category(df):\n",
        "    for col in df.select_dtypes('object'):\n",
        "        df[col] = df[col].astype('category')"
      ]
    },
    {
      "cell_type": "code",
      "execution_count": null,
      "id": "24ea97a8",
      "metadata": {
        "id": "24ea97a8",
        "outputId": "dd28a4ce-a7bc-4a89-924c-8107452a6a50",
        "colab": {
          "base_uri": "https://localhost:8080/",
          "height": 146
        }
      },
      "outputs": [
        {
          "output_type": "error",
          "ename": "NameError",
          "evalue": "name 'toyota' is not defined",
          "traceback": [
            "\u001b[0;31m---------------------------------------------------------------------------\u001b[0m",
            "\u001b[0;31mNameError\u001b[0m                                 Traceback (most recent call last)",
            "\u001b[0;32m<ipython-input-17-23860c8daefc>\u001b[0m in \u001b[0;36m<cell line: 0>\u001b[0;34m()\u001b[0m\n\u001b[0;32m----> 1\u001b[0;31m \u001b[0mtoyota\u001b[0m\u001b[0;34m[\u001b[0m\u001b[0;34m'HP'\u001b[0m\u001b[0;34m]\u001b[0m \u001b[0;34m=\u001b[0m \u001b[0mtoyota\u001b[0m\u001b[0;34m[\u001b[0m\u001b[0;34m'HP'\u001b[0m\u001b[0;34m]\u001b[0m\u001b[0;34m.\u001b[0m\u001b[0mapply\u001b[0m\u001b[0;34m(\u001b[0m\u001b[0;32mlambda\u001b[0m \u001b[0mx\u001b[0m\u001b[0;34m:\u001b[0m \u001b[0mnp\u001b[0m\u001b[0;34m.\u001b[0m\u001b[0mnan\u001b[0m \u001b[0;32mif\u001b[0m \u001b[0mx\u001b[0m \u001b[0;34m==\u001b[0m \u001b[0;34m'??'\u001b[0m \u001b[0;32melse\u001b[0m \u001b[0mx\u001b[0m\u001b[0;34m)\u001b[0m\u001b[0;34m\u001b[0m\u001b[0;34m\u001b[0m\u001b[0m\n\u001b[0m",
            "\u001b[0;31mNameError\u001b[0m: name 'toyota' is not defined"
          ]
        }
      ],
      "source": [
        "toyota['HP'] = toyota['HP'].apply(lambda x: np.nan if x == '??' else x)"
      ]
    },
    {
      "cell_type": "code",
      "execution_count": null,
      "id": "273f9eab",
      "metadata": {
        "id": "273f9eab"
      },
      "outputs": [],
      "source": [
        "toyota['AgeGroup'] = toyota['Age'].apply(lambda x: 'Young' if x < 50 else 'Old')"
      ]
    },
    {
      "cell_type": "code",
      "execution_count": null,
      "id": "98a14cd6",
      "metadata": {
        "id": "98a14cd6"
      },
      "outputs": [],
      "source": [
        "def price_bin(p):\n",
        "    if p < 5000:\n",
        "        return 'Low'\n",
        "    elif p < 10000:\n",
        "        return 'Medium'\n",
        "    else:\n",
        "        return 'High'\n",
        "cars['PriceBin'] = cars['price'].apply(price_bin)"
      ]
    },
    {
      "cell_type": "code",
      "execution_count": null,
      "id": "c2397394",
      "metadata": {
        "id": "c2397394"
      },
      "outputs": [],
      "source": [
        "for age in toyota['Age'][:5]:\n",
        "    print(age**2)"
      ]
    },
    {
      "cell_type": "code",
      "execution_count": null,
      "id": "5a2a1e32",
      "metadata": {
        "id": "5a2a1e32"
      },
      "outputs": [],
      "source": [
        "col1 = [10, 20, 30]\n",
        "col2 = [15, 25, 35]\n",
        "for x in col1:\n",
        "    for y in col2:\n",
        "        if x > y:\n",
        "            print(f\"{x} is greater than {y}\")"
      ]
    },
    {
      "cell_type": "code",
      "execution_count": null,
      "id": "ed31c5ff",
      "metadata": {
        "id": "ed31c5ff"
      },
      "outputs": [],
      "source": [
        "i = 0\n",
        "while i < len(cars) and cars.iloc[i]['Price'] <= 15000:\n",
        "    print(cars.iloc[i])\n",
        "    i += 1"
      ]
    },
    {
      "cell_type": "code",
      "execution_count": null,
      "id": "00a1dde6",
      "metadata": {
        "id": "00a1dde6"
      },
      "outputs": [],
      "source": [
        "categorize_km = lambda km: \"Low\" if km < 50000 else \"Medium\" if km < 150000 else \"High\""
      ]
    },
    {
      "cell_type": "code",
      "execution_count": null,
      "id": "5d581f23",
      "metadata": {
        "colab": {
          "base_uri": "https://localhost:8080/",
          "height": 219
        },
        "id": "5d581f23",
        "outputId": "1d79a181-4882-4ccf-a848-6624a11203f4"
      },
      "outputs": [
        {
          "output_type": "error",
          "ename": "NameError",
          "evalue": "name 'pd' is not defined",
          "traceback": [
            "\u001b[0;31m---------------------------------------------------------------------------\u001b[0m",
            "\u001b[0;31mNameError\u001b[0m                                 Traceback (most recent call last)",
            "\u001b[0;32m<ipython-input-19-18c59f2ac0c1>\u001b[0m in \u001b[0;36m<cell line: 0>\u001b[0;34m()\u001b[0m\n\u001b[1;32m      6\u001b[0m     \u001b[0;32melse\u001b[0m\u001b[0;34m:\u001b[0m\u001b[0;34m\u001b[0m\u001b[0;34m\u001b[0m\u001b[0m\n\u001b[1;32m      7\u001b[0m         \u001b[0;32mreturn\u001b[0m \u001b[0;34m'Strong'\u001b[0m\u001b[0;34m\u001b[0m\u001b[0;34m\u001b[0m\u001b[0m\n\u001b[0;32m----> 8\u001b[0;31m \u001b[0mdf\u001b[0m\u001b[0;34m[\u001b[0m\u001b[0;34m'HP'\u001b[0m\u001b[0;34m]\u001b[0m \u001b[0;34m=\u001b[0m \u001b[0mpd\u001b[0m\u001b[0;34m.\u001b[0m\u001b[0mto_numeric\u001b[0m\u001b[0;34m(\u001b[0m\u001b[0mdf\u001b[0m\u001b[0;34m[\u001b[0m\u001b[0;34m'HP'\u001b[0m\u001b[0;34m]\u001b[0m\u001b[0;34m,\u001b[0m \u001b[0merrors\u001b[0m\u001b[0;34m=\u001b[0m\u001b[0;34m'coerce'\u001b[0m\u001b[0;34m)\u001b[0m\u001b[0;34m\u001b[0m\u001b[0;34m\u001b[0m\u001b[0m\n\u001b[0m\u001b[1;32m      9\u001b[0m \u001b[0mdf\u001b[0m\u001b[0;34m[\u001b[0m\u001b[0;34m'HP_Class'\u001b[0m\u001b[0;34m]\u001b[0m \u001b[0;34m=\u001b[0m \u001b[0mdf\u001b[0m\u001b[0;34m[\u001b[0m\u001b[0;34m'HP'\u001b[0m\u001b[0;34m]\u001b[0m\u001b[0;34m.\u001b[0m\u001b[0mapply\u001b[0m\u001b[0;34m(\u001b[0m\u001b[0mhp_classification\u001b[0m\u001b[0;34m)\u001b[0m\u001b[0;34m\u001b[0m\u001b[0;34m\u001b[0m\u001b[0m\n\u001b[1;32m     10\u001b[0m \u001b[0;34m\u001b[0m\u001b[0m\n",
            "\u001b[0;31mNameError\u001b[0m: name 'pd' is not defined"
          ]
        }
      ],
      "source": [
        "def hp_classification(hp):\n",
        "    if hp < 80:\n",
        "        return 'Weak'\n",
        "    elif hp < 150:\n",
        "        return 'Medium'\n",
        "    else:\n",
        "        return 'Strong'\n",
        "df['HP'] = pd.to_numeric(df['HP'], errors='coerce')\n",
        "df['HP_Class'] = df['HP'].apply(hp_classification)\n",
        "\n",
        "print(df[['HP', 'HP_Class']])"
      ]
    },
    {
      "cell_type": "code",
      "execution_count": null,
      "id": "f72f11a8",
      "metadata": {
        "id": "f72f11a8"
      },
      "outputs": [],
      "source": [
        "def car_age_group(age):\n",
        "    return 'Old' if age > 60 else 'New'"
      ]
    },
    {
      "cell_type": "code",
      "execution_count": null,
      "id": "f1cd6a53",
      "metadata": {
        "id": "f1cd6a53"
      },
      "outputs": [],
      "source": [
        "def months_to_years(months):\n",
        "    return months / 12"
      ]
    },
    {
      "cell_type": "code",
      "execution_count": null,
      "id": "e7eff732",
      "metadata": {
        "id": "e7eff732"
      },
      "outputs": [],
      "source": [
        "def km_per_month(km, months):\n",
        "    return km / months"
      ]
    },
    {
      "cell_type": "code",
      "execution_count": null,
      "id": "cc4df4b9",
      "metadata": {
        "id": "cc4df4b9"
      },
      "outputs": [],
      "source": [
        "to_lower = lambda text: text.lower()"
      ]
    },
    {
      "cell_type": "code",
      "execution_count": null,
      "id": "0aaaf913",
      "metadata": {
        "id": "0aaaf913"
      },
      "outputs": [],
      "source": [
        "categorize_km = lambda km: \"Low\" if km < 50000 else \"Average\" if km < 150000 else \"High\""
      ]
    },
    {
      "cell_type": "code",
      "execution_count": null,
      "id": "6a337a9d",
      "metadata": {
        "id": "6a337a9d"
      },
      "outputs": [],
      "source": [
        "def make_list(a, b):\n",
        "    return [a, b]"
      ]
    },
    {
      "cell_type": "code",
      "execution_count": null,
      "id": "33063e33",
      "metadata": {
        "id": "33063e33"
      },
      "outputs": [],
      "source": [
        "def find_duplicates(df):\n",
        "    return df[df.duplicated()]"
      ]
    },
    {
      "cell_type": "code",
      "execution_count": null,
      "id": "54a1d250",
      "metadata": {
        "id": "54a1d250"
      },
      "outputs": [],
      "source": [
        "def summary_stats(series):\n",
        "    return series.min(), series.max(), series.mean()"
      ]
    },
    {
      "cell_type": "code",
      "execution_count": null,
      "id": "231bc7cb",
      "metadata": {
        "id": "231bc7cb"
      },
      "outputs": [],
      "source": [
        "def fill_missing(df):\n",
        "    for col in df.columns:\n",
        "        if df[col].dtype == 'object':\n",
        "            df[col].fillna(df[col].mode()[0], inplace=True)\n",
        "        else:\n",
        "            df[col].fillna(df[col].mean(), inplace=True)"
      ]
    },
    {
      "cell_type": "code",
      "execution_count": null,
      "id": "63cbf2aa",
      "metadata": {
        "id": "63cbf2aa"
      },
      "outputs": [],
      "source": [
        "def column_correlation(df, col1, col2):\n",
        "    return df[col1].corr(df[col2])"
      ]
    },
    {
      "cell_type": "code",
      "execution_count": null,
      "id": "3eda28fa",
      "metadata": {
        "colab": {
          "base_uri": "https://localhost:8080/",
          "height": 219
        },
        "id": "3eda28fa",
        "outputId": "c24b255c-1f0d-450f-ac11-838cac593ea1"
      },
      "outputs": [
        {
          "output_type": "error",
          "ename": "NameError",
          "evalue": "name 'df' is not defined",
          "traceback": [
            "\u001b[0;31m---------------------------------------------------------------------------\u001b[0m",
            "\u001b[0;31mNameError\u001b[0m                                 Traceback (most recent call last)",
            "\u001b[0;32m<ipython-input-28-79a7366c4975>\u001b[0m in \u001b[0;36m<cell line: 0>\u001b[0;34m()\u001b[0m\n\u001b[1;32m      1\u001b[0m \u001b[0;32mimport\u001b[0m \u001b[0mmatplotlib\u001b[0m\u001b[0;34m.\u001b[0m\u001b[0mpyplot\u001b[0m \u001b[0;32mas\u001b[0m \u001b[0mplt\u001b[0m\u001b[0;34m\u001b[0m\u001b[0;34m\u001b[0m\u001b[0m\n\u001b[0;32m----> 2\u001b[0;31m \u001b[0mplt\u001b[0m\u001b[0;34m.\u001b[0m\u001b[0mscatter\u001b[0m\u001b[0;34m(\u001b[0m\u001b[0mdf\u001b[0m\u001b[0;34m[\u001b[0m\u001b[0;34m'Age'\u001b[0m\u001b[0;34m]\u001b[0m\u001b[0;34m,\u001b[0m \u001b[0mdf\u001b[0m\u001b[0;34m[\u001b[0m\u001b[0;34m'Price'\u001b[0m\u001b[0;34m]\u001b[0m\u001b[0;34m)\u001b[0m\u001b[0;34m\u001b[0m\u001b[0;34m\u001b[0m\u001b[0m\n\u001b[0m\u001b[1;32m      3\u001b[0m \u001b[0mplt\u001b[0m\u001b[0;34m.\u001b[0m\u001b[0mxlabel\u001b[0m\u001b[0;34m(\u001b[0m\u001b[0;34m'Age'\u001b[0m\u001b[0;34m)\u001b[0m\u001b[0;34m\u001b[0m\u001b[0;34m\u001b[0m\u001b[0m\n\u001b[1;32m      4\u001b[0m \u001b[0mplt\u001b[0m\u001b[0;34m.\u001b[0m\u001b[0mylabel\u001b[0m\u001b[0;34m(\u001b[0m\u001b[0;34m'Price'\u001b[0m\u001b[0;34m)\u001b[0m\u001b[0;34m\u001b[0m\u001b[0;34m\u001b[0m\u001b[0m\n\u001b[1;32m      5\u001b[0m \u001b[0mplt\u001b[0m\u001b[0;34m.\u001b[0m\u001b[0mtitle\u001b[0m\u001b[0;34m(\u001b[0m\u001b[0;34m'Price vs Age Scatter Plot'\u001b[0m\u001b[0;34m)\u001b[0m\u001b[0;34m\u001b[0m\u001b[0;34m\u001b[0m\u001b[0m\n",
            "\u001b[0;31mNameError\u001b[0m: name 'df' is not defined"
          ]
        }
      ],
      "source": [
        "import matplotlib.pyplot as plt\n",
        "plt.scatter(df['Age'], df['Price'])\n",
        "plt.xlabel('Age')\n",
        "plt.ylabel('Price')\n",
        "plt.title('Price vs Age Scatter Plot')\n",
        "plt.show()"
      ]
    },
    {
      "cell_type": "code",
      "execution_count": null,
      "id": "b178ad2b",
      "metadata": {
        "id": "b178ad2b"
      },
      "outputs": [],
      "source": [
        "plt.hist(df['KM'], bins=20)\n",
        "plt.xlabel('KM')\n",
        "plt.ylabel('Frequency')\n",
        "plt.title('KM Histogram')\n",
        "plt.show()"
      ]
    },
    {
      "cell_type": "code",
      "execution_count": null,
      "id": "88f83d10",
      "metadata": {
        "colab": {
          "base_uri": "https://localhost:8080/",
          "height": 219
        },
        "id": "88f83d10",
        "outputId": "597218e5-ca72-4ba7-c17a-8e97110face2"
      },
      "outputs": [
        {
          "output_type": "error",
          "ename": "NameError",
          "evalue": "name 'df' is not defined",
          "traceback": [
            "\u001b[0;31m---------------------------------------------------------------------------\u001b[0m",
            "\u001b[0;31mNameError\u001b[0m                                 Traceback (most recent call last)",
            "\u001b[0;32m<ipython-input-29-de96ffedf52e>\u001b[0m in \u001b[0;36m<cell line: 0>\u001b[0;34m()\u001b[0m\n\u001b[0;32m----> 1\u001b[0;31m \u001b[0mdf\u001b[0m\u001b[0;34m[\u001b[0m\u001b[0;34m'FuelType'\u001b[0m\u001b[0;34m]\u001b[0m\u001b[0;34m.\u001b[0m\u001b[0mvalue_counts\u001b[0m\u001b[0;34m(\u001b[0m\u001b[0;34m)\u001b[0m\u001b[0;34m.\u001b[0m\u001b[0mplot\u001b[0m\u001b[0;34m(\u001b[0m\u001b[0mkind\u001b[0m\u001b[0;34m=\u001b[0m\u001b[0;34m'bar'\u001b[0m\u001b[0;34m)\u001b[0m\u001b[0;34m\u001b[0m\u001b[0;34m\u001b[0m\u001b[0m\n\u001b[0m\u001b[1;32m      2\u001b[0m \u001b[0mplt\u001b[0m\u001b[0;34m.\u001b[0m\u001b[0mxlabel\u001b[0m\u001b[0;34m(\u001b[0m\u001b[0;34m'Fuel Type'\u001b[0m\u001b[0;34m)\u001b[0m\u001b[0;34m\u001b[0m\u001b[0;34m\u001b[0m\u001b[0m\n\u001b[1;32m      3\u001b[0m \u001b[0mplt\u001b[0m\u001b[0;34m.\u001b[0m\u001b[0mylabel\u001b[0m\u001b[0;34m(\u001b[0m\u001b[0;34m'Count'\u001b[0m\u001b[0;34m)\u001b[0m\u001b[0;34m\u001b[0m\u001b[0;34m\u001b[0m\u001b[0m\n\u001b[1;32m      4\u001b[0m \u001b[0mplt\u001b[0m\u001b[0;34m.\u001b[0m\u001b[0mtitle\u001b[0m\u001b[0;34m(\u001b[0m\u001b[0;34m'Fuel Type Frequencies'\u001b[0m\u001b[0;34m)\u001b[0m\u001b[0;34m\u001b[0m\u001b[0;34m\u001b[0m\u001b[0m\n\u001b[1;32m      5\u001b[0m \u001b[0mplt\u001b[0m\u001b[0;34m.\u001b[0m\u001b[0mshow\u001b[0m\u001b[0;34m(\u001b[0m\u001b[0;34m)\u001b[0m\u001b[0;34m\u001b[0m\u001b[0;34m\u001b[0m\u001b[0m\n",
            "\u001b[0;31mNameError\u001b[0m: name 'df' is not defined"
          ]
        }
      ],
      "source": [
        "df['FuelType'].value_counts().plot(kind='bar')\n",
        "plt.xlabel('Fuel Type')\n",
        "plt.ylabel('Count')\n",
        "plt.title('Fuel Type Frequencies')\n",
        "plt.show()"
      ]
    },
    {
      "cell_type": "code",
      "execution_count": null,
      "id": "564073ac",
      "metadata": {
        "id": "564073ac"
      },
      "outputs": [],
      "source": [
        "import seaborn as sns\n",
        "sns.boxplot(x=df['Price'])\n",
        "plt.title('Price Boxplot')\n",
        "plt.show()"
      ]
    },
    {
      "cell_type": "code",
      "execution_count": null,
      "id": "8357071b",
      "metadata": {
        "id": "8357071b"
      },
      "outputs": [],
      "source": [
        "sns.countplot(x='FuelType', hue='Automatic', data=df)\n",
        "plt.title('Fuel Type vs Automatic Transmission')\n",
        "plt.show()"
      ]
    },
    {
      "cell_type": "code",
      "execution_count": null,
      "id": "30bab338",
      "metadata": {
        "colab": {
          "base_uri": "https://localhost:8080/",
          "height": 219
        },
        "id": "30bab338",
        "outputId": "f9d2c321-14ab-4865-e7f5-b9fe4086bf76"
      },
      "outputs": [
        {
          "output_type": "error",
          "ename": "NameError",
          "evalue": "name 'df' is not defined",
          "traceback": [
            "\u001b[0;31m---------------------------------------------------------------------------\u001b[0m",
            "\u001b[0;31mNameError\u001b[0m                                 Traceback (most recent call last)",
            "\u001b[0;32m<ipython-input-30-c702fb1d7629>\u001b[0m in \u001b[0;36m<cell line: 0>\u001b[0;34m()\u001b[0m\n\u001b[0;32m----> 1\u001b[0;31m \u001b[0mplt\u001b[0m\u001b[0;34m.\u001b[0m\u001b[0mscatter\u001b[0m\u001b[0;34m(\u001b[0m\u001b[0mdf\u001b[0m\u001b[0;34m[\u001b[0m\u001b[0;34m'Age'\u001b[0m\u001b[0;34m]\u001b[0m\u001b[0;34m,\u001b[0m \u001b[0mdf\u001b[0m\u001b[0;34m[\u001b[0m\u001b[0;34m'Price'\u001b[0m\u001b[0;34m]\u001b[0m\u001b[0;34m,\u001b[0m \u001b[0mc\u001b[0m\u001b[0;34m=\u001b[0m\u001b[0;34m'red'\u001b[0m\u001b[0;34m,\u001b[0m \u001b[0mmarker\u001b[0m\u001b[0;34m=\u001b[0m\u001b[0;34m'x'\u001b[0m\u001b[0;34m,\u001b[0m \u001b[0malpha\u001b[0m\u001b[0;34m=\u001b[0m\u001b[0;36m0.5\u001b[0m\u001b[0;34m)\u001b[0m\u001b[0;34m\u001b[0m\u001b[0;34m\u001b[0m\u001b[0m\n\u001b[0m\u001b[1;32m      2\u001b[0m \u001b[0mplt\u001b[0m\u001b[0;34m.\u001b[0m\u001b[0mxlabel\u001b[0m\u001b[0;34m(\u001b[0m\u001b[0;34m'Age'\u001b[0m\u001b[0;34m)\u001b[0m\u001b[0;34m\u001b[0m\u001b[0;34m\u001b[0m\u001b[0m\n\u001b[1;32m      3\u001b[0m \u001b[0mplt\u001b[0m\u001b[0;34m.\u001b[0m\u001b[0mylabel\u001b[0m\u001b[0;34m(\u001b[0m\u001b[0;34m'Price'\u001b[0m\u001b[0;34m)\u001b[0m\u001b[0;34m\u001b[0m\u001b[0;34m\u001b[0m\u001b[0m\n\u001b[1;32m      4\u001b[0m \u001b[0mplt\u001b[0m\u001b[0;34m.\u001b[0m\u001b[0mtitle\u001b[0m\u001b[0;34m(\u001b[0m\u001b[0;34m'Customized Scatter Plot'\u001b[0m\u001b[0;34m)\u001b[0m\u001b[0;34m\u001b[0m\u001b[0;34m\u001b[0m\u001b[0m\n\u001b[1;32m      5\u001b[0m \u001b[0mplt\u001b[0m\u001b[0;34m.\u001b[0m\u001b[0mshow\u001b[0m\u001b[0;34m(\u001b[0m\u001b[0;34m)\u001b[0m\u001b[0;34m\u001b[0m\u001b[0;34m\u001b[0m\u001b[0m\n",
            "\u001b[0;31mNameError\u001b[0m: name 'df' is not defined"
          ]
        }
      ],
      "source": [
        "plt.scatter(df['Age'], df['Price'], c='red', marker='x', alpha=0.5)\n",
        "plt.xlabel('Age')\n",
        "plt.ylabel('Price')\n",
        "plt.title('Customized Scatter Plot')\n",
        "plt.show()"
      ]
    },
    {
      "cell_type": "code",
      "execution_count": null,
      "id": "3f2adc5a",
      "metadata": {
        "id": "3f2adc5a"
      },
      "outputs": [],
      "source": [
        "sns.pairplot(df)\n",
        "plt.show()"
      ]
    },
    {
      "cell_type": "code",
      "execution_count": null,
      "id": "7886cf02",
      "metadata": {
        "colab": {
          "base_uri": "https://localhost:8080/",
          "height": 183
        },
        "id": "7886cf02",
        "outputId": "0d763220-fc8e-4746-8b96-2447a032441c"
      },
      "outputs": [
        {
          "output_type": "error",
          "ename": "NameError",
          "evalue": "name 'df' is not defined",
          "traceback": [
            "\u001b[0;31m---------------------------------------------------------------------------\u001b[0m",
            "\u001b[0;31mNameError\u001b[0m                                 Traceback (most recent call last)",
            "\u001b[0;32m<ipython-input-31-24c12c8c2947>\u001b[0m in \u001b[0;36m<cell line: 0>\u001b[0;34m()\u001b[0m\n\u001b[0;32m----> 1\u001b[0;31m \u001b[0mplt\u001b[0m\u001b[0;34m.\u001b[0m\u001b[0mhist\u001b[0m\u001b[0;34m(\u001b[0m\u001b[0mdf\u001b[0m\u001b[0;34m[\u001b[0m\u001b[0;34m'Age'\u001b[0m\u001b[0;34m]\u001b[0m\u001b[0;34m,\u001b[0m \u001b[0mbins\u001b[0m\u001b[0;34m=\u001b[0m\u001b[0;36m10\u001b[0m\u001b[0;34m)\u001b[0m\u001b[0;34m\u001b[0m\u001b[0;34m\u001b[0m\u001b[0m\n\u001b[0m\u001b[1;32m      2\u001b[0m \u001b[0mplt\u001b[0m\u001b[0;34m.\u001b[0m\u001b[0mtitle\u001b[0m\u001b[0;34m(\u001b[0m\u001b[0;34m'Age Histogram (10 bins)'\u001b[0m\u001b[0;34m)\u001b[0m\u001b[0;34m\u001b[0m\u001b[0;34m\u001b[0m\u001b[0m\n\u001b[1;32m      3\u001b[0m \u001b[0mplt\u001b[0m\u001b[0;34m.\u001b[0m\u001b[0mshow\u001b[0m\u001b[0;34m(\u001b[0m\u001b[0;34m)\u001b[0m\u001b[0;34m\u001b[0m\u001b[0;34m\u001b[0m\u001b[0m\n",
            "\u001b[0;31mNameError\u001b[0m: name 'df' is not defined"
          ]
        }
      ],
      "source": [
        "plt.hist(df['Age'], bins=10)\n",
        "plt.title('Age Histogram (10 bins)')\n",
        "plt.show()"
      ]
    },
    {
      "cell_type": "code",
      "execution_count": null,
      "id": "dccb8a75",
      "metadata": {
        "id": "dccb8a75"
      },
      "outputs": [],
      "source": [
        "sns.regplot(x='Age', y='Price', data=df)\n",
        "plt.title('Regression Line on Scatter Plot')\n",
        "plt.show()"
      ]
    },
    {
      "cell_type": "code",
      "execution_count": null,
      "id": "4b5b03d5",
      "metadata": {
        "id": "4b5b03d5"
      },
      "outputs": [],
      "source": [
        "sns.boxplot(x='FuelType', y='Price', data=df)\n",
        "plt.title('Boxplot of Price by Fuel Type')\n",
        "plt.show()"
      ]
    },
    {
      "cell_type": "code",
      "execution_count": null,
      "id": "f3c1bcf7",
      "metadata": {
        "id": "f3c1bcf7"
      },
      "outputs": [],
      "source": [
        "sns.violinplot(y='HP', data=df)\n",
        "plt.title('Violin Plot of HP')\n",
        "plt.show()"
      ]
    },
    {
      "cell_type": "code",
      "execution_count": null,
      "id": "9bbea8db",
      "metadata": {
        "colab": {
          "base_uri": "https://localhost:8080/",
          "height": 165
        },
        "id": "9bbea8db",
        "outputId": "da33832f-3d34-4f85-dfda-6d5081836512"
      },
      "outputs": [
        {
          "output_type": "error",
          "ename": "NameError",
          "evalue": "name 'iris_df' is not defined",
          "traceback": [
            "\u001b[0;31m---------------------------------------------------------------------------\u001b[0m",
            "\u001b[0;31mNameError\u001b[0m                                 Traceback (most recent call last)",
            "\u001b[0;32m<ipython-input-32-859aea1936d5>\u001b[0m in \u001b[0;36m<cell line: 0>\u001b[0;34m()\u001b[0m\n\u001b[0;32m----> 1\u001b[0;31m \u001b[0miris_df\u001b[0m\u001b[0;34m[\u001b[0m\u001b[0;34m'Species'\u001b[0m\u001b[0;34m]\u001b[0m\u001b[0;34m.\u001b[0m\u001b[0mvalue_counts\u001b[0m\u001b[0;34m(\u001b[0m\u001b[0;34m)\u001b[0m\u001b[0;34m.\u001b[0m\u001b[0mplot\u001b[0m\u001b[0;34m(\u001b[0m\u001b[0mkind\u001b[0m\u001b[0;34m=\u001b[0m\u001b[0;34m'pie'\u001b[0m\u001b[0;34m,\u001b[0m \u001b[0mautopct\u001b[0m\u001b[0;34m=\u001b[0m\u001b[0;34m'%1.1f%%'\u001b[0m\u001b[0;34m)\u001b[0m\u001b[0;34m\u001b[0m\u001b[0;34m\u001b[0m\u001b[0m\n\u001b[0m\u001b[1;32m      2\u001b[0m \u001b[0mplt\u001b[0m\u001b[0;34m.\u001b[0m\u001b[0mshow\u001b[0m\u001b[0;34m(\u001b[0m\u001b[0;34m)\u001b[0m\u001b[0;34m\u001b[0m\u001b[0;34m\u001b[0m\u001b[0m\n",
            "\u001b[0;31mNameError\u001b[0m: name 'iris_df' is not defined"
          ]
        }
      ],
      "source": [
        "iris_df['Species'].value_counts().plot(kind='pie', autopct='%1.1f%%')\n",
        "plt.show()"
      ]
    },
    {
      "cell_type": "code",
      "source": [
        "sns.ecdfplot(df['SepalLengthCm'])\n",
        "plt.title('ECDF of Sepal Length')\n",
        "plt.show()"
      ],
      "metadata": {
        "id": "D9IIUA-YQ0AI"
      },
      "id": "D9IIUA-YQ0AI",
      "execution_count": null,
      "outputs": []
    },
    {
      "cell_type": "code",
      "execution_count": null,
      "id": "e09e2cf9",
      "metadata": {
        "colab": {
          "base_uri": "https://localhost:8080/",
          "height": 642
        },
        "id": "e09e2cf9",
        "outputId": "5388ab6c-318d-4902-f9ac-a877a47a5cfb"
      },
      "outputs": [
        {
          "output_type": "error",
          "ename": "NameError",
          "evalue": "name 'sns' is not defined",
          "traceback": [
            "\u001b[0;31m---------------------------------------------------------------------------\u001b[0m",
            "\u001b[0;31mNameError\u001b[0m                                 Traceback (most recent call last)",
            "\u001b[0;32m<ipython-input-33-a7c710de62e2>\u001b[0m in \u001b[0;36m<cell line: 0>\u001b[0;34m()\u001b[0m\n\u001b[1;32m      1\u001b[0m \u001b[0mfig\u001b[0m\u001b[0;34m,\u001b[0m \u001b[0max\u001b[0m \u001b[0;34m=\u001b[0m \u001b[0mplt\u001b[0m\u001b[0;34m.\u001b[0m\u001b[0msubplots\u001b[0m\u001b[0;34m(\u001b[0m\u001b[0;36m1\u001b[0m\u001b[0;34m,\u001b[0m \u001b[0;36m2\u001b[0m\u001b[0;34m,\u001b[0m \u001b[0mfigsize\u001b[0m\u001b[0;34m=\u001b[0m\u001b[0;34m(\u001b[0m\u001b[0;36m12\u001b[0m\u001b[0;34m,\u001b[0m \u001b[0;36m5\u001b[0m\u001b[0;34m)\u001b[0m\u001b[0;34m)\u001b[0m\u001b[0;34m\u001b[0m\u001b[0;34m\u001b[0m\u001b[0m\n\u001b[1;32m      2\u001b[0m \u001b[0;34m\u001b[0m\u001b[0m\n\u001b[0;32m----> 3\u001b[0;31m \u001b[0msns\u001b[0m\u001b[0;34m.\u001b[0m\u001b[0mboxplot\u001b[0m\u001b[0;34m(\u001b[0m\u001b[0mx\u001b[0m\u001b[0;34m=\u001b[0m\u001b[0mdf\u001b[0m\u001b[0;34m[\u001b[0m\u001b[0;34m'Price'\u001b[0m\u001b[0;34m]\u001b[0m\u001b[0;34m,\u001b[0m \u001b[0max\u001b[0m\u001b[0;34m=\u001b[0m\u001b[0max\u001b[0m\u001b[0;34m[\u001b[0m\u001b[0;36m0\u001b[0m\u001b[0;34m]\u001b[0m\u001b[0;34m)\u001b[0m\u001b[0;34m\u001b[0m\u001b[0;34m\u001b[0m\u001b[0m\n\u001b[0m\u001b[1;32m      4\u001b[0m \u001b[0max\u001b[0m\u001b[0;34m[\u001b[0m\u001b[0;36m0\u001b[0m\u001b[0;34m]\u001b[0m\u001b[0;34m.\u001b[0m\u001b[0mset_title\u001b[0m\u001b[0;34m(\u001b[0m\u001b[0;34m'Boxplot of Price'\u001b[0m\u001b[0;34m)\u001b[0m\u001b[0;34m\u001b[0m\u001b[0;34m\u001b[0m\u001b[0m\n\u001b[1;32m      5\u001b[0m \u001b[0;34m\u001b[0m\u001b[0m\n",
            "\u001b[0;31mNameError\u001b[0m: name 'sns' is not defined"
          ]
        },
        {
          "output_type": "display_data",
          "data": {
            "text/plain": [
              "<Figure size 1200x500 with 2 Axes>"
            ],
            "image/png": "[encoded data removed]"
          },
          "metadata": {}
        }
      ],
      "source": [
        "fig, ax = plt.subplots(1, 2, figsize=(12, 5))\n",
        "\n",
        "sns.boxplot(x=df['Price'], ax=ax[0])\n",
        "ax[0].set_title('Boxplot of Price')\n",
        "\n",
        "ax[1].hist(df['Price'], bins=20)\n",
        "ax[1].set_title('Histogram of Price')\n",
        "\n",
        "plt.show()"
      ]
    },
    {
      "cell_type": "code",
      "execution_count": null,
      "id": "7e9ae3a0",
      "metadata": {
        "id": "7e9ae3a0"
      },
      "outputs": [],
      "source": [
        "sns.boxplot(x='FuelType', y='Price', data=df)\n",
        "plt.title('Price Distribution by Fuel Type')\n",
        "plt.show()"
      ]
    },
    {
      "cell_type": "code",
      "execution_count": null,
      "id": "d3dcd694",
      "metadata": {
        "id": "d3dcd694"
      },
      "outputs": [],
      "source": [
        "sns.set_theme(style='whitegrid')"
      ]
    },
    {
      "cell_type": "code",
      "execution_count": null,
      "id": "bb79dbbf",
      "metadata": {
        "id": "bb79dbbf"
      },
      "outputs": [],
      "source": [
        "sns.swarmplot(x='FuelType', y='Price', data=df)\n",
        "plt.title('Swarmplot of Price by Fuel Type')\n",
        "plt.show()"
      ]
    },
    {
      "cell_type": "code",
      "execution_count": null,
      "id": "c3d3e5f3",
      "metadata": {
        "id": "c3d3e5f3"
      },
      "outputs": [],
      "source": [
        "sns.heatmap(df.isnull(), cmap='coolwarm', cbar=False)\n",
        "plt.title('Missing Values Heatmap')\n",
        "plt.show()"
      ]
    },
    {
      "cell_type": "code",
      "execution_count": null,
      "id": "59510858",
      "metadata": {
        "id": "59510858"
      },
      "outputs": [],
      "source": [
        "plt.plot(df['Age'], df['Price'])\n",
        "plt.xlabel('Age')\n",
        "plt.ylabel('Price')\n",
        "plt.title('Price Over Age')\n",
        "plt.show()"
      ]
    },
    {
      "cell_type": "code",
      "execution_count": null,
      "id": "3cd3aef1",
      "metadata": {
        "id": "3cd3aef1"
      },
      "outputs": [],
      "source": [
        "plt.scatter(df['Age'], df['Price'])\n",
        "plt.xlabel('Age')\n",
        "plt.ylabel('Price')\n",
        "plt.title('Annotated Scatter Plot')\n",
        "\n",
        "# Add annotation\n",
        "plt.annotate('Peak Price', xy=(25, 25000), xytext=(30, 27000),\n",
        "             arrowprops=dict(facecolor='black', arrowstyle='->'))\n",
        "\n",
        "plt.show()"
      ]
    },
    {
      "cell_type": "code",
      "execution_count": null,
      "id": "5ce99d94",
      "metadata": {
        "id": "5ce99d94"
      },
      "outputs": [],
      "source": [
        "toyota['Price'].corr(toyota['Age'])"
      ]
    },
    {
      "cell_type": "code",
      "execution_count": null,
      "id": "06f77aaa",
      "metadata": {
        "id": "06f77aaa"
      },
      "outputs": [],
      "source": [
        "most_frequent_brand = df['brand'].value_counts().idxmax()\n",
        "print(f\"Most frequent car brand: {most_frequent_brand}\")"
      ]
    },
    {
      "cell_type": "code",
      "execution_count": null,
      "id": "1001fd28",
      "metadata": {
        "id": "1001fd28"
      },
      "outputs": [],
      "source": [
        "toyota.groupby('FuelType')['Price'].mean()"
      ]
    },
    {
      "cell_type": "code",
      "execution_count": null,
      "id": "19eeceb6",
      "metadata": {
        "id": "19eeceb6"
      },
      "outputs": [],
      "source": [
        "km_comparison = df.groupby('Automatic')['KM'].describe()\n",
        "print(km_comparison)"
      ]
    },
    {
      "cell_type": "code",
      "execution_count": null,
      "id": "8e635414",
      "metadata": {
        "colab": {
          "base_uri": "https://localhost:8080/",
          "height": 165
        },
        "id": "8e635414",
        "outputId": "8c9a0a25-2482-4312-e991-b9a79e4fef24"
      },
      "outputs": [
        {
          "output_type": "error",
          "ename": "NameError",
          "evalue": "name 'df' is not defined",
          "traceback": [
            "\u001b[0;31m---------------------------------------------------------------------------\u001b[0m",
            "\u001b[0;31mNameError\u001b[0m                                 Traceback (most recent call last)",
            "\u001b[0;32m<ipython-input-1-16f8d094dfb4>\u001b[0m in \u001b[0;36m<cell line: 0>\u001b[0;34m()\u001b[0m\n\u001b[0;32m----> 1\u001b[0;31m \u001b[0mtop_5_hp_cars\u001b[0m \u001b[0;34m=\u001b[0m \u001b[0mdf\u001b[0m\u001b[0;34m.\u001b[0m\u001b[0mnlargest\u001b[0m\u001b[0;34m(\u001b[0m\u001b[0;36m5\u001b[0m\u001b[0;34m,\u001b[0m \u001b[0;34m'HP'\u001b[0m\u001b[0;34m)\u001b[0m\u001b[0;34m[\u001b[0m\u001b[0;34m[\u001b[0m\u001b[0;34m'Brand'\u001b[0m\u001b[0;34m,\u001b[0m \u001b[0;34m'Model'\u001b[0m\u001b[0;34m,\u001b[0m \u001b[0;34m'HP'\u001b[0m\u001b[0;34m]\u001b[0m\u001b[0;34m]\u001b[0m\u001b[0;34m\u001b[0m\u001b[0;34m\u001b[0m\u001b[0m\n\u001b[0m\u001b[1;32m      2\u001b[0m \u001b[0mprint\u001b[0m\u001b[0;34m(\u001b[0m\u001b[0mtop_5_hp_cars\u001b[0m\u001b[0;34m)\u001b[0m\u001b[0;34m\u001b[0m\u001b[0;34m\u001b[0m\u001b[0m\n",
            "\u001b[0;31mNameError\u001b[0m: name 'df' is not defined"
          ]
        }
      ],
      "source": [
        "top_5_hp_cars = df.nlargest(5, 'HP')[['Brand', 'Model', 'HP']]\n",
        "print(top_5_hp_cars)"
      ]
    },
    {
      "cell_type": "code",
      "execution_count": null,
      "id": "ea859464",
      "metadata": {
        "id": "ea859464"
      },
      "outputs": [],
      "source": [
        "correlation_age_km = df['Age'].corr(df['KM'])\n",
        "print(f\"Correlation between Age and KM: {correlation_age_km}\")"
      ]
    },
    {
      "cell_type": "code",
      "execution_count": null,
      "id": "25835a63",
      "metadata": {
        "id": "25835a63"
      },
      "outputs": [],
      "source": [
        "price_variation_summary = df.groupby('FuelType')['Price'].describe()\n",
        "print(price_variation_summary)"
      ]
    },
    {
      "cell_type": "code",
      "execution_count": null,
      "id": "822067ae",
      "metadata": {
        "id": "822067ae"
      },
      "outputs": [],
      "source": [
        "most_missing_column = df.isnull().sum().idxmax()\n",
        "print(f\"Column with most missing values: {most_missing_column}\")"
      ]
    },
    {
      "cell_type": "code",
      "execution_count": null,
      "id": "c6307946",
      "metadata": {
        "id": "c6307946"
      },
      "outputs": [],
      "source": [
        "spread_sepal_width = df.groupby('Species')['SepalWidthCm'].describe()\n",
        "print(spread_sepal_width)"
      ]
    },
    {
      "cell_type": "code",
      "execution_count": null,
      "id": "74777d92",
      "metadata": {
        "id": "74777d92"
      },
      "outputs": [],
      "source": [
        "median_income_by_state = df.groupby('State')['Income'].median()\n",
        "print(median_income_by_state)"
      ]
    }
  ],
  "metadata": {
    "colab": {
      "provenance": [],
      "include_colab_link": true
    },
    "language_info": {
      "name": "python"
    },
    "kernelspec": {
      "name": "python3",
      "display_name": "Python 3"
    }
  },
  "nbformat": 4,
  "nbformat_minor": 5
}