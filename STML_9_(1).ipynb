{
  "nbformat": 4,
  "nbformat_minor": 0,
  "metadata": {
    "colab": {
      "provenance": [],
      "include_colab_link": true
    },
    "kernelspec": {
      "name": "python3",
      "display_name": "Python 3"
    },
    "language_info": {
      "name": "python"
    }
  },
  "cells": [
    {
      "cell_type": "markdown",
      "metadata": {
        "id": "view-in-github",
        "colab_type": "text"
      },
      "source": [
        "<a href=\"https://colab.research.google.com/github/Suchithareddy05/23CSBTB39-40/blob/main/STML_9_(1).ipynb\" target=\"_parent\"><img src=\"https://colab.research.google.com/assets/colab-badge.svg\" alt=\"Open In Colab\"/></a>"
      ]
    },
    {
      "cell_type": "markdown",
      "source": [
        "Name:B.Laxmi Spandana HTNO.:2303A52094 Batch:40"
      ],
      "metadata": {
        "id": "wlebyece-dEb"
      }
    },
    {
      "cell_type": "code",
      "source": [
        "import pandas as pd\n",
        "from sklearn.model_selection import train_test_split\n",
        "from sklearn.ensemble import RandomForestClassifier\n",
        "from sklearn.metrics import accuracy_score\n",
        "from sklearn.preprocessing import LabelEncoder\n",
        "\n",
        "# Step 1: Load the dataset\n",
        "url = 'breast_cancer_survival.csv'\n",
        "data = pd.read_csv(url)\n",
        "\n",
        "# Step 2: Display column names to identify the target variable\n",
        "print(\"Column names in the dataset:\")\n",
        "print(data.columns.tolist())\n",
        "\n",
        "# Step 3: Manually set the target variable after checking the output above\n",
        "target = input(\"Enter the name of the target variable (as displayed above): \")\n",
        "\n",
        "# Convert the entered target name to lowercase to handle case sensitivity\n",
        "target = target.strip()  # Remove leading/trailing spaces\n",
        "# Check if the target variable (case-insensitive) is in the columns\n",
        "if target.lower() not in [col.lower() for col in data.columns]:\n",
        "    raise KeyError(f\"'{target}' is not a valid column in the dataset. Please check the column names.\")\n",
        "# If the target variable is found (case-insensitive), get the actual column name\n",
        "else:\n",
        "    target = data.columns[[col.lower() for col in data.columns].index(target.lower())]\n",
        "\n",
        "\n",
        "# Identify feature columns\n",
        "features = data.columns[data.columns != target].tolist()\n",
        "\n",
        "# Step 4: Convert target variable to numerical if it's categorical\n",
        "if data[target].dtype == 'object':\n",
        "    le = LabelEncoder()\n",
        "    data[target] = le.fit_transform(data[target])  # Encode categorical target\n",
        "\n",
        "# Step 5: Convert categorical features to numerical\n",
        "data = pd.get_dummies(data, columns=features, drop_first=True)\n",
        "\n",
        "# Split the data into features (X) and target (y)\n",
        "X = data.drop(columns=[target])\n",
        "y = data[target]\n",
        "\n",
        "# Step 6: Function to evaluate model accuracy with different test sizes\n",
        "def evaluate_model(test_sizes):\n",
        "    results = {}\n",
        "    for size in test_sizes:\n",
        "        # Split the data\n",
        "        X_train, X_test, y_train, y_test = train_test_split(X, y, test_size=size, random_state=42)\n",
        "\n",
        "        # Initialize and train the model\n",
        "        model = RandomForestClassifier(random_state=42)\n",
        "        model.fit(X_train, y_train)\n",
        "\n",
        "        # Make predictions\n",
        "        y_pred = model.predict(X_test)\n",
        "\n",
        "        # Calculate accuracy\n",
        "        accuracy = accuracy_score(y_test, y_pred)\n",
        "        results[size] = accuracy\n",
        "        print(f\"Test Size: {size}, Accuracy: {accuracy:.2f}\")\n",
        "    return results\n",
        "\n",
        "# Step 7: Define test sizes to evaluate and call the evaluation function\n",
        "test_sizes = [0.1, 0.2, 0.3, 0.4, 0.5]\n",
        "accuracy_results = evaluate_model(test_sizes)"
      ],
      "metadata": {
        "colab": {
          "base_uri": "https://localhost:8080/"
        },
        "id": "SDdDKGwH8lJq",
        "outputId": "54319156-1f05-4bc4-bb8d-573a9237ee0d"
      },
      "execution_count": null,
      "outputs": [
        {
          "output_type": "stream",
          "name": "stdout",
          "text": [
            "Column names in the dataset:\n",
            "['Age', 'Gender', 'Protein1', 'Protein2', 'Protein3', 'Protein4', 'Tumour_Stage', 'Histology', 'ER status', 'PR status', 'HER2 status', 'Surgery_type', 'Date_of_Surgery', 'Date_of_Last_Visit', 'Patient_Status']\n",
            "Enter the name of the target variable (as displayed above): AGE\n",
            "Test Size: 0.1, Accuracy: 0.03\n",
            "Test Size: 0.2, Accuracy: 0.03\n",
            "Test Size: 0.3, Accuracy: 0.03\n",
            "Test Size: 0.4, Accuracy: 0.02\n",
            "Test Size: 0.5, Accuracy: 0.02\n"
          ]
        }
      ]
    },
    {
      "cell_type": "code",
      "source": [
        "import pandas as pd\n",
        "from sklearn.model_selection import train_test_split\n",
        "from sklearn.linear_model import LogisticRegression\n",
        "from sklearn.metrics import accuracy_score\n",
        "from sklearn.preprocessing import LabelEncoder\n",
        "\n",
        "# Step 1: Load the dataset\n",
        "url = 'breast_cancer_survival.csv'\n",
        "data = pd.read_csv(url)\n",
        "\n",
        "# Step 2: Display column names to identify the target variable\n",
        "print(\"Column names in the dataset:\")\n",
        "print(data.columns.tolist())\n",
        "\n",
        "# Step 3: Manually set the target variable after checking the output above\n",
        "target = input(\"Enter the name of the target variable (as displayed above): \")\n",
        "\n",
        "# Convert the entered target name to lowercase to handle case sensitivity\n",
        "target = target.strip()  # Remove leading/trailing spaces\n",
        "# Check if the target variable (case-insensitive) is in the columns\n",
        "if target.lower() not in [col.lower() for col in data.columns]:\n",
        "    raise KeyError(f\"'{target}' is not a valid column in the dataset. Please check the column names.\")\n",
        "# If the target variable is found (case-insensitive), get the actual column name\n",
        "else:\n",
        "    target = data.columns[[col.lower() for col in data.columns].index(target.lower())]\n",
        "\n",
        "\n",
        "# Identify feature columns\n",
        "features = data.columns[data.columns != target].tolist()\n",
        "\n",
        "# Step 4: Convert target variable to numerical if it's categorical\n",
        "if data[target].dtype == 'object':\n",
        "    le = LabelEncoder()\n",
        "    data[target] = le.fit_transform(data[target])  # Encode categorical target\n",
        "\n",
        "# Step 5: Convert categorical features to numerical\n",
        "data = pd.get_dummies(data, columns=features, drop_first=True)\n",
        "\n",
        "# Split the data into features (X) and target (y)\n",
        "X = data.drop(columns=[target])  # Assuming 'target' is now the correct column name\n",
        "y = data[target]  # Assuming 'target' is now the correct column name\n",
        "\n",
        "\n",
        "# Step 6: Function to evaluate model accuracy with different test sizes\n",
        "def evaluate_model(test_sizes):\n",
        "    results = {}\n",
        "    for size in test_sizes:\n",
        "        # Split the data\n",
        "        X_train, X_test, y_train, y_test = train_test_split(X, y, test_size=size, random_state=42)\n",
        "\n",
        "        # Initialize and train the Logistic Regression model\n",
        "        model = LogisticRegression(max_iter=1000, random_state=42)\n",
        "        model.fit(X_train, y_train)\n",
        "\n",
        "        # Make predictions\n",
        "        y_pred = model.predict(X_test)\n",
        "\n",
        "        # Calculate accuracy\n",
        "        accuracy = accuracy_score(y_test, y_pred)\n",
        "        results[size] = accuracy\n",
        "        print(f\"Test Size: {size:.2f}, Accuracy: {accuracy:.2f}\")\n",
        "    return results\n",
        "\n",
        "# Step 7: Define test sizes to evaluate and call the evaluation function\n",
        "test_sizes = [0.1, 0.2, 0.3, 0.4, 0.5]\n",
        "accuracy_results = evaluate_model(test_sizes)"
      ],
      "metadata": {
        "colab": {
          "base_uri": "https://localhost:8080/"
        },
        "id": "7XqF62RS9acO",
        "outputId": "6ea20172-f354-4930-dc66-ec3c457582ea"
      },
      "execution_count": null,
      "outputs": [
        {
          "output_type": "stream",
          "name": "stdout",
          "text": [
            "Column names in the dataset:\n",
            "['Age', 'Gender', 'Protein1', 'Protein2', 'Protein3', 'Protein4', 'Tumour_Stage', 'Histology', 'ER status', 'PR status', 'HER2 status', 'Surgery_type', 'Date_of_Surgery', 'Date_of_Last_Visit', 'Patient_Status']\n",
            "Enter the name of the target variable (as displayed above): gender\n",
            "Test Size: 0.10, Accuracy: 1.00\n",
            "Test Size: 0.20, Accuracy: 1.00\n",
            "Test Size: 0.30, Accuracy: 0.99\n",
            "Test Size: 0.40, Accuracy: 0.99\n",
            "Test Size: 0.50, Accuracy: 0.99\n"
          ]
        }
      ]
    },
    {
      "cell_type": "code",
      "source": [],
      "metadata": {
        "id": "Izvz7KLZ_fEQ"
      },
      "execution_count": null,
      "outputs": []
    }
  ]
}