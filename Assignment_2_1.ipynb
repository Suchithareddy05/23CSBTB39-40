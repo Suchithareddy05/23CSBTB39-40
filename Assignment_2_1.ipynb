{
  "cells": [
    {
      "cell_type": "markdown",
      "metadata": {
        "id": "view-in-github",
        "colab_type": "text"
      },
      "source": [
        "<a href=\"https://colab.research.google.com/github/Suchithareddy05/23CSBTB39-40/blob/main/Assignment_2_1.ipynb\" target=\"_parent\"><img src=\"https://colab.research.google.com/assets/colab-badge.svg\" alt=\"Open In Colab\"/></a>"
      ]
    },
    {
      "cell_type": "code",
      "execution_count": null,
      "metadata": {
        "id": "n_1fHcbDPaMj",
        "outputId": "131326a0-2a5e-4da3-e9ac-17e96b675c6e"
      },
      "outputs": [
        {
          "name": "stdout",
          "output_type": "stream",
          "text": [
            "[[7 4 1]\n",
            " [8 5 2]\n",
            " [9 6 3]]\n"
          ]
        }
      ],
      "source": [
        "import numpy as np\n",
        "m = np.array([[1, 2, 3],\n",
        "                   [4, 5, 6],\n",
        "                   [7, 8, 9]])\n",
        "n = m.shape[0]\n",
        "for i in range(n):\n",
        "    for j in range(i + 1, n):\n",
        "        m[i, j], m[j, i] = m[j, i], m[i, j]\n",
        "for i in range(n):\n",
        "    m[i] = m[i][::-1]\n",
        "print(m)"
      ]
    },
    {
      "cell_type": "code",
      "execution_count": null,
      "metadata": {
        "id": "8Ae-ps9nPaMl",
        "outputId": "ebd797e4-d6b7-413b-d9e3-ee3bb35285e5"
      },
      "outputs": [
        {
          "name": "stdout",
          "output_type": "stream",
          "text": [
            "[1 2 3 4 5 6 7 8]\n"
          ]
        }
      ],
      "source": [
        "import numpy as np\n",
        "a = np.array([\n",
        "    [[1, 2], [3, 4]],\n",
        "    [[5, 6], [7, 8]]\n",
        "])\n",
        "flattened = []\n",
        "for i in range(a.shape[0]):\n",
        "    for j in range(a.shape[1]):\n",
        "        for k in range(a.shape[2]):\n",
        "            flattened.append(a[i][j][k])\n",
        "flattened_array = np.array(flattened)\n",
        "print(flattened_array)\n"
      ]
    },
    {
      "cell_type": "code",
      "execution_count": null,
      "metadata": {
        "id": "3CaYvrJNPaMl",
        "outputId": "5c47a4a4-112a-40f4-e158-23afea3e8ba6"
      },
      "outputs": [
        {
          "name": "stdout",
          "output_type": "stream",
          "text": [
            "Part 1:\n",
            "[[1 2 3]\n",
            " [4 5 6]]\n",
            "\n",
            "Part 2:\n",
            "[[ 7  8  9]\n",
            " [10 11 12]]\n",
            "\n",
            "Part 3:\n",
            "[[13 14 15]\n",
            " [16 17 18]]\n",
            "\n"
          ]
        }
      ],
      "source": [
        "import numpy as np\n",
        "\n",
        "matrix = np.array([\n",
        "    [1, 2, 3],\n",
        "    [4, 5, 6],\n",
        "    [7, 8, 9],\n",
        "    [10, 11, 12],\n",
        "    [13, 14, 15],\n",
        "    [16, 17, 18]\n",
        "])\n",
        "\n",
        "k = 3\n",
        "n = matrix.shape[0]\n",
        "\n",
        "if n % k != 0:\n",
        "    print(\"Matrix cannot split into parts.\")\n",
        "\n",
        "part_size = n // k\n",
        "parts = []\n",
        "\n",
        "for i in range(0, n, part_size):\n",
        "    parts.append(matrix[i:i + part_size])\n",
        "\n",
        "for idx, part in enumerate(parts):\n",
        "    print(f\"Part {idx + 1}:\\n{part}\\n\")\n"
      ]
    },
    {
      "cell_type": "code",
      "execution_count": null,
      "metadata": {
        "id": "UsNOx4jLPaMm",
        "outputId": "78e07583-6e48-49c8-f51b-978a65ae93db"
      },
      "outputs": [
        {
          "name": "stdout",
          "output_type": "stream",
          "text": [
            "[3, 2, 1]\n",
            "[6, 5, 4]\n",
            "[9, 8, 7]\n"
          ]
        }
      ],
      "source": [
        "matrix = [\n",
        "    [1, 2, 3],\n",
        "    [4, 5, 6],\n",
        "    [7, 8, 9]\n",
        "]\n",
        "matrix = [row[::-1] for row in matrix]\n",
        "for row in matrix:\n",
        "    print(row)\n"
      ]
    },
    {
      "cell_type": "code",
      "execution_count": null,
      "metadata": {
        "id": "Y101pu_UPaMm",
        "outputId": "54e2b5b4-c2ca-480b-fe85-66abaf3d5f51"
      },
      "outputs": [
        {
          "name": "stdout",
          "output_type": "stream",
          "text": [
            "[0, 1, 0, 1, 0, 1, 0, 1]\n",
            "[1, 0, 1, 0, 1, 0, 1, 0]\n",
            "[0, 1, 0, 1, 0, 1, 0, 1]\n",
            "[1, 0, 1, 0, 1, 0, 1, 0]\n",
            "[0, 1, 0, 1, 0, 1, 0, 1]\n",
            "[1, 0, 1, 0, 1, 0, 1, 0]\n",
            "[0, 1, 0, 1, 0, 1, 0, 1]\n",
            "[1, 0, 1, 0, 1, 0, 1, 0]\n"
          ]
        }
      ],
      "source": [
        "n = 8\n",
        "matrix = [[(i + j) % 2 for j in range(n)] for i in range(n)]\n",
        "for row in matrix:\n",
        "    print(row)"
      ]
    },
    {
      "cell_type": "code",
      "execution_count": null,
      "metadata": {
        "id": "5PHl16wKPaMm",
        "outputId": "ab782a4d-8193-4c9a-a6ee-2d703c9be4c1"
      },
      "outputs": [
        {
          "name": "stdout",
          "output_type": "stream",
          "text": [
            "[0, 1, 2.5, 4.0, 1.5]\n"
          ]
        }
      ],
      "source": [
        "a = [1, 2, 3]\n",
        "b = [0, 1, 0.5]\n",
        "n = len(a)\n",
        "m = len(b)\n",
        "result = [0] * (n + m - 1)\n",
        "for i in range(n):\n",
        "    for j in range(m):\n",
        "        result[i + j] += a[i] * b[j]\n",
        "print(result)"
      ]
    },
    {
      "cell_type": "code",
      "execution_count": null,
      "metadata": {
        "id": "HZ0E63ebPaMm",
        "outputId": "b4e04670-99ec-4480-b1f5-ac28fcb6b829"
      },
      "outputs": [
        {
          "name": "stdout",
          "output_type": "stream",
          "text": [
            "[[1.  2.  1.5]\n",
            " [4.  5.  6. ]\n",
            " [7.  8.  9. ]]\n"
          ]
        }
      ],
      "source": [
        "import numpy as np\n",
        "arr = np.array([\n",
        "    [1, 2, np.nan],\n",
        "    [4, np.nan, 6],\n",
        "    [7, 8, 9]\n",
        "])\n",
        "row_means = np.nanmean(arr, axis=1)\n",
        "for i in range(arr.shape[0]):\n",
        "    arr[i][np.isnan(arr[i])] = row_means[i]\n",
        "print(arr)"
      ]
    },
    {
      "cell_type": "code",
      "execution_count": null,
      "metadata": {
        "id": "ZLE3XK_aPaMm",
        "outputId": "e431e627-43bc-44b4-aaa7-a633cb301b90"
      },
      "outputs": [
        {
          "name": "stdout",
          "output_type": "stream",
          "text": [
            "[[1 4 3 2]\n",
            " [2 1 4 3]\n",
            " [3 2 1 4]\n",
            " [4 3 2 1]]\n"
          ]
        }
      ],
      "source": [
        "import numpy as np\n",
        "first_col = np.array([1, 2, 3, 4])\n",
        "first_row = np.array([1, 5, 6, 7])\n",
        "i = np.arange(len(first_col))[:, None]\n",
        "j = np.arange(len(first_row))\n",
        "a = first_col[i - j]\n",
        "\n",
        "print(a)\n"
      ]
    },
    {
      "cell_type": "code",
      "execution_count": null,
      "metadata": {
        "id": "WBEsh--kPaMn",
        "outputId": "e11e582d-e6fc-48dc-d5eb-db36ab8a9960"
      },
      "outputs": [
        {
          "name": "stdout",
          "output_type": "stream",
          "text": [
            "[[0.00296902 0.01330621 0.02193823 0.01330621 0.00296902]\n",
            " [0.01330621 0.0596343  0.09832033 0.0596343  0.01330621]\n",
            " [0.02193823 0.09832033 0.16210282 0.09832033 0.02193823]\n",
            " [0.01330621 0.0596343  0.09832033 0.0596343  0.01330621]\n",
            " [0.00296902 0.01330621 0.02193823 0.01330621 0.00296902]]\n"
          ]
        }
      ],
      "source": [
        "import numpy as np\n",
        "\n",
        "size = 5\n",
        "sigma = 1.0\n",
        "\n",
        "ax = np.arange(-(size // 2), size // 2 + 1)\n",
        "xx, yy = np.meshgrid(ax, ax)\n",
        "kernel = np.exp(-(xx**2 + yy**2) / (2.0 * sigma**2))\n",
        "kernel = kernel / np.sum(kernel)\n",
        "\n",
        "print(kernel)\n"
      ]
    },
    {
      "cell_type": "code",
      "execution_count": null,
      "metadata": {
        "id": "1CFjwL9RPaMn",
        "outputId": "5066f446-9b5a-4f8b-b2f1-e25235acc26b"
      },
      "outputs": [
        {
          "name": "stdout",
          "output_type": "stream",
          "text": [
            "[[1 2 3]\n",
            " [4 5 6]\n",
            " [7 8 9]]\n"
          ]
        }
      ],
      "source": [
        "import numpy as np\n",
        "arr = np.array([\n",
        "    [1, 2, 3],\n",
        "    [4, 5, 6],\n",
        "    [1, 2, 3],\n",
        "    [7, 8, 9]\n",
        "])\n",
        "unique_rows = np.unique(arr, axis=0)\n",
        "print(unique_rows)"
      ]
    },
    {
      "cell_type": "code",
      "execution_count": null,
      "metadata": {
        "id": "SS9_EACEPaMn",
        "outputId": "6491520b-c726-4367-f60c-752188a373da"
      },
      "outputs": [
        {
          "name": "stdout",
          "output_type": "stream",
          "text": [
            "[[17 23]\n",
            " [39 53]]\n"
          ]
        }
      ],
      "source": [
        "import numpy as np\n",
        "A = np.array([[1, 2], [3, 4]])\n",
        "B = np.array([[5, 6], [7, 8]])\n",
        "A_exp = A[:, :, None]\n",
        "B_exp = B.T[None, :, :]\n",
        "result = np.sum(A_exp * B_exp, axis=1)\n",
        "\n",
        "print(result)\n"
      ]
    },
    {
      "cell_type": "code",
      "execution_count": null,
      "metadata": {
        "id": "Ia9Xr0EAPaMn",
        "outputId": "ee99a909-4598-4bf2-f742-8e5f2818f7c7"
      },
      "outputs": [
        {
          "name": "stdout",
          "output_type": "stream",
          "text": [
            "[[0 0 0 0]\n",
            " [0 1 2 0]\n",
            " [0 3 4 0]\n",
            " [0 0 0 0]]\n"
          ]
        }
      ],
      "source": [
        "arr = np.array([[1, 2], [3, 4]])\n",
        "k = 1\n",
        "padded = np.pad(arr, pad_width=k, mode='constant', constant_values=0)\n",
        "print(padded)"
      ]
    },
    {
      "cell_type": "code",
      "execution_count": null,
      "metadata": {
        "id": "76JwivpOPaMn",
        "outputId": "8b7d1e2a-9123-484d-e6f1-bd01832ec112"
      },
      "outputs": [
        {
          "name": "stdout",
          "output_type": "stream",
          "text": [
            "[1 2 3 4]\n"
          ]
        }
      ],
      "source": [
        "def custom_reshape(arr, new_shape):\n",
        "    if np.prod(arr.shape) != np.prod(new_shape):\n",
        "        raise ValueError(\"Incompatible shapes for reshape\")\n",
        "    return np.array(arr).flatten()[:np.prod(new_shape)].reshape(new_shape)\n",
        "\n",
        "arr = np.array([[1, 2], [3, 4]])\n",
        "reshaped = custom_reshape(arr, (4,))\n",
        "print(reshaped)\n"
      ]
    },
    {
      "cell_type": "code",
      "execution_count": null,
      "metadata": {
        "id": "QYEJsMD0PaMn",
        "outputId": "0e32b2a4-cc3f-4340-dd70-2b1de39660f8"
      },
      "outputs": [
        {
          "name": "stdout",
          "output_type": "stream",
          "text": [
            "[ 1  3  6 10]\n"
          ]
        }
      ],
      "source": [
        "import numpy as np\n",
        "\n",
        "arr = np.array([1, 2, 3, 4])\n",
        "n = arr.shape[0]\n",
        "mask = np.tri(n, dtype=int)\n",
        "cumsum = np.dot(mask, arr)\n",
        "\n",
        "print(cumsum)\n"
      ]
    },
    {
      "cell_type": "code",
      "execution_count": null,
      "metadata": {
        "id": "jJ1qDL0OPaMn",
        "outputId": "3ab2b2cd-6eb9-4b6d-a115-d5a53f506450"
      },
      "outputs": [
        {
          "name": "stdout",
          "output_type": "stream",
          "text": [
            "Diagonal: [1 5 9]\n",
            "Anti-diagonal: [3 5 7]\n"
          ]
        }
      ],
      "source": [
        "matrix = np.array([\n",
        "    [1, 2, 3],\n",
        "    [4, 5, 6],\n",
        "    [7, 8, 9]\n",
        "])\n",
        "main_diag = np.diag(matrix)\n",
        "anti_diag = np.diag(np.fliplr(matrix))\n",
        "print(\"Diagonal:\", main_diag)\n",
        "print(\"Anti-diagonal:\", anti_diag)"
      ]
    },
    {
      "cell_type": "code",
      "execution_count": null,
      "metadata": {
        "id": "l2HKgMpCPaMo",
        "outputId": "8d393d36-4085-4883-a92a-8d1d3aa0acac"
      },
      "outputs": [
        {
          "name": "stdout",
          "output_type": "stream",
          "text": [
            "[[1 3]\n",
            " [2 4]]\n"
          ]
        }
      ],
      "source": [
        "arr = np.array([[3, 1], [4, 2]])\n",
        "sorted_rows = np.sort(arr, axis=1)\n",
        "sorted_cols = np.sort(sorted_rows, axis=0)\n",
        "print(sorted_cols)"
      ]
    },
    {
      "cell_type": "code",
      "execution_count": null,
      "metadata": {
        "id": "Dt1HNs3DPaMo",
        "outputId": "ecffbd00-4d74-48c5-e3cf-f95cb4203019"
      },
      "outputs": [
        {
          "name": "stdout",
          "output_type": "stream",
          "text": [
            "2\n"
          ]
        }
      ],
      "source": [
        "arr = np.random.randint(0, 10, size=(1000, 1000))\n",
        "vals, counts = np.unique(arr, return_counts=True)\n",
        "most_freq = vals[np.argmax(counts)]\n",
        "print(most_freq)"
      ]
    },
    {
      "cell_type": "code",
      "execution_count": null,
      "metadata": {
        "id": "NIrPSZvCPaMo",
        "outputId": "ac81d38f-c679-406b-cddb-19a2a47929be"
      },
      "outputs": [
        {
          "name": "stdout",
          "output_type": "stream",
          "text": [
            "(4, 2, 3)\n"
          ]
        }
      ],
      "source": [
        "arr = np.random.rand(2, 3, 4)\n",
        "permuted = arr.swapaxes(0, 2).swapaxes(1, 2)\n",
        "print(permuted.shape)"
      ]
    },
    {
      "cell_type": "code",
      "execution_count": null,
      "metadata": {
        "id": "t9GJIuH-PaMo",
        "outputId": "f0880b85-4cff-4d94-c916-d2ca0593b9b7"
      },
      "outputs": [
        {
          "name": "stdout",
          "output_type": "stream",
          "text": [
            "[(1, 2), (0, 3), (1, 1)]\n"
          ]
        }
      ],
      "source": [
        "arr = np.array([\n",
        "    [0, 0, 1, 1],\n",
        "    [0, 0, 0, 1]\n",
        "])\n",
        "flat = arr.flatten()\n",
        "changes = np.diff(flat, prepend=flat[0])\n",
        "positions = np.where(changes != 0)[0]\n",
        "lengths = np.diff(np.append(positions, len(flat)))\n",
        "values = flat[positions]\n",
        "rle = list(zip(values, lengths))\n",
        "print(rle)"
      ]
    },
    {
      "cell_type": "code",
      "execution_count": null,
      "metadata": {
        "id": "QbPKrCfTPaMo"
      },
      "outputs": [],
      "source": [
        "arr = np.array([\n",
        "    [1, 2, 3],\n",
        "    [4, 5, 6],\n",
        "    [7, 8, 9]\n",
        "])\n",
        "k = 1\n",
        "shifted = np.vstack((arr[-k:], arr[:-k]))\n",
        "print(shifted)"
      ]
    },
    {
      "cell_type": "code",
      "execution_count": null,
      "metadata": {
        "id": "ss4YowyyPaMo",
        "outputId": "5b1d6121-f719-46b4-a459-b92aee068dac"
      },
      "outputs": [
        {
          "name": "stdout",
          "output_type": "stream",
          "text": [
            "[2. 3.]\n"
          ]
        }
      ],
      "source": [
        "import numpy as np\n",
        "A = np.array([[3, 1], [1, 2]])\n",
        "b = np.array([9, 8])\n",
        "x = np.dot(np.linalg.inv(A), b)\n",
        "print(x)\n"
      ]
    },
    {
      "cell_type": "code",
      "execution_count": null,
      "metadata": {
        "id": "SpFy8rTLPaMo",
        "outputId": "eab7c035-4bfc-4a0b-f511-f5374c2950a0"
      },
      "outputs": [
        {
          "name": "stdout",
          "output_type": "stream",
          "text": [
            "[[-0.40873096  0.8035724   0.38744358 -0.19260809]\n",
            " [-0.71765908 -0.50264454  0.410768    0.25215782]\n",
            " [-0.3907947  -0.18636558 -0.42177319 -0.79665221]\n",
            " [-0.40642828  0.25862664 -0.70941138  0.51445487]]\n",
            "[[ 1.00000000e+00  1.66533454e-16 -5.63785130e-17 -8.32667268e-17]\n",
            " [ 1.66533454e-16  1.00000000e+00  2.77555756e-17  6.09321621e-17]\n",
            " [-5.63785130e-17  2.77555756e-17  1.00000000e+00 -5.55111512e-17]\n",
            " [-8.32667268e-17  6.09321621e-17 -5.55111512e-17  1.00000000e+00]]\n"
          ]
        }
      ],
      "source": [
        "Q, R = np.linalg.qr(np.random.randn(4, 4))\n",
        "print(Q)\n",
        "print(np.dot(Q, Q.T))"
      ]
    },
    {
      "cell_type": "code",
      "execution_count": null,
      "metadata": {
        "id": "F4kU2GIqPaMo",
        "outputId": "a7d59d1a-bcec-4ff4-8cb0-77d72a28676a"
      },
      "outputs": [
        {
          "name": "stdout",
          "output_type": "stream",
          "text": [
            "True\n",
            "True\n"
          ]
        }
      ],
      "source": [
        "A = np.array([[4, 2], [1, 3]])\n",
        "vals, vecs = np.linalg.eig(A)\n",
        "for i in range(len(vals)):\n",
        "    left = np.dot(A, vecs[:, i])\n",
        "    right = vals[i] * vecs[:, i]\n",
        "    print(np.allclose(left, right))"
      ]
    },
    {
      "cell_type": "code",
      "execution_count": null,
      "metadata": {
        "id": "AfSpyRIOPaMo",
        "outputId": "304427c5-bcee-4d3c-e975-ef5a470e4ea4"
      },
      "outputs": [
        {
          "name": "stdout",
          "output_type": "stream",
          "text": [
            "[[ 0.70710678  0.40824829 -0.57735027]\n",
            " [ 0.70710678 -0.40824829  0.57735027]\n",
            " [ 0.          0.81649658  0.57735027]]\n",
            "[[1.41421356 0.70710678 0.70710678]\n",
            " [0.         1.22474487 0.40824829]\n",
            " [0.         0.         1.15470054]]\n"
          ]
        }
      ],
      "source": [
        "A = np.array([[1., 1., 0.], [1., 0., 1.], [0., 1., 1.]])\n",
        "m, n = A.shape\n",
        "Q = np.zeros((m, n))\n",
        "R = np.zeros((n, n))\n",
        "for k in range(n):\n",
        "    u = A[:, k].copy()\n",
        "    for j in range(k):\n",
        "        R[j, k] = np.dot(Q[:, j], A[:, k])\n",
        "        u -= R[j, k] * Q[:, j]\n",
        "    R[k, k] = np.linalg.norm(u)\n",
        "    Q[:, k] = u / R[k, k]\n",
        "print(Q)\n",
        "print(R)"
      ]
    },
    {
      "cell_type": "code",
      "execution_count": null,
      "metadata": {
        "id": "eEZtrrJJPaMo",
        "outputId": "f1ffa7a2-359b-4287-a970-daa1074f1a81"
      },
      "outputs": [
        {
          "name": "stdout",
          "output_type": "stream",
          "text": [
            "14.933034373659265\n"
          ]
        }
      ],
      "source": [
        "A = np.array([[1, 2], [3, 4]])\n",
        "s = np.linalg.svd(A, compute_uv=False)\n",
        "c = s[0] / s[-1]\n",
        "print(c)"
      ]
    },
    {
      "cell_type": "code",
      "execution_count": null,
      "metadata": {
        "id": "MkeeaSfKPaMo",
        "outputId": "752e92f2-43a4-4b3c-cfa0-21c48e5ea80e"
      },
      "outputs": [
        {
          "name": "stdout",
          "output_type": "stream",
          "text": [
            "True\n"
          ]
        }
      ],
      "source": [
        "def is_pos_def(M):\n",
        "    try:\n",
        "        np.linalg.cholesky(M)\n",
        "        return True\n",
        "    except np.linalg.LinAlgError:\n",
        "        return False\n",
        "\n",
        "M = np.array([[2, -1], [-1, 2]])\n",
        "print(is_pos_def(M))\n"
      ]
    },
    {
      "cell_type": "code",
      "execution_count": null,
      "metadata": {
        "id": "hq-BOSVaPaMo",
        "outputId": "001ec349-126e-4dde-89d7-9f540845d895"
      },
      "outputs": [
        {
          "name": "stdout",
          "output_type": "stream",
          "text": [
            "[[ 5.14190701e-01  6.12087376e-01  7.93146809e-01 -1.14468006e+00\n",
            "  -9.61199183e-01]\n",
            " [ 1.34900202e+00  2.95256554e-01 -1.06501237e+00  1.23618467e-01\n",
            "   9.10953653e-01]\n",
            " [ 7.18622616e-01 -1.69732488e+00 -6.25225263e-01 -1.17567997e+00\n",
            "  -1.79433230e+00]\n",
            " [-5.75327075e-01  1.97440416e-01 -1.44619009e+00  7.21378273e-01\n",
            "  -3.60600098e-01]\n",
            " [-8.28950540e-01  1.43606866e-01  2.58770962e-02 -7.84721067e-01\n",
            "  -2.00269196e+00]\n",
            " [-1.39879842e+00  1.41758101e+00 -7.27966224e-01 -9.40617807e-01\n",
            "  -5.63259471e-01]\n",
            " [ 3.47779211e-01 -1.90961419e+00  2.76926674e-01 -4.40433419e-01\n",
            "  -3.28276994e-01]\n",
            " [-2.14537498e+00 -1.94662353e-01 -8.36518589e-01 -4.75318136e-01\n",
            "   6.05684107e-01]\n",
            " [ 1.09386710e+00  8.73768765e-01  1.29599484e+00  6.48147629e-01\n",
            "  -1.97562884e-01]\n",
            " [ 2.17069100e+00 -6.28477769e-03 -5.49164545e-01 -1.34549951e-01\n",
            "  -5.50008014e-01]\n",
            " [ 2.34979682e-01 -1.27723146e+00  3.71736049e-01 -1.12615546e+00\n",
            "   1.58246734e+00]\n",
            " [-8.54415266e-01 -1.53139841e-01  6.76336276e-01  1.06333035e+00\n",
            "  -2.50945199e+00]\n",
            " [ 3.55985366e-02 -5.88378843e-01 -1.44481335e+00  7.51588296e-01\n",
            "  -8.62349117e-01]\n",
            " [ 2.02067732e+00 -3.51887775e-01 -1.16953567e+00  1.04317221e+00\n",
            "  -2.48487549e-01]\n",
            " [ 1.23904427e+00 -2.87658043e+00 -1.61902933e+00  2.14863967e-01\n",
            "   1.40648978e+00]\n",
            " [ 3.96469670e-01  1.46366364e+00 -6.16980344e-01 -1.41902700e-01\n",
            "  -5.47582643e-01]\n",
            " [ 1.46430677e+00  8.42443298e-01  8.41780403e-01 -1.64635096e+00\n",
            "   6.54752565e-01]\n",
            " [-1.68720532e+00 -1.36594912e+00  5.93184618e-02 -1.26202287e-02\n",
            "   1.12532219e+00]\n",
            " [-1.65433680e+00 -4.70986984e-02  1.35095858e+00 -6.17840596e-01\n",
            "   9.58511734e-01]\n",
            " [ 6.47775503e-01 -4.89588358e-01  1.45823964e+00  1.54385908e+00\n",
            "  -1.79558205e+00]\n",
            " [-3.86453963e-01  8.40098453e-01  8.95931892e-01  9.35709321e-01\n",
            "  -2.07573054e-01]\n",
            " [-9.28455486e-01  1.19238773e+00 -1.71364295e-01  5.97781454e-01\n",
            "   5.27950506e-01]\n",
            " [-2.16041844e+00 -1.67241649e-01 -9.11801337e-01  7.88494327e-01\n",
            "   3.03333649e-01]\n",
            " [-2.25086706e+00 -8.03879233e-01  8.54663680e-01 -1.16074746e+00\n",
            "   3.28194224e-01]\n",
            " [ 2.19067019e+00  2.15361602e-01 -5.25027548e-01 -2.24761996e-01\n",
            "   2.35912632e-01]\n",
            " [ 3.10218051e-01  3.53115491e-02 -1.15229258e+00 -1.11752281e+00\n",
            "   9.54660583e-02]\n",
            " [ 1.65521581e-01  1.28944571e+00 -1.34965928e+00  8.33985242e-01\n",
            "  -4.23678751e-01]\n",
            " [-1.75344521e-01  3.90764209e-01 -1.13509355e+00 -1.97489174e-01\n",
            "   7.50889322e-01]\n",
            " [-1.42393335e+00 -3.91959254e-01  1.98426493e+00 -2.18711301e-01\n",
            "   1.41970248e-01]\n",
            " [-1.47363991e-01 -2.13952794e-01  8.66354818e-01  8.49299496e-01\n",
            "  -6.13624526e-01]\n",
            " [ 1.13752586e+00 -1.03688002e+00  2.06022993e-01 -7.74194429e-01\n",
            "  -5.75234912e-02]\n",
            " [ 3.68998681e-01 -5.90357608e-01  6.52690374e-01  9.31131408e-01\n",
            "  -9.36095951e-04]\n",
            " [-4.45142131e-01 -2.13708458e-01  1.69257524e-01  3.71085272e-02\n",
            "  -1.14599944e+00]\n",
            " [ 9.27112577e-01  7.06870417e-02 -7.16872261e-02  1.23170016e+00\n",
            "   5.34015436e-01]\n",
            " [-5.87450080e-01  6.93932146e-01  1.16121786e+00  6.58393080e-01\n",
            "   4.82592327e-01]\n",
            " [ 4.38412410e-01  6.00623818e-01 -2.35026665e+00 -3.14757331e-01\n",
            "  -1.20753080e+00]\n",
            " [-9.02881338e-01 -1.89376733e+00  3.08624899e-02  3.83148395e-01\n",
            "  -5.29639791e-01]\n",
            " [ 9.33802208e-01  2.62746663e-01 -1.24252697e+00 -1.96435844e-01\n",
            "  -1.14603401e+00]\n",
            " [ 3.04346162e-01  1.52609793e-02 -7.66947272e-01 -5.02167712e-01\n",
            "   7.85181810e-01]\n",
            " [-6.86453981e-01  1.21373117e-01 -1.86967807e+00 -3.51729621e-02\n",
            "   5.60517476e-01]\n",
            " [ 1.55691133e+00  7.49614410e-01  5.73707098e-01 -2.34842550e-01\n",
            "   2.14868822e-01]\n",
            " [-8.43343010e-01 -3.70948058e-01 -5.03179280e-02 -1.04212583e+00\n",
            "  -1.09885304e+00]\n",
            " [ 9.34555599e-04 -1.44221615e-01  9.94215089e-01  1.97314067e+00\n",
            "  -3.82124079e-01]\n",
            " [-4.17404803e-01  5.27425014e-01 -7.24651060e-01 -5.42061870e-01\n",
            "  -1.18202267e-01]\n",
            " [-5.41007055e-01  8.29090257e-01 -8.08581550e-01  8.15795327e-01\n",
            "  -5.31351903e-01]\n",
            " [ 5.18962703e-01 -1.61785491e+00 -7.29133690e-01 -1.27251814e+00\n",
            "  -5.56443800e-01]\n",
            " [-8.51655937e-01  1.52121923e+00  1.97411088e-01 -6.26274378e-02\n",
            "  -9.92818702e-02]\n",
            " [-7.69728107e-01  1.10590758e+00  6.39351139e-01  1.61869949e+00\n",
            "  -3.07773142e-01]\n",
            " [ 1.10409375e+00 -1.13810028e-01 -1.90806499e-01  1.41087577e+00\n",
            "  -3.76203925e-01]\n",
            " [ 8.14965714e-01 -8.69238721e-01  9.91963116e-01  5.58397196e-01\n",
            "  -1.20427968e-01]\n",
            " [ 4.26982005e-01 -1.59089125e-01 -3.17054786e-01 -7.48219207e-01\n",
            "   2.64320327e-01]\n",
            " [-1.42004143e+00 -4.60935878e-01  1.77886561e-01 -5.82783513e-01\n",
            "  -9.32317951e-01]\n",
            " [ 4.52227853e-01  2.18847139e-01  9.41691258e-01 -7.58941596e-01\n",
            "  -6.90534691e-01]\n",
            " [-7.33368386e-01 -1.20961907e+00  9.58264288e-01 -1.08873629e+00\n",
            "  -1.62164546e+00]\n",
            " [ 2.64406468e+00 -7.10280438e-01  2.31901679e+00 -7.51791350e-01\n",
            "  -6.67849090e-01]\n",
            " [-1.75739370e+00  1.03039323e+00 -4.30226681e-01  2.09692076e-01\n",
            "   1.39235806e+00]\n",
            " [ 1.50176407e+00 -1.99513749e+00 -1.17878008e+00  4.25364961e-01\n",
            "   1.24019560e+00]\n",
            " [-4.53031202e-01 -2.13152898e+00 -2.42398931e-02 -3.69909328e-01\n",
            "  -1.62168393e+00]\n",
            " [ 5.79222748e-02  4.01652286e-01  1.40909036e+00  1.79974543e-01\n",
            "   7.88648848e-01]\n",
            " [-3.25533339e-02  9.89731956e-01 -3.32989835e-01 -1.06746372e+00\n",
            "  -5.67429817e-02]\n",
            " [-1.13309448e+00 -4.34639850e-01  1.19022173e+00  1.28821910e+00\n",
            "  -8.03282791e-01]\n",
            " [-2.38364544e-01  1.36702940e+00 -6.92449703e-01  7.30582987e-01\n",
            "  -2.43927576e-01]\n",
            " [-1.29605691e+00 -6.52058272e-01 -4.69747555e-01 -1.31113000e+00\n",
            "   2.44498678e-01]\n",
            " [-1.45147289e+00 -1.13395819e+00  1.09130426e+00  1.72651510e+00\n",
            "   5.20288372e-01]\n",
            " [-1.08225314e+00  5.34761108e-01 -2.07117646e+00  1.45972710e+00\n",
            "  -1.08721609e+00]\n",
            " [ 1.17369924e+00 -1.62656494e+00  6.81888560e-01 -4.85915451e-01\n",
            "   1.22003420e+00]\n",
            " [-9.57109448e-01  1.48217435e+00  3.74944987e-01 -4.58879442e-01\n",
            "   9.72548830e-01]\n",
            " [-1.25703898e+00 -2.32370610e-02 -7.55742434e-02 -1.00004346e+00\n",
            "  -2.20184696e-01]\n",
            " [-1.56788704e+00 -3.24756493e-01 -1.98798082e-01  1.03614368e+00\n",
            "   7.41063645e-01]\n",
            " [ 2.49684075e+00  8.14517078e-01 -3.36701597e-01  4.60226046e-01\n",
            "  -3.12823578e-01]\n",
            " [-7.60147030e-01  3.31890968e-01  1.55682296e+00  4.01401143e-01\n",
            "   1.03546170e-01]\n",
            " [-4.74831379e-01 -4.74337939e-01  9.79905189e-01 -6.46349037e-01\n",
            "   1.84595328e-01]\n",
            " [-6.99917306e-01  5.15283305e-01  3.51386406e-01 -6.18679071e-01\n",
            "   1.29653895e+00]\n",
            " [-5.32059005e-01  1.00514737e+00  1.03948739e+00  2.13885357e+00\n",
            "   2.88066531e-01]\n",
            " [ 1.83699532e+00  9.15272933e-01  1.06552121e+00 -2.23308957e+00\n",
            "  -3.02422488e-01]\n",
            " [ 1.19926628e+00  1.81108819e+00 -1.40352140e+00  1.39809100e+00\n",
            "   1.65014700e-01]\n",
            " [ 3.83150686e-01  1.32952398e+00 -8.01733338e-01 -1.49627874e+00\n",
            "  -1.67461398e+00]\n",
            " [ 7.87826205e-02  1.83923804e+00 -2.81070679e-02 -6.20011623e-01\n",
            "  -4.99291775e-01]\n",
            " [ 2.85633986e+00  1.18250656e+00 -3.88810392e-01  4.31919832e-01\n",
            "   1.09038780e+00]\n",
            " [ 8.01680817e-02  1.36594211e+00 -9.51798909e-01  1.03152072e-01\n",
            "   3.97556052e-02]\n",
            " [-1.21177772e+00  1.28650082e+00 -2.18078966e-01 -5.71383684e-01\n",
            "  -6.73626630e-03]\n",
            " [-1.79549081e-01 -1.60339020e+00 -4.61088582e-01  2.19540751e+00\n",
            "   2.37419830e-01]\n",
            " [ 8.59412689e-01 -3.28048726e-01  1.01602072e+00  1.69466434e-01\n",
            "  -3.40469674e-01]\n",
            " [-1.21912451e+00  3.26757132e-01 -1.15597307e-02 -8.47477873e-01\n",
            "  -5.74358350e-01]\n",
            " [ 1.25742177e+00 -9.06201178e-01  1.03621489e+00  5.51381290e-01\n",
            "   4.88512389e-01]\n",
            " [ 1.10752388e+00  1.22681881e+00  2.79518693e+00  2.62583076e-02\n",
            "   1.19682245e+00]\n",
            " [ 4.72950358e-01  1.37969533e+00  7.15890254e-01 -1.26047589e-01\n",
            "   4.33516592e-01]\n",
            " [-8.87555778e-01  5.56655815e-01 -7.64636129e-01 -8.75417145e-03\n",
            "   9.58522561e-01]\n",
            " [ 5.68766348e-01  7.02333061e-01 -2.73077520e-01  7.55983472e-02\n",
            "   8.73505363e-01]\n",
            " [ 1.99528587e+00 -1.26952301e+00 -8.25947193e-02  8.22034586e-01\n",
            "   3.67286617e-01]\n",
            " [-3.27666619e-01 -6.31133943e-01 -1.76292004e-01  7.07484394e-01\n",
            "  -1.18264734e-01]\n",
            " [ 4.48482629e-01  1.47846484e+00  1.61295486e+00 -1.27679612e-01\n",
            "   2.98074945e-01]\n",
            " [-7.47563869e-01 -1.18767546e+00  1.36401930e+00 -6.65624594e-01\n",
            "  -6.17500670e-01]\n",
            " [-1.67374814e-01  1.66646797e+00 -1.09853160e+00 -1.29454488e+00\n",
            "   5.16217878e-01]\n",
            " [-1.37249639e+00 -1.23638902e+00 -7.26210089e-02 -2.80225060e-01\n",
            "   8.41664636e-01]\n",
            " [ 3.57777426e-01 -1.84912325e-01  1.55039587e-01 -2.06957962e-01\n",
            "   8.54838855e-01]\n",
            " [ 2.43054488e-01  8.16783910e-02  1.66049615e-01 -8.37186167e-01\n",
            "   1.72219756e+00]\n",
            " [ 6.72987418e-01 -1.66415770e+00 -5.28971211e-01 -6.84820968e-02\n",
            "   7.21903918e-01]\n",
            " [ 2.29571273e-01 -1.82736588e+00 -2.17633636e+00 -2.33639250e-01\n",
            "   5.99378668e-02]\n",
            " [-1.78487741e+00 -5.86968028e-01 -6.51267911e-01 -2.27880679e-01\n",
            "   1.70909600e+00]]\n"
          ]
        }
      ],
      "source": [
        "X = np.random.randn(100, 5)\n",
        "X_centered = X - X.mean(axis=0)\n",
        "U, S, VT = np.linalg.svd(X_centered, full_matrices=False)\n",
        "PCs = np.dot(X_centered, VT.T)\n",
        "print(PCs)\n"
      ]
    },
    {
      "cell_type": "code",
      "execution_count": null,
      "metadata": {
        "id": "UagtYSPePaMo",
        "outputId": "0774ad36-7d47-4032-ec28-e1a722cf4961"
      },
      "outputs": [
        {
          "name": "stdout",
          "output_type": "stream",
          "text": [
            "[8.8817842e-16 1.0000000e+00]\n"
          ]
        }
      ],
      "source": [
        "X = np.array([[1, 1], [1, 2], [1, 3]])\n",
        "y = np.array([1, 2, 3])\n",
        "beta = np.dot(np.dot(np.linalg.inv(np.dot(X.T, X)), X.T), y)\n",
        "print(beta)\n"
      ]
    },
    {
      "cell_type": "code",
      "execution_count": null,
      "metadata": {
        "id": "OtL9PqM4PaMp",
        "outputId": "0872e030-62b2-4ba9-d74c-c27c5e54cf8e"
      },
      "outputs": [
        {
          "name": "stdout",
          "output_type": "stream",
          "text": [
            "[[ 1.         -0.22233999  0.24476543]\n",
            " [-0.22233999  1.         -0.12824962]\n",
            " [ 0.24476543 -0.12824962  1.        ]]\n"
          ]
        }
      ],
      "source": [
        "data = np.random.randn(100, 3)\n",
        "corr = np.corrcoef(data, rowvar=False)\n",
        "print(corr)\n"
      ]
    },
    {
      "cell_type": "code",
      "execution_count": null,
      "metadata": {
        "id": "0ld6qiNoPaMp",
        "outputId": "09b3e25b-dbec-484f-c9d3-cb5a380c5d21"
      },
      "outputs": [
        {
          "name": "stdout",
          "output_type": "stream",
          "text": [
            "[5. 5. 3.]\n"
          ]
        }
      ],
      "source": [
        "def generate_matrix_with_singular_values(singular_values, m, n):\n",
        "    r = len(singular_values)\n",
        "    U, _ = np.linalg.qr(np.random.randn(m, m))\n",
        "    V, _ = np.linalg.qr(np.random.randn(n, n))\n",
        "    Sigma = np.zeros((m, n))\n",
        "    np.fill_diagonal(Sigma, singular_values)\n",
        "    US = np.dot(U, Sigma)\n",
        "    A = np.dot(US, V.T)\n",
        "    return A\n",
        "\n",
        "singular_vals = [5, 3, 1]\n",
        "A = generate_matrix_with_singular_values(singular_vals, 5, 4)\n",
        "print(np.linalg.svd(A, compute_uv=False)[:len(singular_vals)])\n"
      ]
    },
    {
      "cell_type": "code",
      "execution_count": null,
      "metadata": {
        "id": "OGbuy4-3PaMp",
        "outputId": "0a4c4d6a-23d4-4823-b848-5721122fe572"
      },
      "outputs": [
        {
          "name": "stdout",
          "output_type": "stream",
          "text": [
            "[[-0.03259105  0.64182479]\n",
            " [-0.51078195 -0.29145681]\n",
            " [ 0.94193292  0.40405579]\n",
            " [-0.48067408 -0.62537758]\n",
            " [ 1.22793476 -0.70461542]]\n"
          ]
        }
      ],
      "source": [
        "import numpy as np\n",
        "\n",
        "def multivariate_normal_samples(mean, cov, n_samples):\n",
        "    L = np.linalg.cholesky(cov)\n",
        "    z = np.random.randn(n_samples, len(mean))\n",
        "    samples = np.dot(z, L.T) + mean\n",
        "    return samples\n",
        "\n",
        "mean = np.array([0, 0])\n",
        "cov = np.array([[1, 0.5], [0.5, 1]])\n",
        "samples = multivariate_normal_samples(mean, cov, 5)\n",
        "print(samples)\n"
      ]
    },
    {
      "cell_type": "code",
      "execution_count": null,
      "metadata": {
        "id": "9nR0f7N8PaMp",
        "outputId": "d6d0f080-55c9-42d5-9ac3-cd53432d49f5"
      },
      "outputs": [
        {
          "name": "stdout",
          "output_type": "stream",
          "text": [
            "1.0690449676496976\n"
          ]
        }
      ],
      "source": [
        "def mahalanobis(x, y, cov_inv):\n",
        "    diff = x - y\n",
        "    return np.sqrt(np.dot(np.dot(diff.T, cov_inv), diff))\n",
        "\n",
        "x = np.array([1, 2])\n",
        "y = np.array([2, 3])\n",
        "cov = np.array([[2, 0.5], [0.5, 1]])\n",
        "cov_inv = np.linalg.inv(cov)\n",
        "dist = mahalanobis(x, y, cov_inv)\n",
        "print(dist)\n"
      ]
    },
    {
      "cell_type": "code",
      "execution_count": null,
      "metadata": {
        "id": "0gLpYpG2PaMp",
        "outputId": "1e0aa907-ef46-4c71-9dd2-d285d5a087c9"
      },
      "outputs": [
        {
          "name": "stdout",
          "output_type": "stream",
          "text": [
            "[1 2 1 0 0 1 0 1 0 0]\n",
            "[[-0.47634361  0.23678546]\n",
            " [ 0.38811667 -1.33890855]\n",
            " [ 0.96222705  0.86630574]]\n"
          ]
        }
      ],
      "source": [
        "def kmeans(X, k, max_iter=100):\n",
        "    n_samples, n_features = X.shape\n",
        "    centroids = X[np.random.choice(n_samples, k, replace=False)]\n",
        "    for _ in range(max_iter):\n",
        "        distances = np.array([[np.linalg.norm(x - c) for c in centroids] for x in X])\n",
        "        labels = np.argmin(distances, axis=1)\n",
        "        new_centroids = np.array([X[labels == i].mean(axis=0) for i in range(k)])\n",
        "        if np.allclose(centroids, new_centroids):\n",
        "            break\n",
        "        centroids = new_centroids\n",
        "    return labels, centroids\n",
        "\n",
        "X = np.random.randn(10, 2)\n",
        "labels, centroids = kmeans(X, 3)\n",
        "print(labels)\n",
        "print(centroids)\n"
      ]
    },
    {
      "cell_type": "code",
      "execution_count": null,
      "metadata": {
        "id": "ubAcymdHPaMp",
        "outputId": "5cb4bd72-2aeb-40d0-a160-88be8b634c40"
      },
      "outputs": [
        {
          "name": "stdout",
          "output_type": "stream",
          "text": [
            "[[0. 0.]\n",
            " [1. 1.]]\n"
          ]
        }
      ],
      "source": [
        "def normalize_columns(M):\n",
        "    min_col = M.min(axis=0)\n",
        "    max_col = M.max(axis=0)\n",
        "    return (M - min_col) / (max_col - min_col)\n",
        "\n",
        "M = np.array([[1, 2], [3, 4]])\n",
        "normalized = normalize_columns(M)\n",
        "print(normalized)\n"
      ]
    },
    {
      "cell_type": "code",
      "execution_count": null,
      "metadata": {
        "id": "MwxsJ0gDPaMp",
        "outputId": "65a1562e-ab1b-4762-8826-bd1d2cec21a5"
      },
      "outputs": [
        {
          "name": "stdout",
          "output_type": "stream",
          "text": [
            "[[1.33333333 2.33333333 1.77777778]\n",
            " [3.         5.         3.66666667]\n",
            " [2.66666667 4.33333333 3.11111111]]\n"
          ]
        }
      ],
      "source": [
        "def mean_filter_3x3(M):\n",
        "    padded = np.pad(M, 1, mode='constant', constant_values=0)\n",
        "    filtered = np.zeros_like(M, dtype=float)\n",
        "    rows, cols = M.shape\n",
        "    for i in range(rows):\n",
        "        for j in range(cols):\n",
        "            neighborhood = padded[i:i+3, j:j+3]\n",
        "            filtered[i, j] = neighborhood.mean()\n",
        "    return filtered\n",
        "\n",
        "M = np.array([[1, 2, 3], [4, 5, 6], [7, 8, 9]])\n",
        "filtered = mean_filter_3x3(M)\n",
        "print(filtered)\n"
      ]
    },
    {
      "cell_type": "code",
      "execution_count": null,
      "metadata": {
        "id": "b3Xo4lbBPaMq",
        "outputId": "ad17d77a-4165-4226-e91c-83a7c2114fd3"
      },
      "outputs": [
        {
          "name": "stdout",
          "output_type": "stream",
          "text": [
            "[[-1.19478804]\n",
            " [ 0.11315216]\n",
            " [ 2.36477033]\n",
            " [ 1.60859872]\n",
            " [ 1.83897971]\n",
            " [ 2.24751127]\n",
            " [ 3.61899116]\n",
            " [ 3.13823508]\n",
            " [ 2.28994874]\n",
            " [ 0.74386199]]\n"
          ]
        }
      ],
      "source": [
        "def brownian_motion(n_steps, dim=1):\n",
        "    steps = np.random.randn(n_steps, dim)\n",
        "    return np.cumsum(steps, axis=0)\n",
        "\n",
        "bm = brownian_motion(10)\n",
        "print(bm)\n"
      ]
    },
    {
      "cell_type": "code",
      "execution_count": null,
      "metadata": {
        "id": "D-9mtKJjPaMq",
        "outputId": "3dfe61aa-29e0-4dae-8021-d310fee3f190"
      },
      "outputs": [
        {
          "name": "stdout",
          "output_type": "stream",
          "text": [
            "[0.90909091 0.90909091]\n",
            "[[0.09090909 0.        ]\n",
            " [0.         0.09090909]]\n"
          ]
        }
      ],
      "source": [
        "def kalman_update(x_prior, P_prior, z, H, R):\n",
        "    y = z - np.dot(H, x_prior)              # Innovation\n",
        "    S = np.dot(H, np.dot(P_prior, H.T)) + R # Innovation covariance\n",
        "    K = np.dot(P_prior, np.dot(H.T, np.linalg.inv(S)))  # Kalman gain\n",
        "    x_post = x_prior + np.dot(K, y)\n",
        "    I = np.eye(len(x_prior))\n",
        "    P_post = np.dot(I - np.dot(K, H), P_prior)\n",
        "    return x_post, P_post\n",
        "\n",
        "x_prior = np.array([0, 0])\n",
        "P_prior = np.eye(2)\n",
        "z = np.array([1, 1])\n",
        "H = np.eye(2)\n",
        "R = np.eye(2) * 0.1\n",
        "x_post, P_post = kalman_update(x_prior, P_prior, z, H, R)\n",
        "print(x_post)\n",
        "print(P_post)\n"
      ]
    },
    {
      "cell_type": "code",
      "execution_count": null,
      "metadata": {
        "id": "IY1ZcFgEPaMq",
        "outputId": "aefc4057-d33e-474b-d651-a74d0d08ca39"
      },
      "outputs": [
        {
          "name": "stdout",
          "output_type": "stream",
          "text": [
            "-2.9999999999999982\n"
          ]
        }
      ],
      "source": [
        "def determinant(A):\n",
        "    A = A.astype(float)\n",
        "    n = A.shape[0]\n",
        "    det = 1\n",
        "    for i in range(n):\n",
        "        max_row = i + np.argmax(abs(A[i:, i]))\n",
        "        if i != max_row:\n",
        "            A[[i, max_row]] = A[[max_row, i]]\n",
        "            det *= -1\n",
        "        det *= A[i, i]\n",
        "        if A[i, i] == 0:\n",
        "            return 0\n",
        "        for j in range(i+1, n):\n",
        "            factor = A[j, i] / A[i, i]\n",
        "            A[j, i:] -= factor * A[i, i:]\n",
        "    return det\n",
        "\n",
        "A = np.array([[1, 2, 3], [4, 5, 6], [7, 8, 10]])\n",
        "print(determinant(A))\n"
      ]
    },
    {
      "cell_type": "code",
      "execution_count": null,
      "metadata": {
        "id": "ny-frwGZPaMq",
        "outputId": "8a72224d-cfd7-40a5-fd25-e0866084ecaf"
      },
      "outputs": [
        {
          "name": "stdout",
          "output_type": "stream",
          "text": [
            "True\n",
            "False\n"
          ]
        }
      ],
      "source": [
        "def is_symmetric(M):\n",
        "    return np.allclose(M, M.T)\n",
        "\n",
        "M1 = np.array([[1, 2], [2, 1]])\n",
        "M2 = np.array([[1, 0], [2, 1]])\n",
        "print(is_symmetric(M1))  # True\n",
        "print(is_symmetric(M2))  # False\n"
      ]
    },
    {
      "cell_type": "code",
      "execution_count": null,
      "metadata": {
        "id": "VNnjCOBAPaMu",
        "outputId": "60bdd5fb-d08f-4085-86d0-8fc317e168a4"
      },
      "outputs": [
        {
          "name": "stdout",
          "output_type": "stream",
          "text": [
            "[4.68750298e-05] 0.7099532558731402\n"
          ]
        }
      ],
      "source": [
        "import numpy as np\n",
        "from scipy.optimize import minimize\n",
        "\n",
        "def noisy_func(x):\n",
        "    noise = np.random.normal(0, 0.1)\n",
        "    return np.sin(3*x) + np.cos(5*x) + noise\n",
        "\n",
        "res = minimize(noisy_func, x0=0, method='Nelder-Mead')\n",
        "print(res.x, res.fun)\n"
      ]
    },
    {
      "cell_type": "code",
      "execution_count": null,
      "metadata": {
        "id": "5tz_SsTuPaMu",
        "outputId": "a4d4209f-4c6c-4af8-c55a-bd798ae93c02"
      },
      "outputs": [
        {
          "name": "stdout",
          "output_type": "stream",
          "text": [
            "0.0 2.0\n"
          ]
        }
      ],
      "source": [
        "def f(x):\n",
        "    return x**4 - 3*x**3 + 2\n",
        "\n",
        "def grad_f(x):\n",
        "    return 4*x**3 - 9*x**2\n",
        "\n",
        "x = 0.0\n",
        "lr = 0.01\n",
        "for _ in range(1000):\n",
        "    x -= lr * grad_f(x)\n",
        "print(x, f(x))\n"
      ]
    },
    {
      "cell_type": "code",
      "execution_count": null,
      "metadata": {
        "id": "xa0Z-EgpPaMu",
        "outputId": "80fd5335-1c5b-4994-9f19-bf9a6f9d4926"
      },
      "outputs": [
        {
          "name": "stdout",
          "output_type": "stream",
          "text": [
            "[1.82287566 0.82287566]\n"
          ]
        }
      ],
      "source": [
        "from scipy.optimize import fsolve\n",
        "\n",
        "def system(vars):\n",
        "    x, y = vars\n",
        "    return [x**2 + y**2 - 4, x - y - 1]\n",
        "\n",
        "sol = fsolve(system, [1, 1])\n",
        "print(sol)\n"
      ]
    },
    {
      "cell_type": "code",
      "execution_count": null,
      "metadata": {
        "id": "oSufWdRTPaMv",
        "outputId": "59ac2501-a133-493c-9b79-11472651b085"
      },
      "outputs": [
        {
          "name": "stdout",
          "output_type": "stream",
          "text": [
            "[2.49980922 1.30016428]\n"
          ]
        }
      ],
      "source": [
        "from scipy.optimize import curve_fit\n",
        "\n",
        "def model(x, a, b):\n",
        "    return a * np.exp(b * x)\n",
        "\n",
        "xdata = np.linspace(0, 4, 50)\n",
        "ydata = model(xdata, 2.5, 1.3) + 0.5 * np.random.normal(size=xdata.size)\n",
        "\n",
        "params, _ = curve_fit(model, xdata, ydata)\n",
        "print(params)\n"
      ]
    },
    {
      "cell_type": "code",
      "execution_count": null,
      "metadata": {
        "id": "ZKc3T9EjPaMv",
        "outputId": "7540f064-daf5-4a1e-f715-000c5c452afe"
      },
      "outputs": [
        {
          "name": "stdout",
          "output_type": "stream",
          "text": [
            "[-5. -5.] 85.0\n"
          ]
        }
      ],
      "source": [
        "from scipy.optimize import basinhopping\n",
        "\n",
        "def black_box(x):\n",
        "    return -((x[0]-1)**2 + (x[1]-2)**2)  # negative for maximization\n",
        "\n",
        "bounds = [(-5, 5), (-5, 5)]\n",
        "\n",
        "class Bounds:\n",
        "    def __init__(self, xmin, xmax):\n",
        "        self.xmin = np.array(xmin)\n",
        "        self.xmax = np.array(xmax)\n",
        "    def __call__(self, **kwargs):\n",
        "        x = kwargs[\"x_new\"]\n",
        "        return np.all(x >= self.xmin) and np.all(x <= self.xmax)\n",
        "\n",
        "bounds_checker = Bounds([-5, -5], [5, 5])\n",
        "\n",
        "res = basinhopping(black_box, x0=[0,0], minimizer_kwargs={\"method\": \"L-BFGS-B\", \"bounds\": bounds}, accept_test=bounds_checker)\n",
        "print(res.x, -res.fun)\n"
      ]
    },
    {
      "cell_type": "code",
      "execution_count": null,
      "metadata": {
        "id": "7pU4vv1EPaMv",
        "outputId": "d9e5f454-e16c-49a0-80a5-18411599b9ca"
      },
      "outputs": [
        {
          "name": "stdout",
          "output_type": "stream",
          "text": [
            "[0.99999467 0.99998932] 2.8439990629105454e-11\n"
          ]
        }
      ],
      "source": [
        "def rosenbrock(x):\n",
        "    return (1 - x[0])**2 + 100*(x[1] - x[0]**2)**2\n",
        "\n",
        "res = minimize(rosenbrock, x0=[0,0], method='BFGS')\n",
        "print(res.x, res.fun)\n"
      ]
    },
    {
      "cell_type": "code",
      "execution_count": null,
      "metadata": {
        "id": "A7l5VokpPaMv",
        "outputId": "2b872d8c-06d1-4693-d306-113d3658c94d"
      },
      "outputs": [
        {
          "name": "stdout",
          "output_type": "stream",
          "text": [
            "Estimated coefficients: [-90.8042913   25.88980191]\n"
          ]
        }
      ],
      "source": [
        "import numpy as np\n",
        "from scipy.special import expit  # sigmoid\n",
        "from scipy.optimize import minimize\n",
        "\n",
        "X = np.array([[1, 2], [1, 3], [1, 4], [1, 5]])  # including bias term\n",
        "y = np.array([0, 0, 1, 1])\n",
        "\n",
        "def neg_log_likelihood(beta):\n",
        "    z = np.dot(X, beta)  # avoid @ if required\n",
        "    p = expit(z)\n",
        "    return -np.sum(y * np.log(p + 1e-9) + (1 - y) * np.log(1 - p + 1e-9))\n",
        "\n",
        "beta_init = np.zeros(X.shape[1])\n",
        "res = minimize(neg_log_likelihood, beta_init, method='BFGS')\n",
        "\n",
        "print(\"Estimated coefficients:\", res.x)\n",
        "\n"
      ]
    },
    {
      "cell_type": "code",
      "execution_count": null,
      "metadata": {
        "id": "KsD5U6_NPaMv",
        "outputId": "15c19116-b91d-4862-d2a8-c60fc8501803"
      },
      "outputs": [
        {
          "name": "stdout",
          "output_type": "stream",
          "text": [
            "[0.20001059 0.89999271] 3.2000064005261426\n"
          ]
        }
      ],
      "source": [
        "from scipy.optimize import LinearConstraint\n",
        "\n",
        "def func(x):\n",
        "    return (x[0]-1)**2 + (x[1]-2.5)**2\n",
        "\n",
        "bounds = [(0, None), (0, None)]\n",
        "linear_constraint = LinearConstraint([[1, 2]], [1], [2])\n",
        "\n",
        "res = minimize(func, [2, 0], method='trust-constr', bounds=bounds, constraints=[linear_constraint])\n",
        "print(res.x, res.fun)\n"
      ]
    },
    {
      "cell_type": "code",
      "execution_count": null,
      "metadata": {
        "id": "TyOyTQtsPaMv",
        "outputId": "955762b9-6e87-4170-a1a3-451c459a7afe"
      },
      "outputs": [
        {
          "name": "stdout",
          "output_type": "stream",
          "text": [
            "{'Nelder-Mead': (array([3.]), 1.0, 28), 'BFGS': (array([3.00000003]), 1.0000000000000009, 2), 'CG': (array([3.0000002]), 1.0000000000000384, 1), 'Powell': (array([3.]), array(1.), 2)}\n"
          ]
        }
      ],
      "source": [
        "methods = ['Nelder-Mead', 'BFGS', 'CG', 'Powell']\n",
        "results = {}\n",
        "\n",
        "def f(x):\n",
        "    return (x-3)**2 + 1\n",
        "\n",
        "for method in methods:\n",
        "    res = minimize(f, x0=0, method=method)\n",
        "    results[method] = (res.x, res.fun, res.nit)\n",
        "\n",
        "print(results)\n"
      ]
    },
    {
      "cell_type": "code",
      "execution_count": null,
      "metadata": {
        "id": "iLcnTO-SPaMv",
        "outputId": "555747bc-fbbd-4eae-a4cf-4afc1d19f5cf"
      },
      "outputs": [
        {
          "name": "stdout",
          "output_type": "stream",
          "text": [
            "[1.99999999] 3.0\n"
          ]
        }
      ],
      "source": [
        "def f(x):\n",
        "    return (x - 2)**2 + 3\n",
        "\n",
        "res = minimize(f, x0=0, jac=None, method='BFGS')\n",
        "print(res.x, res.fun)\n"
      ]
    },
    {
      "cell_type": "code",
      "execution_count": null,
      "metadata": {
        "id": "fnREMWtfPaMv"
      },
      "outputs": [],
      "source": []
    }
  ],
  "metadata": {
    "colab": {
      "provenance": [],
      "include_colab_link": true
    },
    "kernelspec": {
      "display_name": "Python 3 (ipykernel)",
      "language": "python",
      "name": "python3"
    },
    "language_info": {
      "codemirror_mode": {
        "name": "ipython",
        "version": 3
      },
      "file_extension": ".py",
      "mimetype": "text/x-python",
      "name": "python",
      "nbconvert_exporter": "python",
      "pygments_lexer": "ipython3",
      "version": "3.12.7"
    }
  },
  "nbformat": 4,
  "nbformat_minor": 0
}