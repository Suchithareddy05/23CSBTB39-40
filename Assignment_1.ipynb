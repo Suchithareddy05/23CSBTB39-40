{
  "cells": [
    {
      "cell_type": "markdown",
      "metadata": {
        "id": "view-in-github",
        "colab_type": "text"
      },
      "source": [
        "<a href=\"https://colab.research.google.com/github/Suchithareddy05/23CSBTB39-40/blob/main/Assignment_1.ipynb\" target=\"_parent\"><img src=\"https://colab.research.google.com/assets/colab-badge.svg\" alt=\"Open In Colab\"/></a>"
      ]
    },
    {
      "cell_type": "code",
      "execution_count": 1,
      "id": "0f739c70-da24-49fb-9ef3-09586ef35266",
      "metadata": {
        "colab": {
          "base_uri": "https://localhost:8080/"
        },
        "id": "0f739c70-da24-49fb-9ef3-09586ef35266",
        "outputId": "b95ab71c-ceaa-490d-e361-a47e6619c388"
      },
      "outputs": [
        {
          "output_type": "stream",
          "name": "stdout",
          "text": [
            "Hello, Python!\n"
          ]
        }
      ],
      "source": [
        "print('Hello, Python!')"
      ]
    },
    {
      "cell_type": "code",
      "execution_count": null,
      "id": "01951d31-9299-44da-ac03-14e63767ad05",
      "metadata": {
        "id": "01951d31-9299-44da-ac03-14e63767ad05",
        "outputId": "0ff42e68-3d2d-4968-dac8-6344c700773b"
      },
      "outputs": [
        {
          "name": "stdout",
          "output_type": "stream",
          "text": [
            "12\n",
            "7\n",
            "24\n"
          ]
        }
      ],
      "source": [
        "print(7+5)\n",
        "print(10-3)\n",
        "print(4*6)"
      ]
    },
    {
      "cell_type": "code",
      "execution_count": null,
      "id": "0d110ea4-373b-4314-845d-4a2d69caf6ad",
      "metadata": {
        "id": "0d110ea4-373b-4314-845d-4a2d69caf6ad",
        "outputId": "dc46a902-4752-474d-a945-9381197f64b2"
      },
      "outputs": [
        {
          "name": "stdout",
          "output_type": "stream",
          "text": [
            "integer division: 4\n",
            "Modulo division: 1\n"
          ]
        }
      ],
      "source": [
        "print(\"integer division:\",17//4)\n",
        "print(\"Modulo division:\" ,17%4)"
      ]
    },
    {
      "cell_type": "code",
      "execution_count": null,
      "id": "bf3ccaf5-311b-4be1-90a0-d60acf334a52",
      "metadata": {
        "id": "bf3ccaf5-311b-4be1-90a0-d60acf334a52",
        "outputId": "8f751be0-b367-40d4-9b88-6ac3cdbd28f4"
      },
      "outputs": [
        {
          "name": "stdout",
          "output_type": "stream",
          "text": [
            "81\n"
          ]
        }
      ],
      "source": [
        "a=3**4\n",
        "print(a)"
      ]
    },
    {
      "cell_type": "code",
      "execution_count": null,
      "id": "4738daf7-ba01-483b-a62b-7423bbad5427",
      "metadata": {
        "id": "4738daf7-ba01-483b-a62b-7423bbad5427",
        "outputId": "b2c8f18e-6a6a-490f-bb72-1ef8fb8f59a2"
      },
      "outputs": [
        {
          "name": "stdout",
          "output_type": "stream",
          "text": [
            "14\n",
            "20\n"
          ]
        }
      ],
      "source": [
        "print(2+3*4)\n",
        "print((2+3)*4)"
      ]
    },
    {
      "cell_type": "code",
      "execution_count": null,
      "id": "c10f3b99-4493-4103-ab26-c2406ebab933",
      "metadata": {
        "id": "c10f3b99-4493-4103-ab26-c2406ebab933",
        "outputId": "966c4f3c-c5c6-4f32-e9cd-956368f12247"
      },
      "outputs": [
        {
          "name": "stdout",
          "output_type": "stream",
          "text": [
            "Hello there\n"
          ]
        }
      ],
      "source": [
        "a=\"Hello there\"\n",
        "print(a)"
      ]
    },
    {
      "cell_type": "code",
      "execution_count": null,
      "id": "232b2e7e-c5a0-4168-826a-57b80d99ccda",
      "metadata": {
        "id": "232b2e7e-c5a0-4168-826a-57b80d99ccda",
        "outputId": "657302de-f4b9-45a6-b020-8ad2f543ffe4"
      },
      "outputs": [
        {
          "name": "stdin",
          "output_type": "stream",
          "text": [
            " 54\n"
          ]
        },
        {
          "name": "stdout",
          "output_type": "stream",
          "text": [
            "The age left is: 46\n"
          ]
        }
      ],
      "source": [
        "age=int(input())\n",
        "years=100-age\n",
        "print(\"The age left is:\", years)"
      ]
    },
    {
      "cell_type": "code",
      "execution_count": null,
      "id": "18293fcd-2a34-4202-8c0f-d50a5cebb57f",
      "metadata": {
        "id": "18293fcd-2a34-4202-8c0f-d50a5cebb57f",
        "outputId": "bf2e72bc-f5d7-4ab4-eb00-b7cde9733316"
      },
      "outputs": [
        {
          "name": "stdin",
          "output_type": "stream",
          "text": [
            "What is your favorite color blue\n"
          ]
        },
        {
          "name": "stdout",
          "output_type": "stream",
          "text": [
            "blue\n"
          ]
        }
      ],
      "source": [
        "color=input(\"What is your favorite color\")\n",
        "print(color)"
      ]
    },
    {
      "cell_type": "code",
      "execution_count": null,
      "id": "7b04f033-3d51-4070-8178-886ee7619795",
      "metadata": {
        "id": "7b04f033-3d51-4070-8178-886ee7619795",
        "outputId": "16e0101f-315b-4f2d-eb1d-22b1efed0839"
      },
      "outputs": [
        {
          "name": "stdout",
          "output_type": "stream",
          "text": [
            "enter 1st integer\n"
          ]
        },
        {
          "name": "stdin",
          "output_type": "stream",
          "text": [
            " 5\n"
          ]
        },
        {
          "name": "stdout",
          "output_type": "stream",
          "text": [
            "enter 2nd integer\n"
          ]
        },
        {
          "name": "stdin",
          "output_type": "stream",
          "text": [
            " 6\n"
          ]
        },
        {
          "name": "stdout",
          "output_type": "stream",
          "text": [
            "Sum of the two integers is 11\n"
          ]
        }
      ],
      "source": [
        "print(\"enter 1st integer\")\n",
        "a=int(input())\n",
        "print(\"enter 2nd integer\")\n",
        "b=int(input())\n",
        "c=a+b\n",
        "print(\"Sum of the two integers is\",c)"
      ]
    },
    {
      "cell_type": "code",
      "execution_count": null,
      "id": "6312aca2-7096-4b8c-a034-92db2026f682",
      "metadata": {
        "id": "6312aca2-7096-4b8c-a034-92db2026f682",
        "outputId": "654f68a8-7be9-4eb0-86af-e67ad8e07db2"
      },
      "outputs": [
        {
          "name": "stdout",
          "output_type": "stream",
          "text": [
            "<class 'float'>\n"
          ]
        }
      ],
      "source": [
        "var=3.542\n",
        "print(type(var))"
      ]
    },
    {
      "cell_type": "code",
      "execution_count": null,
      "id": "9ed1d0b1-8f09-4280-bf0e-2dcad5316343",
      "metadata": {
        "id": "9ed1d0b1-8f09-4280-bf0e-2dcad5316343",
        "outputId": "15f7641e-58ac-4355-df0a-fab00915e18b"
      },
      "outputs": [
        {
          "name": "stdout",
          "output_type": "stream",
          "text": [
            "Hello World\n"
          ]
        }
      ],
      "source": [
        "print(\"Hello\"+\" \"+\"World\")"
      ]
    },
    {
      "cell_type": "code",
      "execution_count": null,
      "id": "e6d25413-5b68-4717-9826-d71ff5b49459",
      "metadata": {
        "id": "e6d25413-5b68-4717-9826-d71ff5b49459",
        "outputId": "87e2db66-b1a9-4e00-bdc8-2e4a48325e1e"
      },
      "outputs": [
        {
          "name": "stdout",
          "output_type": "stream",
          "text": [
            "P n\n"
          ]
        }
      ],
      "source": [
        "a=\"Python\"\n",
        "print(a[0],a[-1])"
      ]
    },
    {
      "cell_type": "code",
      "execution_count": null,
      "id": "b404651f-80bd-4d96-b6d5-abe47b7278c0",
      "metadata": {
        "id": "b404651f-80bd-4d96-b6d5-abe47b7278c0",
        "outputId": "46403b11-c852-46e5-d400-4276f6ec6363"
      },
      "outputs": [
        {
          "name": "stdout",
          "output_type": "stream",
          "text": [
            "yth\n"
          ]
        }
      ],
      "source": [
        "print(a[1:4])"
      ]
    },
    {
      "cell_type": "code",
      "execution_count": null,
      "id": "83adb92d-b28a-41d1-8c3b-796c95493e87",
      "metadata": {
        "id": "83adb92d-b28a-41d1-8c3b-796c95493e87",
        "outputId": "80975f76-13a6-437c-fbff-894ad1e4ff60"
      },
      "outputs": [
        {
          "name": "stdout",
          "output_type": "stream",
          "text": [
            "3\n"
          ]
        }
      ],
      "source": [
        "x=\"Hello World\"\n",
        "print(x.count(\"l\"))"
      ]
    },
    {
      "cell_type": "code",
      "execution_count": null,
      "id": "8a0e9df5-4fa7-4219-9755-b6aebdb062bf",
      "metadata": {
        "id": "8a0e9df5-4fa7-4219-9755-b6aebdb062bf",
        "outputId": "c365b78a-20cc-4652-e2d5-53b785f589c8"
      },
      "outputs": [
        {
          "name": "stdout",
          "output_type": "stream",
          "text": [
            "python programming\n"
          ]
        }
      ],
      "source": [
        "data=\"Python Programming\"\n",
        "print(data.lower())"
      ]
    },
    {
      "cell_type": "code",
      "execution_count": null,
      "id": "47af962b-1b82-4c1d-bad4-c17b02133d81",
      "metadata": {
        "id": "47af962b-1b82-4c1d-bad4-c17b02133d81",
        "outputId": "5f519628-48b4-4318-d444-8dfb0d6ffd64"
      },
      "outputs": [
        {
          "name": "stdout",
          "output_type": "stream",
          "text": [
            "Python is widely used programmimg language\n"
          ]
        }
      ],
      "source": [
        "a=\"Java is widely used programmimg language\"\n",
        "z=a.replace(\"Java\",\"Python\")\n",
        "print(z)"
      ]
    },
    {
      "cell_type": "code",
      "execution_count": null,
      "id": "9a52d4ec-e24f-47fe-9a93-1fec052bc588",
      "metadata": {
        "id": "9a52d4ec-e24f-47fe-9a93-1fec052bc588",
        "outputId": "886ce02e-db29-4fda-b36e-73e415dc5c11"
      },
      "outputs": [
        {
          "data": {
            "text/plain": [
              "True"
            ]
          },
          "execution_count": 17,
          "metadata": {},
          "output_type": "execute_result"
        }
      ],
      "source": [
        "\"on\" in \"Python\""
      ]
    },
    {
      "cell_type": "code",
      "execution_count": null,
      "id": "e4910e1c-c2d9-4402-b2ba-047c6374a16f",
      "metadata": {
        "id": "e4910e1c-c2d9-4402-b2ba-047c6374a16f",
        "outputId": "54fe1010-f24c-47a2-db97-2f3c79b5199c"
      },
      "outputs": [
        {
          "name": "stdout",
          "output_type": "stream",
          "text": [
            "My name is Akash ,I'm 18 years old\n"
          ]
        }
      ],
      "source": [
        "name=\"Akash\"\n",
        "age=18\n",
        "print(\"My name is\",name,\",I'm\", age, \"years old\")"
      ]
    },
    {
      "cell_type": "code",
      "execution_count": null,
      "id": "d0167feb-f66c-462f-a9b2-8ce437c9209f",
      "metadata": {
        "id": "d0167feb-f66c-462f-a9b2-8ce437c9209f",
        "outputId": "94544e56-641c-490b-8466-c783bb33a19b"
      },
      "outputs": [
        {
          "name": "stdout",
          "output_type": "stream",
          "text": [
            "['orange', 'apple', 'melon', 'grapes', 'banana']\n"
          ]
        }
      ],
      "source": [
        "list=['orange','apple','melon','grapes','banana']\n",
        "print(list)"
      ]
    },
    {
      "cell_type": "code",
      "execution_count": null,
      "id": "9ace79f5-eb38-483c-ac13-bf6149667380",
      "metadata": {
        "id": "9ace79f5-eb38-483c-ac13-bf6149667380",
        "outputId": "50f33519-a1f6-411e-cfe2-e77f5e274fa6"
      },
      "outputs": [
        {
          "name": "stdout",
          "output_type": "stream",
          "text": [
            "['orange', 'apple', 'melon', 'grapes', 'banana', 'cherry']\n"
          ]
        }
      ],
      "source": [
        "list.append('cherry')\n",
        "print(list)"
      ]
    },
    {
      "cell_type": "code",
      "execution_count": null,
      "id": "fa109ea5-e63a-4703-8f73-2a2b5ec2cab3",
      "metadata": {
        "id": "fa109ea5-e63a-4703-8f73-2a2b5ec2cab3",
        "outputId": "6eb7a52b-30c3-440a-fb8f-8a55912e7a21"
      },
      "outputs": [
        {
          "name": "stdout",
          "output_type": "stream",
          "text": [
            "['apple', 'banana', 'cherry', 'grapes', 'melon', 'orange']\n"
          ]
        }
      ],
      "source": [
        "list.sort()\n",
        "print(list)"
      ]
    },
    {
      "cell_type": "code",
      "execution_count": null,
      "id": "91a43b11-fea6-4f74-b46c-8f734d3fbc79",
      "metadata": {
        "id": "91a43b11-fea6-4f74-b46c-8f734d3fbc79",
        "outputId": "f1d7fd43-a4a1-46d5-e17f-0b2f173311f5"
      },
      "outputs": [
        {
          "name": "stdout",
          "output_type": "stream",
          "text": [
            "['apple', 'banana', 'grapes', 'melon', 'orange']\n"
          ]
        }
      ],
      "source": [
        "del list[2]\n",
        "print(list)"
      ]
    },
    {
      "cell_type": "code",
      "execution_count": null,
      "id": "0ac07157-c0cf-4756-ab02-dca8bade6f5d",
      "metadata": {
        "id": "0ac07157-c0cf-4756-ab02-dca8bade6f5d",
        "outputId": "2f8a9ece-fd9f-49bb-c34d-fd3ce4963b01"
      },
      "outputs": [
        {
          "name": "stdout",
          "output_type": "stream",
          "text": [
            "['apple', 'banana', 'grapes']\n"
          ]
        }
      ],
      "source": [
        "print(list[0:3])"
      ]
    },
    {
      "cell_type": "code",
      "execution_count": null,
      "id": "e8476e39-bd07-407c-aa79-5d7fb80f8b2b",
      "metadata": {
        "id": "e8476e39-bd07-407c-aa79-5d7fb80f8b2b",
        "outputId": "6a294e67-34f2-4c52-ddf1-ad62b6d39df4"
      },
      "outputs": [
        {
          "name": "stdout",
          "output_type": "stream",
          "text": [
            "('red', 'blue', 'green')\n"
          ]
        }
      ],
      "source": [
        "colors=('red','blue','green')\n",
        "print(colors)"
      ]
    },
    {
      "cell_type": "code",
      "execution_count": null,
      "id": "0022e14a-6f8e-46bd-b956-f04a1a8bfeaf",
      "metadata": {
        "id": "0022e14a-6f8e-46bd-b956-f04a1a8bfeaf",
        "outputId": "0cbdde9a-ddb2-41f7-a3ca-ba9f1883ebbd"
      },
      "outputs": [
        {
          "ename": "TypeError",
          "evalue": "'tuple' object does not support item assignment",
          "output_type": "error",
          "traceback": [
            "\u001b[1;31m---------------------------------------------------------------------------\u001b[0m",
            "\u001b[1;31mTypeError\u001b[0m                                 Traceback (most recent call last)",
            "Cell \u001b[1;32mIn[25], line 1\u001b[0m\n\u001b[1;32m----> 1\u001b[0m colors[\u001b[38;5;241m1\u001b[39m]\u001b[38;5;241m=\u001b[39m\u001b[38;5;124m'\u001b[39m\u001b[38;5;124mpink\u001b[39m\u001b[38;5;124m'\u001b[39m\n\u001b[0;32m      2\u001b[0m \u001b[38;5;28mprint\u001b[39m(colors)\n",
            "\u001b[1;31mTypeError\u001b[0m: 'tuple' object does not support item assignment"
          ]
        }
      ],
      "source": [
        "colors[1]='pink'\n",
        "print(colors)"
      ]
    },
    {
      "cell_type": "code",
      "execution_count": null,
      "id": "ae2aba94-b137-487f-9b41-9ba6a4f1c2b5",
      "metadata": {
        "id": "ae2aba94-b137-487f-9b41-9ba6a4f1c2b5",
        "outputId": "a4723af7-8649-4b65-8821-7ae321c44a1a"
      },
      "outputs": [
        {
          "name": "stdout",
          "output_type": "stream",
          "text": [
            "red blue green\n"
          ]
        }
      ],
      "source": [
        "c1,c2,c3=colors\n",
        "print(c1,c2,c3)"
      ]
    },
    {
      "cell_type": "code",
      "execution_count": null,
      "id": "b524f314-3603-4bce-b923-fc560f5e7ff5",
      "metadata": {
        "id": "b524f314-3603-4bce-b923-fc560f5e7ff5",
        "outputId": "c1b498bc-7d60-49fa-d23a-b9f9d0f20874"
      },
      "outputs": [
        {
          "name": "stdout",
          "output_type": "stream",
          "text": [
            "{'name': 'siri', 'age': 18, 'city': 'warangal'}\n"
          ]
        }
      ],
      "source": [
        "dict={'name':'siri','age':18, 'city':'warangal'}\n",
        "print(dict)"
      ]
    },
    {
      "cell_type": "code",
      "execution_count": null,
      "id": "733156bf-cc2b-4fc0-a1ff-85a78370a8b8",
      "metadata": {
        "id": "733156bf-cc2b-4fc0-a1ff-85a78370a8b8",
        "outputId": "69407b4c-0bda-4632-d4b6-d325926671ca"
      },
      "outputs": [
        {
          "name": "stdout",
          "output_type": "stream",
          "text": [
            "{'name': 'siri', 'age': 18, 'city': 'warangal', 'country': 'india'}\n"
          ]
        }
      ],
      "source": [
        "dict['country']='india'\n",
        "print(dict)"
      ]
    },
    {
      "cell_type": "code",
      "execution_count": null,
      "id": "95304f6f-1b73-4c48-bfe3-90df0276e13e",
      "metadata": {
        "id": "95304f6f-1b73-4c48-bfe3-90df0276e13e",
        "outputId": "1c145a8e-ae5b-4435-acbf-9445dfd4e5d6"
      },
      "outputs": [
        {
          "name": "stdout",
          "output_type": "stream",
          "text": [
            "dict_keys(['name', 'age', 'city', 'country'])\n",
            "dict_values(['siri', 18, 'warangal', 'india'])\n"
          ]
        }
      ],
      "source": [
        "print(dict.keys())\n",
        "print(dict.values())"
      ]
    },
    {
      "cell_type": "code",
      "execution_count": null,
      "id": "5270493d-56d8-46ec-920c-18fc318c7347",
      "metadata": {
        "id": "5270493d-56d8-46ec-920c-18fc318c7347",
        "outputId": "2abd99b2-6045-4840-f2f3-8a1d59547a76"
      },
      "outputs": [
        {
          "data": {
            "text/plain": [
              "True"
            ]
          },
          "execution_count": 30,
          "metadata": {},
          "output_type": "execute_result"
        }
      ],
      "source": [
        "'age' in dict"
      ]
    },
    {
      "cell_type": "code",
      "execution_count": null,
      "id": "43ed9e0f-f335-4c98-a394-67201eaa75f3",
      "metadata": {
        "id": "43ed9e0f-f335-4c98-a394-67201eaa75f3",
        "outputId": "ed4016e7-ce42-452b-e4cb-c68c4143f337"
      },
      "outputs": [
        {
          "name": "stdout",
          "output_type": "stream",
          "text": [
            "{50, 20, 40, 10, 30}\n"
          ]
        }
      ],
      "source": [
        "a={10,20,30,40,50}\n",
        "b={20,40,60,70,90}\n",
        "print(a)"
      ]
    },
    {
      "cell_type": "code",
      "execution_count": null,
      "id": "1fb9ab48-cec9-462f-b97c-e4d215595d0b",
      "metadata": {
        "id": "1fb9ab48-cec9-462f-b97c-e4d215595d0b",
        "outputId": "fe4cc50d-7e3b-49c5-d30e-3fa61a2d5366"
      },
      "outputs": [
        {
          "name": "stdout",
          "output_type": "stream",
          "text": [
            "union: {70, 40, 10, 50, 20, 90, 60, 30}\n",
            "intersection: {40, 20}\n"
          ]
        }
      ],
      "source": [
        "union=a|b\n",
        "inter=a&b\n",
        "print(\"union:\",union)\n",
        "print(\"intersection:\",inter)"
      ]
    },
    {
      "cell_type": "code",
      "execution_count": null,
      "id": "758d8dcb-b505-465d-a48c-68cc35a9162f",
      "metadata": {
        "id": "758d8dcb-b505-465d-a48c-68cc35a9162f",
        "outputId": "0fe76188-69da-4cde-ba07-313ed3b53ecf"
      },
      "outputs": [
        {
          "name": "stdin",
          "output_type": "stream",
          "text": [
            " 56\n"
          ]
        },
        {
          "name": "stdout",
          "output_type": "stream",
          "text": [
            "even\n"
          ]
        }
      ],
      "source": [
        "n=int(input())\n",
        "if (n%2==0):\n",
        "    print(\"even\")\n",
        "else:\n",
        "    print(\"odd\")"
      ]
    },
    {
      "cell_type": "code",
      "execution_count": null,
      "id": "e0714d0e-6015-43ee-a629-ae6b50783387",
      "metadata": {
        "id": "e0714d0e-6015-43ee-a629-ae6b50783387",
        "outputId": "84cdf310-73a1-4cdc-fd66-617e17a4a4c3"
      },
      "outputs": [
        {
          "name": "stdin",
          "output_type": "stream",
          "text": [
            "enter the marks scored 98\n"
          ]
        },
        {
          "name": "stdout",
          "output_type": "stream",
          "text": [
            "grade:  A\n"
          ]
        }
      ],
      "source": [
        "marks=int(input(\"enter the marks scored\"))\n",
        "if marks>90:\n",
        "    grade='A'\n",
        "elif marks>80 or marks<=90:\n",
        "    grade='B'\n",
        "elif marks>70 or marks<=80:\n",
        "    grade='C'\n",
        "elif marks>60 or marks<=70:\n",
        "    grade='D'\n",
        "elif marks>50 or marks<=60:\n",
        "    grade='E'\n",
        "else:\n",
        "    grade='Fail'\n",
        "print(\"grade: \",grade)"
      ]
    },
    {
      "cell_type": "code",
      "execution_count": null,
      "id": "7bc398a6-1c06-43d1-9662-444c6548de59",
      "metadata": {
        "id": "7bc398a6-1c06-43d1-9662-444c6548de59",
        "outputId": "c0dea667-8954-494a-868a-247f975bca28"
      },
      "outputs": [
        {
          "name": "stdout",
          "output_type": "stream",
          "text": [
            "1\n",
            "2\n",
            "3\n",
            "4\n",
            "5\n",
            "6\n",
            "7\n",
            "8\n",
            "9\n",
            "10\n"
          ]
        }
      ],
      "source": [
        "for i in range(1,11):\n",
        "    print(i)"
      ]
    },
    {
      "cell_type": "code",
      "execution_count": null,
      "id": "f225c6a4-0b8d-4f20-be1e-3ad971c71063",
      "metadata": {
        "id": "f225c6a4-0b8d-4f20-be1e-3ad971c71063",
        "outputId": "187485b8-2e72-45ec-80a2-533750207fdb"
      },
      "outputs": [
        {
          "name": "stdout",
          "output_type": "stream",
          "text": [
            "1 * 1 = 1\n",
            "2 * 2 = 4\n",
            "3 * 3 = 9\n",
            "4 * 4 = 16\n",
            "5 * 5 = 25\n"
          ]
        }
      ],
      "source": [
        "for i in range(1,6):\n",
        "    print(i,\"*\",i,\"=\",i*i)"
      ]
    },
    {
      "cell_type": "code",
      "execution_count": null,
      "id": "df4547e4-42ef-4372-98a3-bdcb6caa63fc",
      "metadata": {
        "id": "df4547e4-42ef-4372-98a3-bdcb6caa63fc",
        "outputId": "e62cf005-02b7-4677-d59b-e2ed6b7bad4d"
      },
      "outputs": [
        {
          "name": "stdout",
          "output_type": "stream",
          "text": [
            "10\n",
            "9\n",
            "8\n",
            "7\n",
            "6\n",
            "5\n",
            "4\n",
            "3\n",
            "2\n",
            "1\n"
          ]
        }
      ],
      "source": [
        "n=10\n",
        "while n>=1:\n",
        "    print(n)\n",
        "    n-=1"
      ]
    },
    {
      "cell_type": "code",
      "execution_count": null,
      "id": "c35a6090-4a55-46dc-b90a-c0ced0857ed7",
      "metadata": {
        "id": "c35a6090-4a55-46dc-b90a-c0ced0857ed7",
        "outputId": "9eeb81e5-7d9c-4979-9529-e407a4ae4116"
      },
      "outputs": [
        {
          "name": "stdout",
          "output_type": "stream",
          "text": [
            "2550\n"
          ]
        }
      ],
      "source": [
        "n=2\n",
        "sum=0\n",
        "while n<=100:\n",
        "    sum+=n\n",
        "    n+=2\n",
        "print(sum)\n",
        ""
      ]
    },
    {
      "cell_type": "code",
      "execution_count": null,
      "id": "deb072af-c526-4580-9885-84633018262a",
      "metadata": {
        "id": "deb072af-c526-4580-9885-84633018262a",
        "outputId": "02dc3a08-b435-4fea-a9ed-cbd0d87a32e4"
      },
      "outputs": [
        {
          "name": "stdin",
          "output_type": "stream",
          "text": [
            "enter the string hey\n"
          ]
        },
        {
          "name": "stdout",
          "output_type": "stream",
          "text": [
            "1\n"
          ]
        }
      ],
      "source": [
        "var=input(\"enter the string\")\n",
        "vowels='a e i o u'\n",
        "count=0\n",
        "for i in var:\n",
        "    if i in vowels:\n",
        "        count+=1\n",
        "print(count)"
      ]
    },
    {
      "cell_type": "code",
      "execution_count": null,
      "id": "8e5cb7ce-6fc0-43d6-ab1e-677aab616778",
      "metadata": {
        "id": "8e5cb7ce-6fc0-43d6-ab1e-677aab616778"
      },
      "outputs": [],
      "source": [
        "def sum(a,b):\n",
        "    c=a+b\n",
        "    return c"
      ]
    },
    {
      "cell_type": "code",
      "execution_count": null,
      "id": "9bcf42ad-007d-42d2-b074-a76ccca8a8e2",
      "metadata": {
        "id": "9bcf42ad-007d-42d2-b074-a76ccca8a8e2",
        "outputId": "8b9306d5-b637-44db-fc60-b212564525fd"
      },
      "outputs": [
        {
          "name": "stdout",
          "output_type": "stream",
          "text": [
            "11\n"
          ]
        }
      ],
      "source": [
        "def sum(a=5,b=10):\n",
        "    c=a+b\n",
        "    return c\n",
        "print(c)"
      ]
    },
    {
      "cell_type": "code",
      "execution_count": null,
      "id": "9c220dad-0669-4285-aa2a-3f05e0cc3fbc",
      "metadata": {
        "id": "9c220dad-0669-4285-aa2a-3f05e0cc3fbc"
      },
      "outputs": [],
      "source": [
        "def summ(*args):\n",
        "    return sum(args)"
      ]
    },
    {
      "cell_type": "code",
      "execution_count": null,
      "id": "5cdcd7b1-bc4a-4aac-8545-95d81a8c5ced",
      "metadata": {
        "id": "5cdcd7b1-bc4a-4aac-8545-95d81a8c5ced",
        "outputId": "623328e6-66a1-4701-defb-0424536b9ea6"
      },
      "outputs": [
        {
          "name": "stdin",
          "output_type": "stream",
          "text": [
            " 5\n"
          ]
        },
        {
          "name": "stdout",
          "output_type": "stream",
          "text": [
            "25 125\n"
          ]
        }
      ],
      "source": [
        "def square_cube(n):\n",
        "    return n**2 ,n**3\n",
        "n=int(input())\n",
        "print(n**2 ,n**3)"
      ]
    },
    {
      "cell_type": "code",
      "execution_count": null,
      "id": "76157b95-69ed-4a1f-ae3b-5c7a904874f9",
      "metadata": {
        "id": "76157b95-69ed-4a1f-ae3b-5c7a904874f9",
        "outputId": "f6dc6067-8b9d-46c6-aace-e9943d2c6922"
      },
      "outputs": [
        {
          "name": "stdin",
          "output_type": "stream",
          "text": [
            " 3\n"
          ]
        },
        {
          "name": "stdout",
          "output_type": "stream",
          "text": [
            "6\n"
          ]
        }
      ],
      "source": [
        "def factorial(n):\n",
        "    if n == 0 or n == 1:\n",
        "        return 1\n",
        "    else:\n",
        "        fact=n * factorial(n - 1)\n",
        "        return fact\n",
        "n=int(input())\n",
        "print(factorial(n))"
      ]
    },
    {
      "cell_type": "code",
      "execution_count": null,
      "id": "44e9d9e8-2a50-4718-b158-71b8f0c1e54e",
      "metadata": {
        "id": "44e9d9e8-2a50-4718-b158-71b8f0c1e54e",
        "outputId": "96989b7c-ea5f-4354-bcd3-163ee7094ed8"
      },
      "outputs": [
        {
          "name": "stdout",
          "output_type": "stream",
          "text": [
            "*extensions*\n",
            "\n",
            "vscode-icons\n",
            "\n",
            "dev containers\n",
            "\n",
            "angular language service\n",
            "\n",
            "docker\n",
            "\n",
            "GitHub actions\n",
            "\n",
            "hide comments\n",
            "\n",
            "jellyfish(theme)\n",
            "\n",
            "live sass compiler\n",
            "\n",
            "live server\n",
            "\n",
            "one dark pro(theme)\n",
            "\n",
            "oracle sql developer extension\n",
            "\n",
            "prettier-code formatter\n",
            "\n",
            "pylance\n",
            "\n",
            "python\n",
            "\n",
            "python debugger\n",
            "\n",
            "rainbow CSV\n",
            "\n",
            "vue-official\n"
          ]
        }
      ],
      "source": [
        "filename=r\"C:\\Users\\samee\\OneDrive\\Desktop\\extensions.txt\"\n",
        "with open(filename) as file_object:\n",
        "    lines=file_object.readlines()\n",
        "\n",
        "for line in lines:\n",
        "    print(line)"
      ]
    },
    {
      "cell_type": "code",
      "execution_count": null,
      "id": "ea571621-13b5-4312-ba5e-28ad3b41ebb6",
      "metadata": {
        "id": "ea571621-13b5-4312-ba5e-28ad3b41ebb6",
        "outputId": "43d4280e-3c75-43d0-d6e2-3ee224ad8b89"
      },
      "outputs": [
        {
          "name": "stdout",
          "output_type": "stream",
          "text": [
            "Number of lines: 18\n"
          ]
        }
      ],
      "source": [
        "with open(filename, 'r') as file:\n",
        "    lines = file.readlines()\n",
        "    print(\"Number of lines:\", len(lines))\n"
      ]
    },
    {
      "cell_type": "code",
      "execution_count": null,
      "id": "c0f44286-5f44-4abc-b05e-0e25c624c766",
      "metadata": {
        "id": "c0f44286-5f44-4abc-b05e-0e25c624c766",
        "outputId": "8f29aea4-a660-4249-95d3-94aceed20f00"
      },
      "outputs": [
        {
          "name": "stdout",
          "output_type": "stream",
          "text": [
            "Number of words: 34\n"
          ]
        }
      ],
      "source": [
        "with open(filename, 'r') as file:\n",
        "    words=0\n",
        "    for line in file:\n",
        "        words+=len(line.split())\n",
        "print(\"Number of words:\", words)"
      ]
    },
    {
      "cell_type": "code",
      "execution_count": null,
      "id": "c107af3e-2ac6-45c0-8ca0-37ff0c6c1c13",
      "metadata": {
        "id": "c107af3e-2ac6-45c0-8ca0-37ff0c6c1c13"
      },
      "outputs": [],
      "source": [
        "with open(filename,'w') as file:\n",
        "    file.write(\"Hello, this is a file containing multiple lines\")"
      ]
    },
    {
      "cell_type": "code",
      "execution_count": null,
      "id": "00a3616e-bc37-4fe0-81e3-0b0fd0f740b7",
      "metadata": {
        "id": "00a3616e-bc37-4fe0-81e3-0b0fd0f740b7"
      },
      "outputs": [],
      "source": [
        "with open(filename,'a') as file:\n",
        "    file.write(\"This file is created by sameera\")"
      ]
    },
    {
      "cell_type": "code",
      "execution_count": null,
      "id": "8de89ffb-7eb2-480a-a643-6beadd743fcf",
      "metadata": {
        "id": "8de89ffb-7eb2-480a-a643-6beadd743fcf",
        "outputId": "79625ddf-4101-4015-f57c-7feae8605210"
      },
      "outputs": [
        {
          "name": "stdin",
          "output_type": "stream",
          "text": [
            "enter a value 5\n",
            "enter b value 0\n"
          ]
        },
        {
          "name": "stdout",
          "output_type": "stream",
          "text": [
            "Division by zero is not allowed.\n"
          ]
        }
      ],
      "source": [
        "a=int(input(\"enter a value\"))\n",
        "b=int(input(\"enter b value\"))\n",
        "try:\n",
        "    result=a/b\n",
        "    print(result)\n",
        "except ZeroDivisionError:\n",
        "    print(\"Division by zero is not allowed.\")"
      ]
    },
    {
      "cell_type": "code",
      "execution_count": null,
      "id": "10cda933-af1a-4e1f-8f0f-61edcc3d8d07",
      "metadata": {
        "id": "10cda933-af1a-4e1f-8f0f-61edcc3d8d07",
        "outputId": "7a8267a8-4761-4560-a897-6e997da62d73"
      },
      "outputs": [
        {
          "name": "stdout",
          "output_type": "stream",
          "text": [
            "File not Found\n"
          ]
        }
      ],
      "source": [
        "try:\n",
        "    with open(\"sameera\",'r')as file:\n",
        "        content=file.read()\n",
        "except FileNotFoundError:\n",
        "    print(\"File not Found\")"
      ]
    },
    {
      "cell_type": "code",
      "execution_count": null,
      "id": "cdf6deea-e8ce-499e-87bf-36df63d39d77",
      "metadata": {
        "id": "cdf6deea-e8ce-499e-87bf-36df63d39d77",
        "outputId": "2e9b7470-1a50-4395-b21b-64e9ba663927"
      },
      "outputs": [
        {
          "name": "stdin",
          "output_type": "stream",
          "text": [
            " -9\n"
          ]
        },
        {
          "name": "stdout",
          "output_type": "stream",
          "text": [
            "input is negative\n"
          ]
        }
      ],
      "source": [
        "try:\n",
        "    a=int(input())\n",
        "    if a<0:\n",
        "        print(\"input is negative\")\n",
        "except valueerror:\n",
        "    print(a)\n",
        ""
      ]
    },
    {
      "cell_type": "code",
      "execution_count": null,
      "id": "dd531f52-0ebb-4e8a-ad28-c1d3383f63e2",
      "metadata": {
        "id": "dd531f52-0ebb-4e8a-ad28-c1d3383f63e2",
        "outputId": "09711a28-a3d8-4c31-85d4-ed4f9f51094d"
      },
      "outputs": [
        {
          "name": "stdout",
          "output_type": "stream",
          "text": [
            "Hello, this is a file containing multiple linesThis file is created by sameera\n",
            "file has been closed\n"
          ]
        }
      ],
      "source": [
        "try:\n",
        "    file=open(r\"C:\\Users\\samee\\OneDrive\\Desktop\\extensions.txt\",'r')\n",
        "    content=file.read()\n",
        "    print(content)\n",
        "except FileNotFoundError:\n",
        "    print(\"Error\")\n",
        "finally:\n",
        "    file.close()\n",
        "    print(\"file has been closed\")"
      ]
    },
    {
      "cell_type": "code",
      "execution_count": null,
      "id": "57492bd8-f0ca-4afb-8aae-1c633215ddfc",
      "metadata": {
        "id": "57492bd8-f0ca-4afb-8aae-1c633215ddfc",
        "outputId": "0d956b5c-8e10-44c8-ae89-225dc2338879"
      },
      "outputs": [
        {
          "data": {
            "text/plain": [
              "4.0"
            ]
          },
          "execution_count": 155,
          "metadata": {},
          "output_type": "execute_result"
        }
      ],
      "source": [
        "math.sqrt(16)"
      ]
    },
    {
      "cell_type": "code",
      "execution_count": null,
      "id": "d10d07e4-963b-4bcd-a0f7-6dea77ab06fb",
      "metadata": {
        "id": "d10d07e4-963b-4bcd-a0f7-6dea77ab06fb",
        "outputId": "c6824029-41d5-4e71-fea5-79cc7624b61a"
      },
      "outputs": [
        {
          "name": "stdin",
          "output_type": "stream",
          "text": [
            " 90\n"
          ]
        },
        {
          "name": "stdout",
          "output_type": "stream",
          "text": [
            "sin 90 = 1.0\n",
            "cos 90 = 6.123233995736766e-17\n"
          ]
        }
      ],
      "source": [
        "n=int(input())\n",
        "sine=math.sin(math.radians(n))\n",
        "cosine=math.cos(math.radians(n))\n",
        "print(\"sin\",n,\"=\",sine)\n",
        "print(\"cos\",n,\"=\",cosine)"
      ]
    },
    {
      "cell_type": "code",
      "execution_count": null,
      "id": "5fd38392-f165-4b65-97e8-cc69eeb53c9f",
      "metadata": {
        "id": "5fd38392-f165-4b65-97e8-cc69eeb53c9f",
        "outputId": "872936d8-0950-48f2-c9c6-bdecf644f5a3"
      },
      "outputs": [
        {
          "name": "stdout",
          "output_type": "stream",
          "text": [
            "66\n",
            "49\n",
            "41\n",
            "23\n",
            "50\n",
            "36\n",
            "68\n",
            "77\n",
            "46\n",
            "1\n"
          ]
        }
      ],
      "source": [
        "for i in range(10):\n",
        "    print(random.randint(1,100))"
      ]
    },
    {
      "cell_type": "code",
      "execution_count": null,
      "id": "b36fde0e-0c52-4d6e-80a2-ccebb0348be3",
      "metadata": {
        "id": "b36fde0e-0c52-4d6e-80a2-ccebb0348be3",
        "outputId": "a128bc9c-7a06-4e9f-9f12-7792149b2c98"
      },
      "outputs": [
        {
          "name": "stdout",
          "output_type": "stream",
          "text": [
            "[ 1  2  3  4  5  6  7  8  9 10]\n"
          ]
        }
      ],
      "source": [
        "import numpy as np\n",
        "arr=np.arange(1,11)\n",
        "print(arr)"
      ]
    },
    {
      "cell_type": "code",
      "execution_count": null,
      "id": "c2b500de-b2ac-4e77-861f-835f81f07212",
      "metadata": {
        "id": "c2b500de-b2ac-4e77-861f-835f81f07212",
        "outputId": "26e678ad-3c2f-411d-e7c3-7491f66fd8fb"
      },
      "outputs": [
        {
          "name": "stdout",
          "output_type": "stream",
          "text": [
            "[[0. 0. 0.]\n",
            " [0. 0. 0.]\n",
            " [0. 0. 0.]]\n"
          ]
        }
      ],
      "source": [
        "matrix=np.zeros((3,3))\n",
        "print(matrix)"
      ]
    },
    {
      "cell_type": "code",
      "execution_count": null,
      "id": "401a00bd-b75c-4d8b-ab6a-f703e1064a10",
      "metadata": {
        "id": "401a00bd-b75c-4d8b-ab6a-f703e1064a10",
        "outputId": "b312ec7b-bf27-4291-f207-e5c1c8a39984"
      },
      "outputs": [
        {
          "data": {
            "text/plain": [
              "array([[1., 0., 0.],\n",
              "       [0., 1., 0.],\n",
              "       [0., 0., 1.]])"
            ]
          },
          "execution_count": 188,
          "metadata": {},
          "output_type": "execute_result"
        }
      ],
      "source": [
        "np.identity(3)"
      ]
    },
    {
      "cell_type": "code",
      "execution_count": null,
      "id": "e0d0e589-46c4-4314-925a-3f4dd401da39",
      "metadata": {
        "id": "e0d0e589-46c4-4314-925a-3f4dd401da39",
        "outputId": "982fdc16-9557-42eb-a342-8491bc339d41"
      },
      "outputs": [
        {
          "name": "stdout",
          "output_type": "stream",
          "text": [
            "[[1 2 3]\n",
            " [4 5 6]\n",
            " [7 8 9]]\n"
          ]
        }
      ],
      "source": [
        "print(arr[:9].reshape(3,3))"
      ]
    },
    {
      "cell_type": "code",
      "execution_count": null,
      "id": "bcc7bc4d-c5cd-4cd3-b92d-e952569cd9d1",
      "metadata": {
        "id": "bcc7bc4d-c5cd-4cd3-b92d-e952569cd9d1",
        "outputId": "aca246e8-6132-4059-9ba8-ec93974cf1b5"
      },
      "outputs": [
        {
          "name": "stdout",
          "output_type": "stream",
          "text": [
            "[17 30 40 27 35] \n",
            " [ -7 -16 -28 -23 -17] \n",
            " [ 60 161 204  50 234]\n"
          ]
        }
      ],
      "source": [
        "arr1=np.array([5,7,6,2,9])\n",
        "arr2=np.array([12,23,34,25,26])\n",
        "sumarr=arr1+arr2\n",
        "diff=arr1-arr2\n",
        "mul=arr1*arr2\n",
        "print(sumarr, \"\\n\",diff, \"\\n\",mul)"
      ]
    },
    {
      "cell_type": "code",
      "execution_count": null,
      "id": "9c9b879a-a391-4e48-94f0-77b5288a64a8",
      "metadata": {
        "id": "9c9b879a-a391-4e48-94f0-77b5288a64a8",
        "outputId": "3cb0db6c-a697-4925-c246-c9283c543231"
      },
      "outputs": [
        {
          "name": "stdout",
          "output_type": "stream",
          "text": [
            "max: 9\n",
            "min: 5\n",
            "mean: 6.75\n"
          ]
        }
      ],
      "source": [
        "import numpy as np\n",
        "array=np.array([5,6,7,9])\n",
        "print(\"max:\",max(array))\n",
        "print(\"min:\",min(array))\n",
        "print(\"mean:\",array.mean())"
      ]
    },
    {
      "cell_type": "code",
      "execution_count": null,
      "id": "0be706e6-8ba3-496b-9be6-d5558b064260",
      "metadata": {
        "id": "0be706e6-8ba3-496b-9be6-d5558b064260",
        "outputId": "b73ea86a-ae55-47b2-d0ca-15989dd84a72"
      },
      "outputs": [
        {
          "name": "stdout",
          "output_type": "stream",
          "text": [
            "[5 7 6]\n"
          ]
        }
      ],
      "source": [
        "print(arr1[:3])"
      ]
    },
    {
      "cell_type": "code",
      "execution_count": null,
      "id": "92a4e5da-841d-4f24-b5d6-8ca2b9fee682",
      "metadata": {
        "id": "92a4e5da-841d-4f24-b5d6-8ca2b9fee682",
        "outputId": "b4629352-7dc2-4ba9-9c8f-31c1965dca88"
      },
      "outputs": [
        {
          "name": "stdout",
          "output_type": "stream",
          "text": [
            "0    10\n",
            "1    20\n",
            "2    30\n",
            "3    40\n",
            "4    50\n",
            "dtype: int64\n"
          ]
        }
      ],
      "source": [
        "import pandas as pd\n",
        "data=[10,20,30,40,50]\n",
        "series=pd.Series(data)\n",
        "print(series)"
      ]
    },
    {
      "cell_type": "code",
      "execution_count": null,
      "id": "e6e2b4ea-b8af-4dff-a5e4-4df581be5319",
      "metadata": {
        "scrolled": true,
        "id": "e6e2b4ea-b8af-4dff-a5e4-4df581be5319",
        "outputId": "c133980b-092d-4208-c96d-12511b1a2189"
      },
      "outputs": [
        {
          "name": "stdout",
          "output_type": "stream",
          "text": [
            "     name  age\n",
            "0     anu   25\n",
            "1     ali   30\n",
            "2  chintu   61\n"
          ]
        }
      ],
      "source": [
        "dict={\"name\":[\"anu\",\"ali\",\"chintu\"],\n",
        "      \"age\":[25,30,61]}\n",
        "df=pd.DataFrame(dict)\n",
        "print(df)"
      ]
    },
    {
      "cell_type": "code",
      "execution_count": null,
      "id": "76375caa-1a39-4b48-93a6-d8173330c410",
      "metadata": {
        "id": "76375caa-1a39-4b48-93a6-d8173330c410",
        "outputId": "5e9b9a76-015e-48fe-d3b4-135eeed42fae"
      },
      "outputs": [
        {
          "name": "stdout",
          "output_type": "stream",
          "text": [
            "    SID      name course  contact number\n",
            "0  2121       ant    CSE             122\n",
            "1  2122        at    ECE             123\n",
            "2  2123       cat    CSE             124\n",
            "3  2124       dog    ECE             125\n",
            "4  2125  elephant    EEE             126\n",
            "5  2126      fish    EEE             127\n",
            "6  2127      goat    CSE             128\n",
            "7  2128     horse    ECE             129\n"
          ]
        }
      ],
      "source": [
        "csv_f=pd.read_csv(r\"C:\\Users\\samee\\OneDrive\\Desktop\\academics\\2-1\\AIML\\student.csv\")\n",
        "print(csv_f)"
      ]
    },
    {
      "cell_type": "code",
      "execution_count": null,
      "id": "7449010a-cc4c-415f-9802-ad26d61d23c6",
      "metadata": {
        "id": "7449010a-cc4c-415f-9802-ad26d61d23c6",
        "outputId": "9cf58443-d1a8-4dff-e62c-1be978ab4638"
      },
      "outputs": [
        {
          "name": "stdout",
          "output_type": "stream",
          "text": [
            "    SID      name course  contact number\n",
            "0  2121       ant    CSE             122\n",
            "1  2122        at    ECE             123\n",
            "2  2123       cat    CSE             124\n",
            "3  2124       dog    ECE             125\n",
            "4  2125  elephant    EEE             126\n"
          ]
        }
      ],
      "source": [
        "print(csv_f.head())"
      ]
    },
    {
      "cell_type": "code",
      "execution_count": null,
      "id": "a81a11fc-617c-4e5a-863f-fe9ef52160a7",
      "metadata": {
        "id": "a81a11fc-617c-4e5a-863f-fe9ef52160a7",
        "outputId": "e29995f1-ba36-4690-b2f1-03230179d39d"
      },
      "outputs": [
        {
          "ename": "KeyError",
          "evalue": "'SID'",
          "output_type": "error",
          "traceback": [
            "\u001b[1;31m---------------------------------------------------------------------------\u001b[0m",
            "\u001b[1;31mKeyError\u001b[0m                                  Traceback (most recent call last)",
            "File \u001b[1;32m~\\anaconda3\\Lib\\site-packages\\pandas\\core\\indexes\\base.py:3805\u001b[0m, in \u001b[0;36mIndex.get_loc\u001b[1;34m(self, key)\u001b[0m\n\u001b[0;32m   3804\u001b[0m \u001b[38;5;28;01mtry\u001b[39;00m:\n\u001b[1;32m-> 3805\u001b[0m     \u001b[38;5;28;01mreturn\u001b[39;00m \u001b[38;5;28mself\u001b[39m\u001b[38;5;241m.\u001b[39m_engine\u001b[38;5;241m.\u001b[39mget_loc(casted_key)\n\u001b[0;32m   3806\u001b[0m \u001b[38;5;28;01mexcept\u001b[39;00m \u001b[38;5;167;01mKeyError\u001b[39;00m \u001b[38;5;28;01mas\u001b[39;00m err:\n",
            "File \u001b[1;32mindex.pyx:167\u001b[0m, in \u001b[0;36mpandas._libs.index.IndexEngine.get_loc\u001b[1;34m()\u001b[0m\n",
            "File \u001b[1;32mindex.pyx:196\u001b[0m, in \u001b[0;36mpandas._libs.index.IndexEngine.get_loc\u001b[1;34m()\u001b[0m\n",
            "File \u001b[1;32mpandas\\\\_libs\\\\hashtable_class_helper.pxi:7081\u001b[0m, in \u001b[0;36mpandas._libs.hashtable.PyObjectHashTable.get_item\u001b[1;34m()\u001b[0m\n",
            "File \u001b[1;32mpandas\\\\_libs\\\\hashtable_class_helper.pxi:7089\u001b[0m, in \u001b[0;36mpandas._libs.hashtable.PyObjectHashTable.get_item\u001b[1;34m()\u001b[0m\n",
            "\u001b[1;31mKeyError\u001b[0m: 'SID'",
            "\nThe above exception was the direct cause of the following exception:\n",
            "\u001b[1;31mKeyError\u001b[0m                                  Traceback (most recent call last)",
            "Cell \u001b[1;32mIn[14], line 1\u001b[0m\n\u001b[1;32m----> 1\u001b[0m mean\u001b[38;5;241m=\u001b[39mdf[\u001b[38;5;124m'\u001b[39m\u001b[38;5;124mSID\u001b[39m\u001b[38;5;124m'\u001b[39m]\u001b[38;5;241m.\u001b[39mmean()\n\u001b[0;32m      2\u001b[0m \u001b[38;5;28mprint\u001b[39m(mean)\n",
            "File \u001b[1;32m~\\anaconda3\\Lib\\site-packages\\pandas\\core\\frame.py:4102\u001b[0m, in \u001b[0;36mDataFrame.__getitem__\u001b[1;34m(self, key)\u001b[0m\n\u001b[0;32m   4100\u001b[0m \u001b[38;5;28;01mif\u001b[39;00m \u001b[38;5;28mself\u001b[39m\u001b[38;5;241m.\u001b[39mcolumns\u001b[38;5;241m.\u001b[39mnlevels \u001b[38;5;241m>\u001b[39m \u001b[38;5;241m1\u001b[39m:\n\u001b[0;32m   4101\u001b[0m     \u001b[38;5;28;01mreturn\u001b[39;00m \u001b[38;5;28mself\u001b[39m\u001b[38;5;241m.\u001b[39m_getitem_multilevel(key)\n\u001b[1;32m-> 4102\u001b[0m indexer \u001b[38;5;241m=\u001b[39m \u001b[38;5;28mself\u001b[39m\u001b[38;5;241m.\u001b[39mcolumns\u001b[38;5;241m.\u001b[39mget_loc(key)\n\u001b[0;32m   4103\u001b[0m \u001b[38;5;28;01mif\u001b[39;00m is_integer(indexer):\n\u001b[0;32m   4104\u001b[0m     indexer \u001b[38;5;241m=\u001b[39m [indexer]\n",
            "File \u001b[1;32m~\\anaconda3\\Lib\\site-packages\\pandas\\core\\indexes\\base.py:3812\u001b[0m, in \u001b[0;36mIndex.get_loc\u001b[1;34m(self, key)\u001b[0m\n\u001b[0;32m   3807\u001b[0m     \u001b[38;5;28;01mif\u001b[39;00m \u001b[38;5;28misinstance\u001b[39m(casted_key, \u001b[38;5;28mslice\u001b[39m) \u001b[38;5;129;01mor\u001b[39;00m (\n\u001b[0;32m   3808\u001b[0m         \u001b[38;5;28misinstance\u001b[39m(casted_key, abc\u001b[38;5;241m.\u001b[39mIterable)\n\u001b[0;32m   3809\u001b[0m         \u001b[38;5;129;01mand\u001b[39;00m \u001b[38;5;28many\u001b[39m(\u001b[38;5;28misinstance\u001b[39m(x, \u001b[38;5;28mslice\u001b[39m) \u001b[38;5;28;01mfor\u001b[39;00m x \u001b[38;5;129;01min\u001b[39;00m casted_key)\n\u001b[0;32m   3810\u001b[0m     ):\n\u001b[0;32m   3811\u001b[0m         \u001b[38;5;28;01mraise\u001b[39;00m InvalidIndexError(key)\n\u001b[1;32m-> 3812\u001b[0m     \u001b[38;5;28;01mraise\u001b[39;00m \u001b[38;5;167;01mKeyError\u001b[39;00m(key) \u001b[38;5;28;01mfrom\u001b[39;00m \u001b[38;5;21;01merr\u001b[39;00m\n\u001b[0;32m   3813\u001b[0m \u001b[38;5;28;01mexcept\u001b[39;00m \u001b[38;5;167;01mTypeError\u001b[39;00m:\n\u001b[0;32m   3814\u001b[0m     \u001b[38;5;66;03m# If we have a listlike key, _check_indexing_error will raise\u001b[39;00m\n\u001b[0;32m   3815\u001b[0m     \u001b[38;5;66;03m#  InvalidIndexError. Otherwise we fall through and re-raise\u001b[39;00m\n\u001b[0;32m   3816\u001b[0m     \u001b[38;5;66;03m#  the TypeError.\u001b[39;00m\n\u001b[0;32m   3817\u001b[0m     \u001b[38;5;28mself\u001b[39m\u001b[38;5;241m.\u001b[39m_check_indexing_error(key)\n",
            "\u001b[1;31mKeyError\u001b[0m: 'SID'"
          ]
        }
      ],
      "source": [
        "mean=df['SID'].mean()\n",
        "print(mean)"
      ]
    },
    {
      "cell_type": "code",
      "execution_count": null,
      "id": "6a2c8b45-e9b0-4fd2-bd70-914a11395e3d",
      "metadata": {
        "id": "6a2c8b45-e9b0-4fd2-bd70-914a11395e3d"
      },
      "outputs": [],
      "source": []
    }
  ],
  "metadata": {
    "kernelspec": {
      "display_name": "Python [conda env:base] *",
      "language": "python",
      "name": "conda-base-py"
    },
    "language_info": {
      "codemirror_mode": {
        "name": "ipython",
        "version": 3
      },
      "file_extension": ".py",
      "mimetype": "text/x-python",
      "name": "python",
      "nbconvert_exporter": "python",
      "pygments_lexer": "ipython3",
      "version": "3.12.7"
    },
    "colab": {
      "provenance": [],
      "include_colab_link": true
    }
  },
  "nbformat": 4,
  "nbformat_minor": 5
}